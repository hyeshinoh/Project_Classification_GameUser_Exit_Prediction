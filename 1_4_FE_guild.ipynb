{
 "cells": [
  {
   "cell_type": "markdown",
   "metadata": {
    "colab_type": "text",
    "id": "iK13zZ0SBpxX"
   },
   "source": [
    "# Guild 관련 feature engineering"
   ]
  },
  {
   "cell_type": "code",
   "execution_count": 40,
   "metadata": {},
   "outputs": [],
   "source": [
    "from itertools import chain\n",
    "from tqdm import trange\n",
    "from tqdm import tqdm\n",
    "import pickle"
   ]
  },
  {
   "cell_type": "markdown",
   "metadata": {},
   "source": [
    "# Train"
   ]
  },
  {
   "cell_type": "code",
   "execution_count": 2,
   "metadata": {
    "colab": {},
    "colab_type": "code",
    "id": "ht0GMbedBpxb"
   },
   "outputs": [],
   "source": [
    "label = pd.read_csv(\"../data/train_label.csv\")\n",
    "guild = pd.read_csv(\"../data/train_guild.csv\")"
   ]
  },
  {
   "cell_type": "code",
   "execution_count": 3,
   "metadata": {
    "colab": {},
    "colab_type": "code",
    "id": "_vKbgWNQBpxm",
    "outputId": "a73d6592-eb6d-4848-c6c8-b4887bf82925",
    "scrolled": true
   },
   "outputs": [
    {
     "name": "stdout",
     "output_type": "stream",
     "text": [
      "(9963, 2)\n"
     ]
    },
    {
     "data": {
      "text/html": [
       "<div>\n",
       "<style scoped>\n",
       "    .dataframe tbody tr th:only-of-type {\n",
       "        vertical-align: middle;\n",
       "    }\n",
       "\n",
       "    .dataframe tbody tr th {\n",
       "        vertical-align: top;\n",
       "    }\n",
       "\n",
       "    .dataframe thead th {\n",
       "        text-align: right;\n",
       "    }\n",
       "</style>\n",
       "<table border=\"1\" class=\"dataframe\">\n",
       "  <thead>\n",
       "    <tr style=\"text-align: right;\">\n",
       "      <th></th>\n",
       "      <th>guild_id</th>\n",
       "      <th>guild_member_acc_id</th>\n",
       "    </tr>\n",
       "  </thead>\n",
       "  <tbody>\n",
       "    <tr>\n",
       "      <th>9958</th>\n",
       "      <td>ffe917cf662e746a7491fb55f16151a0f4eff5500b579b...</td>\n",
       "      <td>94eaba795aca5ce53ccbcb8ccf2af788f679f321fd61b3...</td>\n",
       "    </tr>\n",
       "    <tr>\n",
       "      <th>9959</th>\n",
       "      <td>ffef2c8316f9aa8e6a29ecd1a0b099bc6f86d4d2048580...</td>\n",
       "      <td>05cd824a467cfc9f8f194c32f735ff52dde8dd898ca532...</td>\n",
       "    </tr>\n",
       "    <tr>\n",
       "      <th>9960</th>\n",
       "      <td>ffef446457c4986c7597f680310b347960dfb995a97a1e...</td>\n",
       "      <td>94b8fcf1968f509278e51d7a75e9d22eae0a1d865d9779...</td>\n",
       "    </tr>\n",
       "    <tr>\n",
       "      <th>9961</th>\n",
       "      <td>fff2c28b1a1f521eda51809a0568153858dc60b976c291...</td>\n",
       "      <td>293df374edf169385fda206bb90825753186cb0ed65886...</td>\n",
       "    </tr>\n",
       "    <tr>\n",
       "      <th>9962</th>\n",
       "      <td>fff5ac3748f18e39c87b31cb52d00b37b4aa205a2b0845...</td>\n",
       "      <td>557f99b8568c83dcf0b6d32f401fbb40b747e1c977b1cb...</td>\n",
       "    </tr>\n",
       "  </tbody>\n",
       "</table>\n",
       "</div>"
      ],
      "text/plain": [
       "                                               guild_id  \\\n",
       "9958  ffe917cf662e746a7491fb55f16151a0f4eff5500b579b...   \n",
       "9959  ffef2c8316f9aa8e6a29ecd1a0b099bc6f86d4d2048580...   \n",
       "9960  ffef446457c4986c7597f680310b347960dfb995a97a1e...   \n",
       "9961  fff2c28b1a1f521eda51809a0568153858dc60b976c291...   \n",
       "9962  fff5ac3748f18e39c87b31cb52d00b37b4aa205a2b0845...   \n",
       "\n",
       "                                    guild_member_acc_id  \n",
       "9958  94eaba795aca5ce53ccbcb8ccf2af788f679f321fd61b3...  \n",
       "9959  05cd824a467cfc9f8f194c32f735ff52dde8dd898ca532...  \n",
       "9960  94b8fcf1968f509278e51d7a75e9d22eae0a1d865d9779...  \n",
       "9961  293df374edf169385fda206bb90825753186cb0ed65886...  \n",
       "9962  557f99b8568c83dcf0b6d32f401fbb40b747e1c977b1cb...  "
      ]
     },
     "execution_count": 3,
     "metadata": {},
     "output_type": "execute_result"
    }
   ],
   "source": [
    "print(guild.shape)\n",
    "guild.tail()"
   ]
  },
  {
   "cell_type": "markdown",
   "metadata": {
    "colab_type": "text",
    "id": "TkTdAT6BBpx0"
   },
   "source": [
    "## 1. guild count (id 당 guild 참여 횟수) 변수 생성"
   ]
  },
  {
   "cell_type": "markdown",
   "metadata": {},
   "source": [
    "- guild_member_acc_id에서 예측 대상 유저 id를 추출하여 유저가 몇 개의 guild에 가입되었는지 변수 생성"
   ]
  },
  {
   "cell_type": "markdown",
   "metadata": {
    "colab_type": "text",
    "id": "4BjtUn0yBpx3"
   },
   "source": [
    "### 1) guild member acc id 전체를 리스트로 만들기"
   ]
  },
  {
   "cell_type": "code",
   "execution_count": 24,
   "metadata": {
    "colab": {},
    "colab_type": "code",
    "id": "TppJeg-TBpx6",
    "outputId": "66523b30-a026-41d6-8362-bb2c9e4ab69d"
   },
   "outputs": [
    {
     "name": "stdout",
     "output_type": "stream",
     "text": [
      "CPU times: user 21.5 ms, sys: 4.33 ms, total: 25.8 ms\n",
      "Wall time: 24.8 ms\n"
     ]
    }
   ],
   "source": [
    "%%time\n",
    "guild_acc_id = guild[\"guild_member_acc_id\"].tolist()\n",
    "guild_acc_id = [x.split(',') for x in guild_acc_id]\n",
    "guild_id_list = [item for sublist in guild_acc_id for item in sublist]"
   ]
  },
  {
   "cell_type": "code",
   "execution_count": 25,
   "metadata": {
    "colab": {},
    "colab_type": "code",
    "id": "I9_JSH8yBpyJ",
    "outputId": "2e113d9b-a187-42cf-e7e7-3b67f28b0d4d"
   },
   "outputs": [
    {
     "data": {
      "text/plain": [
       "62529"
      ]
     },
     "execution_count": 25,
     "metadata": {},
     "output_type": "execute_result"
    }
   ],
   "source": [
    "len(guild_id_list)"
   ]
  },
  {
   "cell_type": "code",
   "execution_count": 26,
   "metadata": {
    "colab": {},
    "colab_type": "code",
    "id": "WTL8TjSvBpyj",
    "outputId": "f6e18a23-e3c6-4b2c-f6e6-43692af5001e"
   },
   "outputs": [
    {
     "data": {
      "text/plain": [
       "40836"
      ]
     },
     "execution_count": 26,
     "metadata": {},
     "output_type": "execute_result"
    }
   ],
   "source": [
    "len(list(set(guild_id_list)))"
   ]
  },
  {
   "cell_type": "markdown",
   "metadata": {
    "colab_type": "text",
    "id": "XUnNSzfOBpyx"
   },
   "source": [
    "### 2) train acc_id당 guild_count(길드 참여횟수) 변수 생성"
   ]
  },
  {
   "cell_type": "code",
   "execution_count": 27,
   "metadata": {
    "colab": {},
    "colab_type": "code",
    "id": "wu1pjg3gBpyy",
    "outputId": "ca3644d2-4e88-43b2-bd2a-78590e0ec1c5"
   },
   "outputs": [
    {
     "name": "stdout",
     "output_type": "stream",
     "text": [
      "CPU times: user 130 ms, sys: 9.43 ms, total: 140 ms\n",
      "Wall time: 139 ms\n"
     ]
    }
   ],
   "source": [
    "%%time\n",
    "df_guild_id = pd.DataFrame(guild_id_list, columns=[\"acc_id\"])\n",
    "df_guild_id = df_guild_id.groupby('acc_id').size().reset_index(name='guild_counts')\n",
    "guild_1 = pd.merge(guild_1, df_guild_id, how='left')\n",
    "guild_1[\"guild_counts\"] = guild_1[\"guild_counts\"].fillna(0)"
   ]
  },
  {
   "cell_type": "code",
   "execution_count": 28,
   "metadata": {
    "colab": {},
    "colab_type": "code",
    "id": "X_lpjUEBBpzE",
    "outputId": "1a754218-3e4e-4cfa-eb78-df843f4a2acb"
   },
   "outputs": [
    {
     "data": {
      "text/html": [
       "<div>\n",
       "<style scoped>\n",
       "    .dataframe tbody tr th:only-of-type {\n",
       "        vertical-align: middle;\n",
       "    }\n",
       "\n",
       "    .dataframe tbody tr th {\n",
       "        vertical-align: top;\n",
       "    }\n",
       "\n",
       "    .dataframe thead th {\n",
       "        text-align: right;\n",
       "    }\n",
       "</style>\n",
       "<table border=\"1\" class=\"dataframe\">\n",
       "  <thead>\n",
       "    <tr style=\"text-align: right;\">\n",
       "      <th></th>\n",
       "      <th>acc_id</th>\n",
       "      <th>label</th>\n",
       "      <th>guild_total_member_count</th>\n",
       "      <th>guild_counts</th>\n",
       "    </tr>\n",
       "  </thead>\n",
       "  <tbody>\n",
       "    <tr>\n",
       "      <th>0</th>\n",
       "      <td>b8fbf3f6a70e3f36843bffc70c18ff51a0d755a87616ec...</td>\n",
       "      <td>week</td>\n",
       "      <td>0.0</td>\n",
       "      <td>0.0</td>\n",
       "    </tr>\n",
       "    <tr>\n",
       "      <th>1</th>\n",
       "      <td>ed500c4957956b3e99dc3985666850b582f812405eefb6...</td>\n",
       "      <td>week</td>\n",
       "      <td>0.0</td>\n",
       "      <td>0.0</td>\n",
       "    </tr>\n",
       "    <tr>\n",
       "      <th>2</th>\n",
       "      <td>acc6afa23a6bf15e18151e4794c7789225ef9d682f473c...</td>\n",
       "      <td>week</td>\n",
       "      <td>0.0</td>\n",
       "      <td>0.0</td>\n",
       "    </tr>\n",
       "    <tr>\n",
       "      <th>3</th>\n",
       "      <td>34095a3c9a2937ced3ea3fd75e22ce177dc5879d2a53f7...</td>\n",
       "      <td>week</td>\n",
       "      <td>0.0</td>\n",
       "      <td>0.0</td>\n",
       "    </tr>\n",
       "    <tr>\n",
       "      <th>4</th>\n",
       "      <td>26f3db6e8817a93c4ceda9a16f0832945e43d950b95882...</td>\n",
       "      <td>week</td>\n",
       "      <td>0.0</td>\n",
       "      <td>0.0</td>\n",
       "    </tr>\n",
       "    <tr>\n",
       "      <th>5</th>\n",
       "      <td>aaf2fb67be2d51bf75b973df5587dda57aa147c123c2a4...</td>\n",
       "      <td>week</td>\n",
       "      <td>0.0</td>\n",
       "      <td>0.0</td>\n",
       "    </tr>\n",
       "    <tr>\n",
       "      <th>6</th>\n",
       "      <td>bc5878e17e1673e7882c5c325a6fb22940a5e5330092cd...</td>\n",
       "      <td>week</td>\n",
       "      <td>49.0</td>\n",
       "      <td>1.0</td>\n",
       "    </tr>\n",
       "    <tr>\n",
       "      <th>7</th>\n",
       "      <td>2beb296998ecb631341c0469a5a4a7c5e9e7ce1f52389a...</td>\n",
       "      <td>week</td>\n",
       "      <td>0.0</td>\n",
       "      <td>0.0</td>\n",
       "    </tr>\n",
       "    <tr>\n",
       "      <th>8</th>\n",
       "      <td>69f05d55892e869274c2f49061d93addf8c58fe1865e86...</td>\n",
       "      <td>week</td>\n",
       "      <td>0.0</td>\n",
       "      <td>0.0</td>\n",
       "    </tr>\n",
       "    <tr>\n",
       "      <th>9</th>\n",
       "      <td>ccb31ea10a8b9a54ff5c853fd1e19db3e25ae88adfc08a...</td>\n",
       "      <td>week</td>\n",
       "      <td>0.0</td>\n",
       "      <td>0.0</td>\n",
       "    </tr>\n",
       "  </tbody>\n",
       "</table>\n",
       "</div>"
      ],
      "text/plain": [
       "                                              acc_id label  \\\n",
       "0  b8fbf3f6a70e3f36843bffc70c18ff51a0d755a87616ec...  week   \n",
       "1  ed500c4957956b3e99dc3985666850b582f812405eefb6...  week   \n",
       "2  acc6afa23a6bf15e18151e4794c7789225ef9d682f473c...  week   \n",
       "3  34095a3c9a2937ced3ea3fd75e22ce177dc5879d2a53f7...  week   \n",
       "4  26f3db6e8817a93c4ceda9a16f0832945e43d950b95882...  week   \n",
       "5  aaf2fb67be2d51bf75b973df5587dda57aa147c123c2a4...  week   \n",
       "6  bc5878e17e1673e7882c5c325a6fb22940a5e5330092cd...  week   \n",
       "7  2beb296998ecb631341c0469a5a4a7c5e9e7ce1f52389a...  week   \n",
       "8  69f05d55892e869274c2f49061d93addf8c58fe1865e86...  week   \n",
       "9  ccb31ea10a8b9a54ff5c853fd1e19db3e25ae88adfc08a...  week   \n",
       "\n",
       "   guild_total_member_count  guild_counts  \n",
       "0                       0.0           0.0  \n",
       "1                       0.0           0.0  \n",
       "2                       0.0           0.0  \n",
       "3                       0.0           0.0  \n",
       "4                       0.0           0.0  \n",
       "5                       0.0           0.0  \n",
       "6                      49.0           1.0  \n",
       "7                       0.0           0.0  \n",
       "8                       0.0           0.0  \n",
       "9                       0.0           0.0  "
      ]
     },
     "execution_count": 28,
     "metadata": {},
     "output_type": "execute_result"
    }
   ],
   "source": [
    "guild_1.head(10)"
   ]
  },
  {
   "cell_type": "code",
   "execution_count": 29,
   "metadata": {
    "colab": {},
    "colab_type": "code",
    "id": "vbF_qI9ABpzU",
    "outputId": "2e87be04-f8e5-4599-b0b5-78da36ed70ae"
   },
   "outputs": [
    {
     "data": {
      "text/html": [
       "<div>\n",
       "<style scoped>\n",
       "    .dataframe tbody tr th:only-of-type {\n",
       "        vertical-align: middle;\n",
       "    }\n",
       "\n",
       "    .dataframe tbody tr th {\n",
       "        vertical-align: top;\n",
       "    }\n",
       "\n",
       "    .dataframe thead th {\n",
       "        text-align: right;\n",
       "    }\n",
       "</style>\n",
       "<table border=\"1\" class=\"dataframe\">\n",
       "  <thead>\n",
       "    <tr style=\"text-align: right;\">\n",
       "      <th></th>\n",
       "      <th>acc_id</th>\n",
       "      <th>label</th>\n",
       "      <th>guild_total_member_count</th>\n",
       "      <th>guild_counts</th>\n",
       "    </tr>\n",
       "  </thead>\n",
       "  <tbody>\n",
       "    <tr>\n",
       "      <th>count</th>\n",
       "      <td>100000</td>\n",
       "      <td>100000</td>\n",
       "      <td>100000.000000</td>\n",
       "      <td>100000.000000</td>\n",
       "    </tr>\n",
       "    <tr>\n",
       "      <th>unique</th>\n",
       "      <td>100000</td>\n",
       "      <td>4</td>\n",
       "      <td>NaN</td>\n",
       "      <td>NaN</td>\n",
       "    </tr>\n",
       "    <tr>\n",
       "      <th>top</th>\n",
       "      <td>11348acf24e6bef9e91a5500cb4602580616e95213174a...</td>\n",
       "      <td>retained</td>\n",
       "      <td>NaN</td>\n",
       "      <td>NaN</td>\n",
       "    </tr>\n",
       "    <tr>\n",
       "      <th>freq</th>\n",
       "      <td>1</td>\n",
       "      <td>25000</td>\n",
       "      <td>NaN</td>\n",
       "      <td>NaN</td>\n",
       "    </tr>\n",
       "    <tr>\n",
       "      <th>mean</th>\n",
       "      <td>NaN</td>\n",
       "      <td>NaN</td>\n",
       "      <td>4.440180</td>\n",
       "      <td>0.272380</td>\n",
       "    </tr>\n",
       "    <tr>\n",
       "      <th>std</th>\n",
       "      <td>NaN</td>\n",
       "      <td>NaN</td>\n",
       "      <td>13.425615</td>\n",
       "      <td>0.740564</td>\n",
       "    </tr>\n",
       "    <tr>\n",
       "      <th>min</th>\n",
       "      <td>NaN</td>\n",
       "      <td>NaN</td>\n",
       "      <td>0.000000</td>\n",
       "      <td>0.000000</td>\n",
       "    </tr>\n",
       "    <tr>\n",
       "      <th>25%</th>\n",
       "      <td>NaN</td>\n",
       "      <td>NaN</td>\n",
       "      <td>0.000000</td>\n",
       "      <td>0.000000</td>\n",
       "    </tr>\n",
       "    <tr>\n",
       "      <th>50%</th>\n",
       "      <td>NaN</td>\n",
       "      <td>NaN</td>\n",
       "      <td>0.000000</td>\n",
       "      <td>0.000000</td>\n",
       "    </tr>\n",
       "    <tr>\n",
       "      <th>75%</th>\n",
       "      <td>NaN</td>\n",
       "      <td>NaN</td>\n",
       "      <td>0.000000</td>\n",
       "      <td>0.000000</td>\n",
       "    </tr>\n",
       "    <tr>\n",
       "      <th>max</th>\n",
       "      <td>NaN</td>\n",
       "      <td>NaN</td>\n",
       "      <td>187.000000</td>\n",
       "      <td>11.000000</td>\n",
       "    </tr>\n",
       "  </tbody>\n",
       "</table>\n",
       "</div>"
      ],
      "text/plain": [
       "                                                   acc_id     label  \\\n",
       "count                                              100000    100000   \n",
       "unique                                             100000         4   \n",
       "top     11348acf24e6bef9e91a5500cb4602580616e95213174a...  retained   \n",
       "freq                                                    1     25000   \n",
       "mean                                                  NaN       NaN   \n",
       "std                                                   NaN       NaN   \n",
       "min                                                   NaN       NaN   \n",
       "25%                                                   NaN       NaN   \n",
       "50%                                                   NaN       NaN   \n",
       "75%                                                   NaN       NaN   \n",
       "max                                                   NaN       NaN   \n",
       "\n",
       "        guild_total_member_count   guild_counts  \n",
       "count              100000.000000  100000.000000  \n",
       "unique                       NaN            NaN  \n",
       "top                          NaN            NaN  \n",
       "freq                         NaN            NaN  \n",
       "mean                    4.440180       0.272380  \n",
       "std                    13.425615       0.740564  \n",
       "min                     0.000000       0.000000  \n",
       "25%                     0.000000       0.000000  \n",
       "50%                     0.000000       0.000000  \n",
       "75%                     0.000000       0.000000  \n",
       "max                   187.000000      11.000000  "
      ]
     },
     "execution_count": 29,
     "metadata": {},
     "output_type": "execute_result"
    }
   ],
   "source": [
    "guild_1.describe(include=\"all\")"
   ]
  },
  {
   "cell_type": "markdown",
   "metadata": {
    "colab_type": "text",
    "id": "iG4RBht5Bpzg"
   },
   "source": [
    "## 2. guild size (guild 참여 id 수) 변수 생성"
   ]
  },
  {
   "cell_type": "markdown",
   "metadata": {},
   "source": [
    "- 유저가 가입된 guild에 몇 명의 멤버가 가입되어 있는지 guild size를 구함 (복수의 guild에 가입되어 있을 경우 최댓값)"
   ]
  },
  {
   "cell_type": "markdown",
   "metadata": {
    "colab_type": "text",
    "id": "-iem46cXBpzk"
   },
   "source": [
    "### 1) 각 guild의 size 구하기\n",
    "- guild size: 1명~77명"
   ]
  },
  {
   "cell_type": "code",
   "execution_count": 30,
   "metadata": {
    "colab": {},
    "colab_type": "code",
    "id": "YcE6bMi8Bpzn"
   },
   "outputs": [],
   "source": [
    "guild[\"guild_size\"] = guild[\"guild_member_acc_id\"].apply(lambda x: x.count(\",\") + 1)"
   ]
  },
  {
   "cell_type": "code",
   "execution_count": 31,
   "metadata": {
    "colab": {},
    "colab_type": "code",
    "id": "Iodq7B7TBpzx",
    "outputId": "c66b4f5b-8ccc-4ba2-fc1d-22784bcdab60"
   },
   "outputs": [
    {
     "data": {
      "text/html": [
       "<div>\n",
       "<style scoped>\n",
       "    .dataframe tbody tr th:only-of-type {\n",
       "        vertical-align: middle;\n",
       "    }\n",
       "\n",
       "    .dataframe tbody tr th {\n",
       "        vertical-align: top;\n",
       "    }\n",
       "\n",
       "    .dataframe thead th {\n",
       "        text-align: right;\n",
       "    }\n",
       "</style>\n",
       "<table border=\"1\" class=\"dataframe\">\n",
       "  <thead>\n",
       "    <tr style=\"text-align: right;\">\n",
       "      <th></th>\n",
       "      <th>guild_id</th>\n",
       "      <th>guild_member_acc_id</th>\n",
       "      <th>guild_member_count</th>\n",
       "      <th>guild_size</th>\n",
       "    </tr>\n",
       "  </thead>\n",
       "  <tbody>\n",
       "    <tr>\n",
       "      <th>count</th>\n",
       "      <td>9963</td>\n",
       "      <td>9963</td>\n",
       "      <td>9963.000000</td>\n",
       "      <td>9963.000000</td>\n",
       "    </tr>\n",
       "    <tr>\n",
       "      <th>unique</th>\n",
       "      <td>9963</td>\n",
       "      <td>9341</td>\n",
       "      <td>NaN</td>\n",
       "      <td>NaN</td>\n",
       "    </tr>\n",
       "    <tr>\n",
       "      <th>top</th>\n",
       "      <td>2b7ae5949cfc3d089ea2932da18823c9abdd192d840152...</td>\n",
       "      <td>d36a8c1b5d862572a31a9e1c816520c1fc93577ddd8cd4...</td>\n",
       "      <td>NaN</td>\n",
       "      <td>NaN</td>\n",
       "    </tr>\n",
       "    <tr>\n",
       "      <th>freq</th>\n",
       "      <td>1</td>\n",
       "      <td>10</td>\n",
       "      <td>NaN</td>\n",
       "      <td>NaN</td>\n",
       "    </tr>\n",
       "    <tr>\n",
       "      <th>mean</th>\n",
       "      <td>NaN</td>\n",
       "      <td>NaN</td>\n",
       "      <td>6.276122</td>\n",
       "      <td>6.276122</td>\n",
       "    </tr>\n",
       "    <tr>\n",
       "      <th>std</th>\n",
       "      <td>NaN</td>\n",
       "      <td>NaN</td>\n",
       "      <td>8.705304</td>\n",
       "      <td>8.705304</td>\n",
       "    </tr>\n",
       "    <tr>\n",
       "      <th>min</th>\n",
       "      <td>NaN</td>\n",
       "      <td>NaN</td>\n",
       "      <td>1.000000</td>\n",
       "      <td>1.000000</td>\n",
       "    </tr>\n",
       "    <tr>\n",
       "      <th>25%</th>\n",
       "      <td>NaN</td>\n",
       "      <td>NaN</td>\n",
       "      <td>1.000000</td>\n",
       "      <td>1.000000</td>\n",
       "    </tr>\n",
       "    <tr>\n",
       "      <th>50%</th>\n",
       "      <td>NaN</td>\n",
       "      <td>NaN</td>\n",
       "      <td>2.000000</td>\n",
       "      <td>2.000000</td>\n",
       "    </tr>\n",
       "    <tr>\n",
       "      <th>75%</th>\n",
       "      <td>NaN</td>\n",
       "      <td>NaN</td>\n",
       "      <td>8.000000</td>\n",
       "      <td>8.000000</td>\n",
       "    </tr>\n",
       "    <tr>\n",
       "      <th>max</th>\n",
       "      <td>NaN</td>\n",
       "      <td>NaN</td>\n",
       "      <td>77.000000</td>\n",
       "      <td>77.000000</td>\n",
       "    </tr>\n",
       "  </tbody>\n",
       "</table>\n",
       "</div>"
      ],
      "text/plain": [
       "                                                 guild_id  \\\n",
       "count                                                9963   \n",
       "unique                                               9963   \n",
       "top     2b7ae5949cfc3d089ea2932da18823c9abdd192d840152...   \n",
       "freq                                                    1   \n",
       "mean                                                  NaN   \n",
       "std                                                   NaN   \n",
       "min                                                   NaN   \n",
       "25%                                                   NaN   \n",
       "50%                                                   NaN   \n",
       "75%                                                   NaN   \n",
       "max                                                   NaN   \n",
       "\n",
       "                                      guild_member_acc_id  guild_member_count  \\\n",
       "count                                                9963         9963.000000   \n",
       "unique                                               9341                 NaN   \n",
       "top     d36a8c1b5d862572a31a9e1c816520c1fc93577ddd8cd4...                 NaN   \n",
       "freq                                                   10                 NaN   \n",
       "mean                                                  NaN            6.276122   \n",
       "std                                                   NaN            8.705304   \n",
       "min                                                   NaN            1.000000   \n",
       "25%                                                   NaN            1.000000   \n",
       "50%                                                   NaN            2.000000   \n",
       "75%                                                   NaN            8.000000   \n",
       "max                                                   NaN           77.000000   \n",
       "\n",
       "         guild_size  \n",
       "count   9963.000000  \n",
       "unique          NaN  \n",
       "top             NaN  \n",
       "freq            NaN  \n",
       "mean       6.276122  \n",
       "std        8.705304  \n",
       "min        1.000000  \n",
       "25%        1.000000  \n",
       "50%        2.000000  \n",
       "75%        8.000000  \n",
       "max       77.000000  "
      ]
     },
     "execution_count": 31,
     "metadata": {},
     "output_type": "execute_result"
    }
   ],
   "source": [
    "guild.describe(include=\"all\")"
   ]
  },
  {
   "cell_type": "markdown",
   "metadata": {
    "colab_type": "text",
    "id": "Rzrho2iVBp0G"
   },
   "source": [
    "### 2) id가 속한 guild의 size 변수 생성\n",
    "- 여러개 guild에 가입한 경우 가장 큰 guild의 사이즈 선택"
   ]
  },
  {
   "cell_type": "code",
   "execution_count": 35,
   "metadata": {
    "colab": {},
    "colab_type": "code",
    "id": "sxhZheTkBp0I"
   },
   "outputs": [],
   "source": [
    "def get_guild_size(x):\n",
    "    id_guild_size = []\n",
    "    for i in range(len(guild)):\n",
    "        if guild.loc[i,\"guild_member_acc_id\"].count(x) == 1:\n",
    "            id_guild_size.append(guild.loc[i,\"guild_size\"])\n",
    "    return(max(id_guild_size))"
   ]
  },
  {
   "cell_type": "code",
   "execution_count": 36,
   "metadata": {
    "colab": {},
    "colab_type": "code",
    "id": "HCKxFqzYBp0L"
   },
   "outputs": [],
   "source": [
    "guild_1[\"guild_size\"] = 0"
   ]
  },
  {
   "cell_type": "code",
   "execution_count": 37,
   "metadata": {
    "colab": {},
    "colab_type": "code",
    "id": "_x7uTws7Bp0P"
   },
   "outputs": [
    {
     "name": "stderr",
     "output_type": "stream",
     "text": [
      "100%|██████████| 100000/100000 [22:12<00:00, 75.02it/s]\n"
     ]
    }
   ],
   "source": [
    "for i in tqdm(range(len(guild_1))):\n",
    "    if guild_1.loc[i,\"guild_counts\"] == 0:\n",
    "        pass\n",
    "    else:\n",
    "        guild_1.loc[i,\"guild_size\"] = get_guild_size(guild_1.loc[i,\"acc_id\"])"
   ]
  },
  {
   "cell_type": "code",
   "execution_count": 38,
   "metadata": {
    "colab": {},
    "colab_type": "code",
    "id": "X0d1FfZwBp0Q",
    "outputId": "5e4174b2-e837-4306-d998-0923b22f77df"
   },
   "outputs": [
    {
     "data": {
      "text/html": [
       "<div>\n",
       "<style scoped>\n",
       "    .dataframe tbody tr th:only-of-type {\n",
       "        vertical-align: middle;\n",
       "    }\n",
       "\n",
       "    .dataframe tbody tr th {\n",
       "        vertical-align: top;\n",
       "    }\n",
       "\n",
       "    .dataframe thead th {\n",
       "        text-align: right;\n",
       "    }\n",
       "</style>\n",
       "<table border=\"1\" class=\"dataframe\">\n",
       "  <thead>\n",
       "    <tr style=\"text-align: right;\">\n",
       "      <th></th>\n",
       "      <th>guild_total_member_count</th>\n",
       "      <th>guild_counts</th>\n",
       "      <th>guild_size</th>\n",
       "    </tr>\n",
       "  </thead>\n",
       "  <tbody>\n",
       "    <tr>\n",
       "      <th>count</th>\n",
       "      <td>100000.000000</td>\n",
       "      <td>100000.000000</td>\n",
       "      <td>100000.000000</td>\n",
       "    </tr>\n",
       "    <tr>\n",
       "      <th>mean</th>\n",
       "      <td>4.440180</td>\n",
       "      <td>0.272380</td>\n",
       "      <td>3.625280</td>\n",
       "    </tr>\n",
       "    <tr>\n",
       "      <th>std</th>\n",
       "      <td>13.425615</td>\n",
       "      <td>0.740564</td>\n",
       "      <td>10.404309</td>\n",
       "    </tr>\n",
       "    <tr>\n",
       "      <th>min</th>\n",
       "      <td>0.000000</td>\n",
       "      <td>0.000000</td>\n",
       "      <td>0.000000</td>\n",
       "    </tr>\n",
       "    <tr>\n",
       "      <th>25%</th>\n",
       "      <td>0.000000</td>\n",
       "      <td>0.000000</td>\n",
       "      <td>0.000000</td>\n",
       "    </tr>\n",
       "    <tr>\n",
       "      <th>50%</th>\n",
       "      <td>0.000000</td>\n",
       "      <td>0.000000</td>\n",
       "      <td>0.000000</td>\n",
       "    </tr>\n",
       "    <tr>\n",
       "      <th>75%</th>\n",
       "      <td>0.000000</td>\n",
       "      <td>0.000000</td>\n",
       "      <td>0.000000</td>\n",
       "    </tr>\n",
       "    <tr>\n",
       "      <th>max</th>\n",
       "      <td>187.000000</td>\n",
       "      <td>11.000000</td>\n",
       "      <td>77.000000</td>\n",
       "    </tr>\n",
       "  </tbody>\n",
       "</table>\n",
       "</div>"
      ],
      "text/plain": [
       "       guild_total_member_count   guild_counts     guild_size\n",
       "count             100000.000000  100000.000000  100000.000000\n",
       "mean                   4.440180       0.272380       3.625280\n",
       "std                   13.425615       0.740564      10.404309\n",
       "min                    0.000000       0.000000       0.000000\n",
       "25%                    0.000000       0.000000       0.000000\n",
       "50%                    0.000000       0.000000       0.000000\n",
       "75%                    0.000000       0.000000       0.000000\n",
       "max                  187.000000      11.000000      77.000000"
      ]
     },
     "execution_count": 38,
     "metadata": {},
     "output_type": "execute_result"
    }
   ],
   "source": [
    "guild_1.describe()"
   ]
  },
  {
   "cell_type": "code",
   "execution_count": 41,
   "metadata": {},
   "outputs": [],
   "source": [
    "pickle.dump(guild_1,open('../data/merged_train_guild.pkl','wb'))"
   ]
  },
  {
   "cell_type": "code",
   "execution_count": 42,
   "metadata": {},
   "outputs": [],
   "source": [
    "merged_train_guild = pickle.load(open('../data/merged_train_guild.pkl','rb'))"
   ]
  },
  {
   "cell_type": "code",
   "execution_count": 43,
   "metadata": {},
   "outputs": [
    {
     "data": {
      "text/html": [
       "<div>\n",
       "<style scoped>\n",
       "    .dataframe tbody tr th:only-of-type {\n",
       "        vertical-align: middle;\n",
       "    }\n",
       "\n",
       "    .dataframe tbody tr th {\n",
       "        vertical-align: top;\n",
       "    }\n",
       "\n",
       "    .dataframe thead th {\n",
       "        text-align: right;\n",
       "    }\n",
       "</style>\n",
       "<table border=\"1\" class=\"dataframe\">\n",
       "  <thead>\n",
       "    <tr style=\"text-align: right;\">\n",
       "      <th></th>\n",
       "      <th>acc_id</th>\n",
       "      <th>label</th>\n",
       "      <th>guild_total_member_count</th>\n",
       "      <th>guild_counts</th>\n",
       "      <th>guild_size</th>\n",
       "    </tr>\n",
       "  </thead>\n",
       "  <tbody>\n",
       "    <tr>\n",
       "      <th>99995</th>\n",
       "      <td>da6d33b03968d8e35821f6eb88ad22e12e37aa8867084e...</td>\n",
       "      <td>retained</td>\n",
       "      <td>76.0</td>\n",
       "      <td>2.0</td>\n",
       "      <td>51</td>\n",
       "    </tr>\n",
       "    <tr>\n",
       "      <th>99996</th>\n",
       "      <td>676c944f4b6ae63818b3cad824a61233690f16a2275d5d...</td>\n",
       "      <td>retained</td>\n",
       "      <td>0.0</td>\n",
       "      <td>0.0</td>\n",
       "      <td>0</td>\n",
       "    </tr>\n",
       "    <tr>\n",
       "      <th>99997</th>\n",
       "      <td>695e1f28e234fc4cc53085e332fa7a76d7895ca4cc745b...</td>\n",
       "      <td>retained</td>\n",
       "      <td>0.0</td>\n",
       "      <td>0.0</td>\n",
       "      <td>0</td>\n",
       "    </tr>\n",
       "    <tr>\n",
       "      <th>99998</th>\n",
       "      <td>0c87fabaad5542e533f958a1d6fd739993b94e95e00989...</td>\n",
       "      <td>retained</td>\n",
       "      <td>0.0</td>\n",
       "      <td>0.0</td>\n",
       "      <td>0</td>\n",
       "    </tr>\n",
       "    <tr>\n",
       "      <th>99999</th>\n",
       "      <td>47ff575cb94019df5695c5d81ec285b0d801607b2a8697...</td>\n",
       "      <td>retained</td>\n",
       "      <td>24.0</td>\n",
       "      <td>1.0</td>\n",
       "      <td>24</td>\n",
       "    </tr>\n",
       "  </tbody>\n",
       "</table>\n",
       "</div>"
      ],
      "text/plain": [
       "                                                  acc_id     label  \\\n",
       "99995  da6d33b03968d8e35821f6eb88ad22e12e37aa8867084e...  retained   \n",
       "99996  676c944f4b6ae63818b3cad824a61233690f16a2275d5d...  retained   \n",
       "99997  695e1f28e234fc4cc53085e332fa7a76d7895ca4cc745b...  retained   \n",
       "99998  0c87fabaad5542e533f958a1d6fd739993b94e95e00989...  retained   \n",
       "99999  47ff575cb94019df5695c5d81ec285b0d801607b2a8697...  retained   \n",
       "\n",
       "       guild_total_member_count  guild_counts  guild_size  \n",
       "99995                      76.0           2.0          51  \n",
       "99996                       0.0           0.0           0  \n",
       "99997                       0.0           0.0           0  \n",
       "99998                       0.0           0.0           0  \n",
       "99999                      24.0           1.0          24  "
      ]
     },
     "execution_count": 43,
     "metadata": {},
     "output_type": "execute_result"
    }
   ],
   "source": [
    "merged_train_guild.tail()"
   ]
  },
  {
   "cell_type": "markdown",
   "metadata": {},
   "source": [
    "## 3. guild total member count"
   ]
  },
  {
   "cell_type": "markdown",
   "metadata": {},
   "source": [
    "- 유저가 가입된 guild의 멤버수를 모두 합(여러개의 guild에 가입한 유저 존재)한 변수 생성"
   ]
  },
  {
   "cell_type": "code",
   "execution_count": 4,
   "metadata": {},
   "outputs": [
    {
     "name": "stdout",
     "output_type": "stream",
     "text": [
      "CPU times: user 8.71 ms, sys: 277 µs, total: 8.99 ms\n",
      "Wall time: 8.94 ms\n"
     ]
    }
   ],
   "source": [
    "%%time\n",
    "guild_member_acc_id_length_list = []\n",
    "for guild_member_list in guild['guild_member_acc_id']:\n",
    "    guild_member_acc_id_length_list.append(len(guild_member_list.split(',')))"
   ]
  },
  {
   "cell_type": "code",
   "execution_count": 5,
   "metadata": {},
   "outputs": [],
   "source": [
    "guild_member_count = pd.DataFrame(guild_member_acc_id_length_list, columns=['guild_member_count'])\n",
    "guild = pd.concat([guild, guild_member_count],axis=1)"
   ]
  },
  {
   "cell_type": "code",
   "execution_count": 6,
   "metadata": {},
   "outputs": [
    {
     "name": "stdout",
     "output_type": "stream",
     "text": [
      "CPU times: user 2.55 s, sys: 48.3 ms, total: 2.6 s\n",
      "Wall time: 2.6 s\n"
     ]
    }
   ],
   "source": [
    "%%time\n",
    "\n",
    "guild_member_lists = []\n",
    "for i in range(len(guild['guild_member_acc_id'])):\n",
    "    guild_member_lists = guild_member_lists + guild['guild_member_acc_id'][i].split(',')"
   ]
  },
  {
   "cell_type": "code",
   "execution_count": 7,
   "metadata": {
    "scrolled": true
   },
   "outputs": [
    {
     "name": "stderr",
     "output_type": "stream",
     "text": [
      "100%|██████████| 9963/9963 [00:00<00:00, 38388.16it/s]\n"
     ]
    }
   ],
   "source": [
    "guild_member_count = [[guild['guild_member_count'][i]]*guild['guild_member_count'][i] for i in trange(len(guild))]"
   ]
  },
  {
   "cell_type": "code",
   "execution_count": 8,
   "metadata": {},
   "outputs": [],
   "source": [
    "flat_guild_member_count = list(chain.from_iterable(guild_member_count))"
   ]
  },
  {
   "cell_type": "code",
   "execution_count": 9,
   "metadata": {},
   "outputs": [
    {
     "name": "stdout",
     "output_type": "stream",
     "text": [
      "CPU times: user 16 ms, sys: 1.8 ms, total: 17.8 ms\n",
      "Wall time: 16.9 ms\n"
     ]
    }
   ],
   "source": [
    "%%time\n",
    "all_id_and_guild_member_count_df = \\\n",
    "pd.concat([pd.Series(guild_member_lists), pd.Series(flat_guild_member_count)], axis=1)\n",
    "all_id_and_guild_member_count_df.columns = ['acc_id','guild_member_count']"
   ]
  },
  {
   "cell_type": "code",
   "execution_count": 10,
   "metadata": {},
   "outputs": [
    {
     "name": "stdout",
     "output_type": "stream",
     "text": [
      "CPU times: user 71 ms, sys: 2.28 ms, total: 73.3 ms\n",
      "Wall time: 74.3 ms\n"
     ]
    }
   ],
   "source": [
    "%%time \n",
    "guild_member_count = \\\n",
    "all_id_and_guild_member_count_df.groupby('acc_id')['guild_member_count'].sum()\n",
    "guild_member_count_df = pd.DataFrame(guild_member_count).reset_index()\n",
    "guild_member_count_df.columns = ['acc_id','guild_total_member_count']"
   ]
  },
  {
   "cell_type": "code",
   "execution_count": 22,
   "metadata": {},
   "outputs": [],
   "source": [
    "guild_1 = pd.merge(label, guild_member_count_df, how='left')\n",
    "guild_1.fillna(0,inplace=True)"
   ]
  },
  {
   "cell_type": "code",
   "execution_count": 23,
   "metadata": {},
   "outputs": [
    {
     "data": {
      "text/html": [
       "<div>\n",
       "<style scoped>\n",
       "    .dataframe tbody tr th:only-of-type {\n",
       "        vertical-align: middle;\n",
       "    }\n",
       "\n",
       "    .dataframe tbody tr th {\n",
       "        vertical-align: top;\n",
       "    }\n",
       "\n",
       "    .dataframe thead th {\n",
       "        text-align: right;\n",
       "    }\n",
       "</style>\n",
       "<table border=\"1\" class=\"dataframe\">\n",
       "  <thead>\n",
       "    <tr style=\"text-align: right;\">\n",
       "      <th></th>\n",
       "      <th>acc_id</th>\n",
       "      <th>label</th>\n",
       "      <th>guild_total_member_count</th>\n",
       "    </tr>\n",
       "  </thead>\n",
       "  <tbody>\n",
       "    <tr>\n",
       "      <th>99995</th>\n",
       "      <td>da6d33b03968d8e35821f6eb88ad22e12e37aa8867084e...</td>\n",
       "      <td>retained</td>\n",
       "      <td>76.0</td>\n",
       "    </tr>\n",
       "    <tr>\n",
       "      <th>99996</th>\n",
       "      <td>676c944f4b6ae63818b3cad824a61233690f16a2275d5d...</td>\n",
       "      <td>retained</td>\n",
       "      <td>0.0</td>\n",
       "    </tr>\n",
       "    <tr>\n",
       "      <th>99997</th>\n",
       "      <td>695e1f28e234fc4cc53085e332fa7a76d7895ca4cc745b...</td>\n",
       "      <td>retained</td>\n",
       "      <td>0.0</td>\n",
       "    </tr>\n",
       "    <tr>\n",
       "      <th>99998</th>\n",
       "      <td>0c87fabaad5542e533f958a1d6fd739993b94e95e00989...</td>\n",
       "      <td>retained</td>\n",
       "      <td>0.0</td>\n",
       "    </tr>\n",
       "    <tr>\n",
       "      <th>99999</th>\n",
       "      <td>47ff575cb94019df5695c5d81ec285b0d801607b2a8697...</td>\n",
       "      <td>retained</td>\n",
       "      <td>24.0</td>\n",
       "    </tr>\n",
       "  </tbody>\n",
       "</table>\n",
       "</div>"
      ],
      "text/plain": [
       "                                                  acc_id     label  \\\n",
       "99995  da6d33b03968d8e35821f6eb88ad22e12e37aa8867084e...  retained   \n",
       "99996  676c944f4b6ae63818b3cad824a61233690f16a2275d5d...  retained   \n",
       "99997  695e1f28e234fc4cc53085e332fa7a76d7895ca4cc745b...  retained   \n",
       "99998  0c87fabaad5542e533f958a1d6fd739993b94e95e00989...  retained   \n",
       "99999  47ff575cb94019df5695c5d81ec285b0d801607b2a8697...  retained   \n",
       "\n",
       "       guild_total_member_count  \n",
       "99995                      76.0  \n",
       "99996                       0.0  \n",
       "99997                       0.0  \n",
       "99998                       0.0  \n",
       "99999                      24.0  "
      ]
     },
     "execution_count": 23,
     "metadata": {},
     "output_type": "execute_result"
    }
   ],
   "source": [
    "guild_1.tail()"
   ]
  },
  {
   "cell_type": "markdown",
   "metadata": {},
   "source": [
    "---"
   ]
  },
  {
   "cell_type": "markdown",
   "metadata": {},
   "source": [
    "# Test"
   ]
  },
  {
   "cell_type": "code",
   "execution_count": 44,
   "metadata": {
    "colab": {},
    "colab_type": "code",
    "id": "ht0GMbedBpxb"
   },
   "outputs": [],
   "source": [
    "activity = pd.read_csv('../data/test_activity.csv')\n",
    "label = pd.DataFrame(list(activity['acc_id'].unique()))\n",
    "label.columns = ['acc_id']\n",
    "\n",
    "guild = pd.read_csv(\"../data/test_guild.csv\")"
   ]
  },
  {
   "cell_type": "code",
   "execution_count": 45,
   "metadata": {
    "colab": {},
    "colab_type": "code",
    "id": "_vKbgWNQBpxm",
    "outputId": "a73d6592-eb6d-4848-c6c8-b4887bf82925",
    "scrolled": true
   },
   "outputs": [
    {
     "name": "stdout",
     "output_type": "stream",
     "text": [
      "(5906, 2)\n"
     ]
    },
    {
     "data": {
      "text/html": [
       "<div>\n",
       "<style scoped>\n",
       "    .dataframe tbody tr th:only-of-type {\n",
       "        vertical-align: middle;\n",
       "    }\n",
       "\n",
       "    .dataframe tbody tr th {\n",
       "        vertical-align: top;\n",
       "    }\n",
       "\n",
       "    .dataframe thead th {\n",
       "        text-align: right;\n",
       "    }\n",
       "</style>\n",
       "<table border=\"1\" class=\"dataframe\">\n",
       "  <thead>\n",
       "    <tr style=\"text-align: right;\">\n",
       "      <th></th>\n",
       "      <th>guild_id</th>\n",
       "      <th>guild_member_acc_id</th>\n",
       "    </tr>\n",
       "  </thead>\n",
       "  <tbody>\n",
       "    <tr>\n",
       "      <th>5901</th>\n",
       "      <td>ffc5e3081eb0e2dacfaa5764ad6b1217b3ce5ddb58901f...</td>\n",
       "      <td>d9b65373063af0235d4671c81845341d8f6fd30b2a2afa...</td>\n",
       "    </tr>\n",
       "    <tr>\n",
       "      <th>5902</th>\n",
       "      <td>ffcd0dc7f52afa225c4704b152a8f23ed7b31e0c65cc23...</td>\n",
       "      <td>702430f360b001863d1c9819b2b343cee913051bd0f485...</td>\n",
       "    </tr>\n",
       "    <tr>\n",
       "      <th>5903</th>\n",
       "      <td>ffe737564aaf515dd77b516dfed4695794c42e8b2a3837...</td>\n",
       "      <td>b9387283921208fb8c40692c9ed0614f4679d8d8454875...</td>\n",
       "    </tr>\n",
       "    <tr>\n",
       "      <th>5904</th>\n",
       "      <td>ffef2c8316f9aa8e6a29ecd1a0b099bc6f86d4d2048580...</td>\n",
       "      <td>05cd824a467cfc9f8f194c32f735ff52dde8dd898ca532...</td>\n",
       "    </tr>\n",
       "    <tr>\n",
       "      <th>5905</th>\n",
       "      <td>fff5ac3748f18e39c87b31cb52d00b37b4aa205a2b0845...</td>\n",
       "      <td>557f99b8568c83dcf0b6d32f401fbb40b747e1c977b1cb...</td>\n",
       "    </tr>\n",
       "  </tbody>\n",
       "</table>\n",
       "</div>"
      ],
      "text/plain": [
       "                                               guild_id  \\\n",
       "5901  ffc5e3081eb0e2dacfaa5764ad6b1217b3ce5ddb58901f...   \n",
       "5902  ffcd0dc7f52afa225c4704b152a8f23ed7b31e0c65cc23...   \n",
       "5903  ffe737564aaf515dd77b516dfed4695794c42e8b2a3837...   \n",
       "5904  ffef2c8316f9aa8e6a29ecd1a0b099bc6f86d4d2048580...   \n",
       "5905  fff5ac3748f18e39c87b31cb52d00b37b4aa205a2b0845...   \n",
       "\n",
       "                                    guild_member_acc_id  \n",
       "5901  d9b65373063af0235d4671c81845341d8f6fd30b2a2afa...  \n",
       "5902  702430f360b001863d1c9819b2b343cee913051bd0f485...  \n",
       "5903  b9387283921208fb8c40692c9ed0614f4679d8d8454875...  \n",
       "5904  05cd824a467cfc9f8f194c32f735ff52dde8dd898ca532...  \n",
       "5905  557f99b8568c83dcf0b6d32f401fbb40b747e1c977b1cb...  "
      ]
     },
     "execution_count": 45,
     "metadata": {},
     "output_type": "execute_result"
    }
   ],
   "source": [
    "print(guild.shape)\n",
    "guild.tail()"
   ]
  },
  {
   "cell_type": "markdown",
   "metadata": {
    "colab_type": "text",
    "id": "TkTdAT6BBpx0"
   },
   "source": [
    "## 1. guild count (id 당 guild 참여 횟수) 변수 생성"
   ]
  },
  {
   "cell_type": "markdown",
   "metadata": {},
   "source": [
    "- guild_member_acc_id에서 예측 대상 유저 id를 추출하여 유저가 몇 개의 guild에 가입되었는지 변수 생성"
   ]
  },
  {
   "cell_type": "markdown",
   "metadata": {
    "colab_type": "text",
    "id": "4BjtUn0yBpx3"
   },
   "source": [
    "### 1) guild member acc id 전체를 리스트로 만들기"
   ]
  },
  {
   "cell_type": "code",
   "execution_count": 55,
   "metadata": {
    "colab": {},
    "colab_type": "code",
    "id": "TppJeg-TBpx6",
    "outputId": "66523b30-a026-41d6-8362-bb2c9e4ab69d"
   },
   "outputs": [
    {
     "name": "stdout",
     "output_type": "stream",
     "text": [
      "CPU times: user 17.5 ms, sys: 2.51 ms, total: 20 ms\n",
      "Wall time: 19.2 ms\n"
     ]
    }
   ],
   "source": [
    "%%time\n",
    "guild_acc_id = guild[\"guild_member_acc_id\"].tolist()\n",
    "guild_acc_id = [x.split(',') for x in guild_acc_id]\n",
    "guild_id_list = [item for sublist in guild_acc_id for item in sublist]"
   ]
  },
  {
   "cell_type": "code",
   "execution_count": 56,
   "metadata": {
    "colab": {},
    "colab_type": "code",
    "id": "I9_JSH8yBpyJ",
    "outputId": "2e113d9b-a187-42cf-e7e7-3b67f28b0d4d"
   },
   "outputs": [
    {
     "data": {
      "text/plain": [
       "51648"
      ]
     },
     "execution_count": 56,
     "metadata": {},
     "output_type": "execute_result"
    }
   ],
   "source": [
    "len(guild_id_list)"
   ]
  },
  {
   "cell_type": "code",
   "execution_count": 57,
   "metadata": {
    "colab": {},
    "colab_type": "code",
    "id": "WTL8TjSvBpyj",
    "outputId": "f6e18a23-e3c6-4b2c-f6e6-43692af5001e"
   },
   "outputs": [
    {
     "data": {
      "text/plain": [
       "36468"
      ]
     },
     "execution_count": 57,
     "metadata": {},
     "output_type": "execute_result"
    }
   ],
   "source": [
    "len(list(set(guild_id_list)))"
   ]
  },
  {
   "cell_type": "markdown",
   "metadata": {
    "colab_type": "text",
    "id": "XUnNSzfOBpyx"
   },
   "source": [
    "### 2) train acc_id당 guild_count(길드 참여횟수) 변수 생성"
   ]
  },
  {
   "cell_type": "code",
   "execution_count": 58,
   "metadata": {
    "colab": {},
    "colab_type": "code",
    "id": "wu1pjg3gBpyy",
    "outputId": "ca3644d2-4e88-43b2-bd2a-78590e0ec1c5"
   },
   "outputs": [
    {
     "name": "stdout",
     "output_type": "stream",
     "text": [
      "CPU times: user 110 ms, sys: 9.31 ms, total: 119 ms\n",
      "Wall time: 119 ms\n"
     ]
    }
   ],
   "source": [
    "%%time\n",
    "df_guild_id = pd.DataFrame(guild_id_list, columns=[\"acc_id\"])\n",
    "df_guild_id = df_guild_id.groupby('acc_id').size().reset_index(name='guild_counts')\n",
    "guild_1 = pd.merge(guild_1, df_guild_id, how='left')\n",
    "guild_1[\"guild_counts\"] = guild_1[\"guild_counts\"].fillna(0)"
   ]
  },
  {
   "cell_type": "code",
   "execution_count": 59,
   "metadata": {
    "colab": {},
    "colab_type": "code",
    "id": "X_lpjUEBBpzE",
    "outputId": "1a754218-3e4e-4cfa-eb78-df843f4a2acb"
   },
   "outputs": [
    {
     "data": {
      "text/html": [
       "<div>\n",
       "<style scoped>\n",
       "    .dataframe tbody tr th:only-of-type {\n",
       "        vertical-align: middle;\n",
       "    }\n",
       "\n",
       "    .dataframe tbody tr th {\n",
       "        vertical-align: top;\n",
       "    }\n",
       "\n",
       "    .dataframe thead th {\n",
       "        text-align: right;\n",
       "    }\n",
       "</style>\n",
       "<table border=\"1\" class=\"dataframe\">\n",
       "  <thead>\n",
       "    <tr style=\"text-align: right;\">\n",
       "      <th></th>\n",
       "      <th>acc_id</th>\n",
       "      <th>guild_total_member_count</th>\n",
       "      <th>guild_counts</th>\n",
       "    </tr>\n",
       "  </thead>\n",
       "  <tbody>\n",
       "    <tr>\n",
       "      <th>0</th>\n",
       "      <td>6ac252acf5ce113d2eb251d62ee2713c269655be3f8bec...</td>\n",
       "      <td>0.0</td>\n",
       "      <td>0.0</td>\n",
       "    </tr>\n",
       "    <tr>\n",
       "      <th>1</th>\n",
       "      <td>be14d8ed6f435440d8b8e50b3997a30682a113458204e4...</td>\n",
       "      <td>0.0</td>\n",
       "      <td>0.0</td>\n",
       "    </tr>\n",
       "    <tr>\n",
       "      <th>2</th>\n",
       "      <td>911660b6ab8860b6d27fe2ff17d715938b33f261919bf1...</td>\n",
       "      <td>37.0</td>\n",
       "      <td>2.0</td>\n",
       "    </tr>\n",
       "    <tr>\n",
       "      <th>3</th>\n",
       "      <td>9f8fefd8917c0406b108e95cb578d46ea9b360e39200e9...</td>\n",
       "      <td>0.0</td>\n",
       "      <td>0.0</td>\n",
       "    </tr>\n",
       "    <tr>\n",
       "      <th>4</th>\n",
       "      <td>6a3f52c863e97184ee8487c34b59c364e8427724aa29b8...</td>\n",
       "      <td>20.0</td>\n",
       "      <td>1.0</td>\n",
       "    </tr>\n",
       "    <tr>\n",
       "      <th>5</th>\n",
       "      <td>b05933d268fdf4c92fd6331992f2ecda41e1c28d12eb40...</td>\n",
       "      <td>0.0</td>\n",
       "      <td>0.0</td>\n",
       "    </tr>\n",
       "    <tr>\n",
       "      <th>6</th>\n",
       "      <td>14cf6302887cd135a6a312caace5608af778e40a17e889...</td>\n",
       "      <td>0.0</td>\n",
       "      <td>0.0</td>\n",
       "    </tr>\n",
       "    <tr>\n",
       "      <th>7</th>\n",
       "      <td>1f440d69c125b3d99f85add756cbbe1e4e46921fb16dfd...</td>\n",
       "      <td>1.0</td>\n",
       "      <td>1.0</td>\n",
       "    </tr>\n",
       "    <tr>\n",
       "      <th>8</th>\n",
       "      <td>fe2a2e260e89ae26684ec33ebb239a52b366f4db05553f...</td>\n",
       "      <td>19.0</td>\n",
       "      <td>3.0</td>\n",
       "    </tr>\n",
       "    <tr>\n",
       "      <th>9</th>\n",
       "      <td>0662a8c684c6de4f0f92012409a48f5340658e21ea5078...</td>\n",
       "      <td>0.0</td>\n",
       "      <td>0.0</td>\n",
       "    </tr>\n",
       "  </tbody>\n",
       "</table>\n",
       "</div>"
      ],
      "text/plain": [
       "                                              acc_id  \\\n",
       "0  6ac252acf5ce113d2eb251d62ee2713c269655be3f8bec...   \n",
       "1  be14d8ed6f435440d8b8e50b3997a30682a113458204e4...   \n",
       "2  911660b6ab8860b6d27fe2ff17d715938b33f261919bf1...   \n",
       "3  9f8fefd8917c0406b108e95cb578d46ea9b360e39200e9...   \n",
       "4  6a3f52c863e97184ee8487c34b59c364e8427724aa29b8...   \n",
       "5  b05933d268fdf4c92fd6331992f2ecda41e1c28d12eb40...   \n",
       "6  14cf6302887cd135a6a312caace5608af778e40a17e889...   \n",
       "7  1f440d69c125b3d99f85add756cbbe1e4e46921fb16dfd...   \n",
       "8  fe2a2e260e89ae26684ec33ebb239a52b366f4db05553f...   \n",
       "9  0662a8c684c6de4f0f92012409a48f5340658e21ea5078...   \n",
       "\n",
       "   guild_total_member_count  guild_counts  \n",
       "0                       0.0           0.0  \n",
       "1                       0.0           0.0  \n",
       "2                      37.0           2.0  \n",
       "3                       0.0           0.0  \n",
       "4                      20.0           1.0  \n",
       "5                       0.0           0.0  \n",
       "6                       0.0           0.0  \n",
       "7                       1.0           1.0  \n",
       "8                      19.0           3.0  \n",
       "9                       0.0           0.0  "
      ]
     },
     "execution_count": 59,
     "metadata": {},
     "output_type": "execute_result"
    }
   ],
   "source": [
    "guild_1.head(10)"
   ]
  },
  {
   "cell_type": "code",
   "execution_count": 60,
   "metadata": {
    "colab": {},
    "colab_type": "code",
    "id": "vbF_qI9ABpzU",
    "outputId": "2e87be04-f8e5-4599-b0b5-78da36ed70ae"
   },
   "outputs": [
    {
     "data": {
      "text/html": [
       "<div>\n",
       "<style scoped>\n",
       "    .dataframe tbody tr th:only-of-type {\n",
       "        vertical-align: middle;\n",
       "    }\n",
       "\n",
       "    .dataframe tbody tr th {\n",
       "        vertical-align: top;\n",
       "    }\n",
       "\n",
       "    .dataframe thead th {\n",
       "        text-align: right;\n",
       "    }\n",
       "</style>\n",
       "<table border=\"1\" class=\"dataframe\">\n",
       "  <thead>\n",
       "    <tr style=\"text-align: right;\">\n",
       "      <th></th>\n",
       "      <th>acc_id</th>\n",
       "      <th>guild_total_member_count</th>\n",
       "      <th>guild_counts</th>\n",
       "    </tr>\n",
       "  </thead>\n",
       "  <tbody>\n",
       "    <tr>\n",
       "      <th>count</th>\n",
       "      <td>40000</td>\n",
       "      <td>40000.000000</td>\n",
       "      <td>40000.000000</td>\n",
       "    </tr>\n",
       "    <tr>\n",
       "      <th>unique</th>\n",
       "      <td>40000</td>\n",
       "      <td>NaN</td>\n",
       "      <td>NaN</td>\n",
       "    </tr>\n",
       "    <tr>\n",
       "      <th>top</th>\n",
       "      <td>61080f48b9dce4432e6a17097e5ccfab46036c9b64f05e...</td>\n",
       "      <td>NaN</td>\n",
       "      <td>NaN</td>\n",
       "    </tr>\n",
       "    <tr>\n",
       "      <th>freq</th>\n",
       "      <td>1</td>\n",
       "      <td>NaN</td>\n",
       "      <td>NaN</td>\n",
       "    </tr>\n",
       "    <tr>\n",
       "      <th>mean</th>\n",
       "      <td>NaN</td>\n",
       "      <td>4.439425</td>\n",
       "      <td>0.274650</td>\n",
       "    </tr>\n",
       "    <tr>\n",
       "      <th>std</th>\n",
       "      <td>NaN</td>\n",
       "      <td>13.502198</td>\n",
       "      <td>0.748185</td>\n",
       "    </tr>\n",
       "    <tr>\n",
       "      <th>min</th>\n",
       "      <td>NaN</td>\n",
       "      <td>0.000000</td>\n",
       "      <td>0.000000</td>\n",
       "    </tr>\n",
       "    <tr>\n",
       "      <th>25%</th>\n",
       "      <td>NaN</td>\n",
       "      <td>0.000000</td>\n",
       "      <td>0.000000</td>\n",
       "    </tr>\n",
       "    <tr>\n",
       "      <th>50%</th>\n",
       "      <td>NaN</td>\n",
       "      <td>0.000000</td>\n",
       "      <td>0.000000</td>\n",
       "    </tr>\n",
       "    <tr>\n",
       "      <th>75%</th>\n",
       "      <td>NaN</td>\n",
       "      <td>0.000000</td>\n",
       "      <td>0.000000</td>\n",
       "    </tr>\n",
       "    <tr>\n",
       "      <th>max</th>\n",
       "      <td>NaN</td>\n",
       "      <td>296.000000</td>\n",
       "      <td>11.000000</td>\n",
       "    </tr>\n",
       "  </tbody>\n",
       "</table>\n",
       "</div>"
      ],
      "text/plain": [
       "                                                   acc_id  \\\n",
       "count                                               40000   \n",
       "unique                                              40000   \n",
       "top     61080f48b9dce4432e6a17097e5ccfab46036c9b64f05e...   \n",
       "freq                                                    1   \n",
       "mean                                                  NaN   \n",
       "std                                                   NaN   \n",
       "min                                                   NaN   \n",
       "25%                                                   NaN   \n",
       "50%                                                   NaN   \n",
       "75%                                                   NaN   \n",
       "max                                                   NaN   \n",
       "\n",
       "        guild_total_member_count  guild_counts  \n",
       "count               40000.000000  40000.000000  \n",
       "unique                       NaN           NaN  \n",
       "top                          NaN           NaN  \n",
       "freq                         NaN           NaN  \n",
       "mean                    4.439425      0.274650  \n",
       "std                    13.502198      0.748185  \n",
       "min                     0.000000      0.000000  \n",
       "25%                     0.000000      0.000000  \n",
       "50%                     0.000000      0.000000  \n",
       "75%                     0.000000      0.000000  \n",
       "max                   296.000000     11.000000  "
      ]
     },
     "execution_count": 60,
     "metadata": {},
     "output_type": "execute_result"
    }
   ],
   "source": [
    "guild_1.describe(include=\"all\")"
   ]
  },
  {
   "cell_type": "markdown",
   "metadata": {
    "colab_type": "text",
    "id": "iG4RBht5Bpzg"
   },
   "source": [
    "## 2. guild size (guild 참여 id 수) 변수 생성"
   ]
  },
  {
   "cell_type": "markdown",
   "metadata": {},
   "source": [
    "- 유저가 가입된 guild에 몇 명의 멤버가 가입되어 있는지 guild size를 구함 (복수의 guild에 가입되어 있을 경우 최댓값)"
   ]
  },
  {
   "cell_type": "markdown",
   "metadata": {
    "colab_type": "text",
    "id": "-iem46cXBpzk"
   },
   "source": [
    "### 1) 각 guild의 size 구하기\n",
    "- guild size: 1명~77명"
   ]
  },
  {
   "cell_type": "code",
   "execution_count": 61,
   "metadata": {
    "colab": {},
    "colab_type": "code",
    "id": "YcE6bMi8Bpzn"
   },
   "outputs": [],
   "source": [
    "guild[\"guild_size\"] = guild[\"guild_member_acc_id\"].apply(lambda x: x.count(\",\") + 1)"
   ]
  },
  {
   "cell_type": "code",
   "execution_count": 62,
   "metadata": {
    "colab": {},
    "colab_type": "code",
    "id": "Iodq7B7TBpzx",
    "outputId": "c66b4f5b-8ccc-4ba2-fc1d-22784bcdab60"
   },
   "outputs": [
    {
     "data": {
      "text/html": [
       "<div>\n",
       "<style scoped>\n",
       "    .dataframe tbody tr th:only-of-type {\n",
       "        vertical-align: middle;\n",
       "    }\n",
       "\n",
       "    .dataframe tbody tr th {\n",
       "        vertical-align: top;\n",
       "    }\n",
       "\n",
       "    .dataframe thead th {\n",
       "        text-align: right;\n",
       "    }\n",
       "</style>\n",
       "<table border=\"1\" class=\"dataframe\">\n",
       "  <thead>\n",
       "    <tr style=\"text-align: right;\">\n",
       "      <th></th>\n",
       "      <th>guild_id</th>\n",
       "      <th>guild_member_acc_id</th>\n",
       "      <th>guild_member_count</th>\n",
       "      <th>guild_size</th>\n",
       "    </tr>\n",
       "  </thead>\n",
       "  <tbody>\n",
       "    <tr>\n",
       "      <th>count</th>\n",
       "      <td>5906</td>\n",
       "      <td>5906</td>\n",
       "      <td>5906.000000</td>\n",
       "      <td>5906.000000</td>\n",
       "    </tr>\n",
       "    <tr>\n",
       "      <th>unique</th>\n",
       "      <td>5906</td>\n",
       "      <td>5629</td>\n",
       "      <td>NaN</td>\n",
       "      <td>NaN</td>\n",
       "    </tr>\n",
       "    <tr>\n",
       "      <th>top</th>\n",
       "      <td>097f04bc292c182c61bb8fc448957235e95008a70dcda0...</td>\n",
       "      <td>a362f182cd074a083b40164257a965ef184ecd9947b7a9...</td>\n",
       "      <td>NaN</td>\n",
       "      <td>NaN</td>\n",
       "    </tr>\n",
       "    <tr>\n",
       "      <th>freq</th>\n",
       "      <td>1</td>\n",
       "      <td>8</td>\n",
       "      <td>NaN</td>\n",
       "      <td>NaN</td>\n",
       "    </tr>\n",
       "    <tr>\n",
       "      <th>mean</th>\n",
       "      <td>NaN</td>\n",
       "      <td>NaN</td>\n",
       "      <td>8.745005</td>\n",
       "      <td>8.745005</td>\n",
       "    </tr>\n",
       "    <tr>\n",
       "      <th>std</th>\n",
       "      <td>NaN</td>\n",
       "      <td>NaN</td>\n",
       "      <td>10.337423</td>\n",
       "      <td>10.337423</td>\n",
       "    </tr>\n",
       "    <tr>\n",
       "      <th>min</th>\n",
       "      <td>NaN</td>\n",
       "      <td>NaN</td>\n",
       "      <td>1.000000</td>\n",
       "      <td>1.000000</td>\n",
       "    </tr>\n",
       "    <tr>\n",
       "      <th>25%</th>\n",
       "      <td>NaN</td>\n",
       "      <td>NaN</td>\n",
       "      <td>1.000000</td>\n",
       "      <td>1.000000</td>\n",
       "    </tr>\n",
       "    <tr>\n",
       "      <th>50%</th>\n",
       "      <td>NaN</td>\n",
       "      <td>NaN</td>\n",
       "      <td>4.000000</td>\n",
       "      <td>4.000000</td>\n",
       "    </tr>\n",
       "    <tr>\n",
       "      <th>75%</th>\n",
       "      <td>NaN</td>\n",
       "      <td>NaN</td>\n",
       "      <td>12.000000</td>\n",
       "      <td>12.000000</td>\n",
       "    </tr>\n",
       "    <tr>\n",
       "      <th>max</th>\n",
       "      <td>NaN</td>\n",
       "      <td>NaN</td>\n",
       "      <td>77.000000</td>\n",
       "      <td>77.000000</td>\n",
       "    </tr>\n",
       "  </tbody>\n",
       "</table>\n",
       "</div>"
      ],
      "text/plain": [
       "                                                 guild_id  \\\n",
       "count                                                5906   \n",
       "unique                                               5906   \n",
       "top     097f04bc292c182c61bb8fc448957235e95008a70dcda0...   \n",
       "freq                                                    1   \n",
       "mean                                                  NaN   \n",
       "std                                                   NaN   \n",
       "min                                                   NaN   \n",
       "25%                                                   NaN   \n",
       "50%                                                   NaN   \n",
       "75%                                                   NaN   \n",
       "max                                                   NaN   \n",
       "\n",
       "                                      guild_member_acc_id  guild_member_count  \\\n",
       "count                                                5906         5906.000000   \n",
       "unique                                               5629                 NaN   \n",
       "top     a362f182cd074a083b40164257a965ef184ecd9947b7a9...                 NaN   \n",
       "freq                                                    8                 NaN   \n",
       "mean                                                  NaN            8.745005   \n",
       "std                                                   NaN           10.337423   \n",
       "min                                                   NaN            1.000000   \n",
       "25%                                                   NaN            1.000000   \n",
       "50%                                                   NaN            4.000000   \n",
       "75%                                                   NaN           12.000000   \n",
       "max                                                   NaN           77.000000   \n",
       "\n",
       "         guild_size  \n",
       "count   5906.000000  \n",
       "unique          NaN  \n",
       "top             NaN  \n",
       "freq            NaN  \n",
       "mean       8.745005  \n",
       "std       10.337423  \n",
       "min        1.000000  \n",
       "25%        1.000000  \n",
       "50%        4.000000  \n",
       "75%       12.000000  \n",
       "max       77.000000  "
      ]
     },
     "execution_count": 62,
     "metadata": {},
     "output_type": "execute_result"
    }
   ],
   "source": [
    "guild.describe(include=\"all\")"
   ]
  },
  {
   "cell_type": "markdown",
   "metadata": {
    "colab_type": "text",
    "id": "Rzrho2iVBp0G"
   },
   "source": [
    "### 2) id가 속한 guild의 size 변수 생성\n",
    "- 여러개 guild에 가입한 경우 가장 큰 guild의 사이즈 선택"
   ]
  },
  {
   "cell_type": "code",
   "execution_count": 63,
   "metadata": {
    "colab": {},
    "colab_type": "code",
    "id": "sxhZheTkBp0I"
   },
   "outputs": [],
   "source": [
    "def get_guild_size(x):\n",
    "    id_guild_size = []\n",
    "    for i in range(len(guild)):\n",
    "        if guild.loc[i,\"guild_member_acc_id\"].count(x) == 1:\n",
    "            id_guild_size.append(guild.loc[i,\"guild_size\"])\n",
    "    return(max(id_guild_size))"
   ]
  },
  {
   "cell_type": "code",
   "execution_count": 64,
   "metadata": {
    "colab": {},
    "colab_type": "code",
    "id": "HCKxFqzYBp0L"
   },
   "outputs": [],
   "source": [
    "guild_1[\"guild_size\"] = 0"
   ]
  },
  {
   "cell_type": "code",
   "execution_count": 65,
   "metadata": {
    "colab": {},
    "colab_type": "code",
    "id": "_x7uTws7Bp0P"
   },
   "outputs": [
    {
     "name": "stderr",
     "output_type": "stream",
     "text": [
      "100%|██████████| 40000/40000 [05:06<00:00, 130.30it/s]\n"
     ]
    }
   ],
   "source": [
    "for i in tqdm(range(len(guild_1))):\n",
    "    if guild_1.loc[i,\"guild_counts\"] == 0:\n",
    "        pass\n",
    "    else:\n",
    "        guild_1.loc[i,\"guild_size\"] = get_guild_size(guild_1.loc[i,\"acc_id\"])"
   ]
  },
  {
   "cell_type": "code",
   "execution_count": 66,
   "metadata": {
    "colab": {},
    "colab_type": "code",
    "id": "X0d1FfZwBp0Q",
    "outputId": "5e4174b2-e837-4306-d998-0923b22f77df"
   },
   "outputs": [
    {
     "data": {
      "text/html": [
       "<div>\n",
       "<style scoped>\n",
       "    .dataframe tbody tr th:only-of-type {\n",
       "        vertical-align: middle;\n",
       "    }\n",
       "\n",
       "    .dataframe tbody tr th {\n",
       "        vertical-align: top;\n",
       "    }\n",
       "\n",
       "    .dataframe thead th {\n",
       "        text-align: right;\n",
       "    }\n",
       "</style>\n",
       "<table border=\"1\" class=\"dataframe\">\n",
       "  <thead>\n",
       "    <tr style=\"text-align: right;\">\n",
       "      <th></th>\n",
       "      <th>guild_total_member_count</th>\n",
       "      <th>guild_counts</th>\n",
       "      <th>guild_size</th>\n",
       "    </tr>\n",
       "  </thead>\n",
       "  <tbody>\n",
       "    <tr>\n",
       "      <th>count</th>\n",
       "      <td>40000.000000</td>\n",
       "      <td>40000.000000</td>\n",
       "      <td>40000.000000</td>\n",
       "    </tr>\n",
       "    <tr>\n",
       "      <th>mean</th>\n",
       "      <td>4.439425</td>\n",
       "      <td>0.274650</td>\n",
       "      <td>3.618600</td>\n",
       "    </tr>\n",
       "    <tr>\n",
       "      <th>std</th>\n",
       "      <td>13.502198</td>\n",
       "      <td>0.748185</td>\n",
       "      <td>10.394875</td>\n",
       "    </tr>\n",
       "    <tr>\n",
       "      <th>min</th>\n",
       "      <td>0.000000</td>\n",
       "      <td>0.000000</td>\n",
       "      <td>0.000000</td>\n",
       "    </tr>\n",
       "    <tr>\n",
       "      <th>25%</th>\n",
       "      <td>0.000000</td>\n",
       "      <td>0.000000</td>\n",
       "      <td>0.000000</td>\n",
       "    </tr>\n",
       "    <tr>\n",
       "      <th>50%</th>\n",
       "      <td>0.000000</td>\n",
       "      <td>0.000000</td>\n",
       "      <td>0.000000</td>\n",
       "    </tr>\n",
       "    <tr>\n",
       "      <th>75%</th>\n",
       "      <td>0.000000</td>\n",
       "      <td>0.000000</td>\n",
       "      <td>0.000000</td>\n",
       "    </tr>\n",
       "    <tr>\n",
       "      <th>max</th>\n",
       "      <td>296.000000</td>\n",
       "      <td>11.000000</td>\n",
       "      <td>77.000000</td>\n",
       "    </tr>\n",
       "  </tbody>\n",
       "</table>\n",
       "</div>"
      ],
      "text/plain": [
       "       guild_total_member_count  guild_counts    guild_size\n",
       "count              40000.000000  40000.000000  40000.000000\n",
       "mean                   4.439425      0.274650      3.618600\n",
       "std                   13.502198      0.748185     10.394875\n",
       "min                    0.000000      0.000000      0.000000\n",
       "25%                    0.000000      0.000000      0.000000\n",
       "50%                    0.000000      0.000000      0.000000\n",
       "75%                    0.000000      0.000000      0.000000\n",
       "max                  296.000000     11.000000     77.000000"
      ]
     },
     "execution_count": 66,
     "metadata": {},
     "output_type": "execute_result"
    }
   ],
   "source": [
    "guild_1.describe()"
   ]
  },
  {
   "cell_type": "code",
   "execution_count": 67,
   "metadata": {},
   "outputs": [],
   "source": [
    "pickle.dump(guild_1,open('../data/merged_test_guild.pkl','wb'))"
   ]
  },
  {
   "cell_type": "code",
   "execution_count": 68,
   "metadata": {},
   "outputs": [],
   "source": [
    "merged_test_guild = pickle.load(open('../data/merged_test_guild.pkl','rb'))"
   ]
  },
  {
   "cell_type": "code",
   "execution_count": 69,
   "metadata": {},
   "outputs": [
    {
     "data": {
      "text/html": [
       "<div>\n",
       "<style scoped>\n",
       "    .dataframe tbody tr th:only-of-type {\n",
       "        vertical-align: middle;\n",
       "    }\n",
       "\n",
       "    .dataframe tbody tr th {\n",
       "        vertical-align: top;\n",
       "    }\n",
       "\n",
       "    .dataframe thead th {\n",
       "        text-align: right;\n",
       "    }\n",
       "</style>\n",
       "<table border=\"1\" class=\"dataframe\">\n",
       "  <thead>\n",
       "    <tr style=\"text-align: right;\">\n",
       "      <th></th>\n",
       "      <th>acc_id</th>\n",
       "      <th>guild_total_member_count</th>\n",
       "      <th>guild_counts</th>\n",
       "      <th>guild_size</th>\n",
       "    </tr>\n",
       "  </thead>\n",
       "  <tbody>\n",
       "    <tr>\n",
       "      <th>39995</th>\n",
       "      <td>d048b24f5205a50916339d24fc9f7b1c69352d2ee10f1c...</td>\n",
       "      <td>0.0</td>\n",
       "      <td>0.0</td>\n",
       "      <td>0</td>\n",
       "    </tr>\n",
       "    <tr>\n",
       "      <th>39996</th>\n",
       "      <td>ad5b3ef19e64aceb9ffea55310607ba62146218e616a83...</td>\n",
       "      <td>0.0</td>\n",
       "      <td>0.0</td>\n",
       "      <td>0</td>\n",
       "    </tr>\n",
       "    <tr>\n",
       "      <th>39997</th>\n",
       "      <td>972114a3bb57c377d162fb66b9198a2eec40de9576af51...</td>\n",
       "      <td>0.0</td>\n",
       "      <td>0.0</td>\n",
       "      <td>0</td>\n",
       "    </tr>\n",
       "    <tr>\n",
       "      <th>39998</th>\n",
       "      <td>3d10d680df3d5fa2e370997c18274bad7355e3d0ff9fb0...</td>\n",
       "      <td>67.0</td>\n",
       "      <td>3.0</td>\n",
       "      <td>45</td>\n",
       "    </tr>\n",
       "    <tr>\n",
       "      <th>39999</th>\n",
       "      <td>813ad8039e2692aecc1b7875f3a9b1e951477937ec30bd...</td>\n",
       "      <td>0.0</td>\n",
       "      <td>0.0</td>\n",
       "      <td>0</td>\n",
       "    </tr>\n",
       "  </tbody>\n",
       "</table>\n",
       "</div>"
      ],
      "text/plain": [
       "                                                  acc_id  \\\n",
       "39995  d048b24f5205a50916339d24fc9f7b1c69352d2ee10f1c...   \n",
       "39996  ad5b3ef19e64aceb9ffea55310607ba62146218e616a83...   \n",
       "39997  972114a3bb57c377d162fb66b9198a2eec40de9576af51...   \n",
       "39998  3d10d680df3d5fa2e370997c18274bad7355e3d0ff9fb0...   \n",
       "39999  813ad8039e2692aecc1b7875f3a9b1e951477937ec30bd...   \n",
       "\n",
       "       guild_total_member_count  guild_counts  guild_size  \n",
       "39995                       0.0           0.0           0  \n",
       "39996                       0.0           0.0           0  \n",
       "39997                       0.0           0.0           0  \n",
       "39998                      67.0           3.0          45  \n",
       "39999                       0.0           0.0           0  "
      ]
     },
     "execution_count": 69,
     "metadata": {},
     "output_type": "execute_result"
    }
   ],
   "source": [
    "merged_test_guild.tail()"
   ]
  },
  {
   "cell_type": "markdown",
   "metadata": {},
   "source": [
    "## 3. guild total member count"
   ]
  },
  {
   "cell_type": "markdown",
   "metadata": {},
   "source": [
    "- 유저가 가입된 guild의 멤버수를 모두 합(여러개의 guild에 가입한 유저 존재)한 변수 생성"
   ]
  },
  {
   "cell_type": "code",
   "execution_count": 46,
   "metadata": {},
   "outputs": [
    {
     "name": "stdout",
     "output_type": "stream",
     "text": [
      "CPU times: user 8.08 ms, sys: 581 µs, total: 8.66 ms\n",
      "Wall time: 8.22 ms\n"
     ]
    }
   ],
   "source": [
    "%%time\n",
    "guild_member_acc_id_length_list = []\n",
    "for guild_member_list in guild['guild_member_acc_id']:\n",
    "    guild_member_acc_id_length_list.append(len(guild_member_list.split(',')))"
   ]
  },
  {
   "cell_type": "code",
   "execution_count": 47,
   "metadata": {},
   "outputs": [],
   "source": [
    "guild_member_count = pd.DataFrame(guild_member_acc_id_length_list, columns=['guild_member_count'])\n",
    "guild = pd.concat([guild, guild_member_count],axis=1)"
   ]
  },
  {
   "cell_type": "code",
   "execution_count": 48,
   "metadata": {},
   "outputs": [
    {
     "name": "stdout",
     "output_type": "stream",
     "text": [
      "CPU times: user 883 ms, sys: 25 ms, total: 908 ms\n",
      "Wall time: 906 ms\n"
     ]
    }
   ],
   "source": [
    "%%time\n",
    "\n",
    "guild_member_lists = []\n",
    "for i in range(len(guild['guild_member_acc_id'])):\n",
    "    guild_member_lists = guild_member_lists + guild['guild_member_acc_id'][i].split(',')"
   ]
  },
  {
   "cell_type": "code",
   "execution_count": 49,
   "metadata": {
    "scrolled": true
   },
   "outputs": [
    {
     "name": "stderr",
     "output_type": "stream",
     "text": [
      "100%|██████████| 5906/5906 [00:00<00:00, 36957.47it/s]\n"
     ]
    }
   ],
   "source": [
    "guild_member_count = [[guild['guild_member_count'][i]]*guild['guild_member_count'][i] for i in trange(len(guild))]"
   ]
  },
  {
   "cell_type": "code",
   "execution_count": 50,
   "metadata": {},
   "outputs": [],
   "source": [
    "flat_guild_member_count = list(chain.from_iterable(guild_member_count))"
   ]
  },
  {
   "cell_type": "code",
   "execution_count": 51,
   "metadata": {},
   "outputs": [
    {
     "name": "stdout",
     "output_type": "stream",
     "text": [
      "CPU times: user 18.8 ms, sys: 2.63 ms, total: 21.4 ms\n",
      "Wall time: 20.5 ms\n"
     ]
    }
   ],
   "source": [
    "%%time\n",
    "all_id_and_guild_member_count_df = \\\n",
    "pd.concat([pd.Series(guild_member_lists), pd.Series(flat_guild_member_count)], axis=1)\n",
    "all_id_and_guild_member_count_df.columns = ['acc_id','guild_member_count']"
   ]
  },
  {
   "cell_type": "code",
   "execution_count": 52,
   "metadata": {},
   "outputs": [
    {
     "name": "stdout",
     "output_type": "stream",
     "text": [
      "CPU times: user 61.6 ms, sys: 2.89 ms, total: 64.5 ms\n",
      "Wall time: 63 ms\n"
     ]
    }
   ],
   "source": [
    "%%time \n",
    "guild_member_count = \\\n",
    "all_id_and_guild_member_count_df.groupby('acc_id')['guild_member_count'].sum()\n",
    "guild_member_count_df = pd.DataFrame(guild_member_count).reset_index()\n",
    "guild_member_count_df.columns = ['acc_id','guild_total_member_count']"
   ]
  },
  {
   "cell_type": "code",
   "execution_count": 53,
   "metadata": {},
   "outputs": [],
   "source": [
    "guild_1 = pd.merge(label, guild_member_count_df, how='left')\n",
    "guild_1.fillna(0,inplace=True)"
   ]
  },
  {
   "cell_type": "code",
   "execution_count": 54,
   "metadata": {},
   "outputs": [
    {
     "data": {
      "text/html": [
       "<div>\n",
       "<style scoped>\n",
       "    .dataframe tbody tr th:only-of-type {\n",
       "        vertical-align: middle;\n",
       "    }\n",
       "\n",
       "    .dataframe tbody tr th {\n",
       "        vertical-align: top;\n",
       "    }\n",
       "\n",
       "    .dataframe thead th {\n",
       "        text-align: right;\n",
       "    }\n",
       "</style>\n",
       "<table border=\"1\" class=\"dataframe\">\n",
       "  <thead>\n",
       "    <tr style=\"text-align: right;\">\n",
       "      <th></th>\n",
       "      <th>acc_id</th>\n",
       "      <th>guild_total_member_count</th>\n",
       "    </tr>\n",
       "  </thead>\n",
       "  <tbody>\n",
       "    <tr>\n",
       "      <th>39995</th>\n",
       "      <td>d048b24f5205a50916339d24fc9f7b1c69352d2ee10f1c...</td>\n",
       "      <td>0.0</td>\n",
       "    </tr>\n",
       "    <tr>\n",
       "      <th>39996</th>\n",
       "      <td>ad5b3ef19e64aceb9ffea55310607ba62146218e616a83...</td>\n",
       "      <td>0.0</td>\n",
       "    </tr>\n",
       "    <tr>\n",
       "      <th>39997</th>\n",
       "      <td>972114a3bb57c377d162fb66b9198a2eec40de9576af51...</td>\n",
       "      <td>0.0</td>\n",
       "    </tr>\n",
       "    <tr>\n",
       "      <th>39998</th>\n",
       "      <td>3d10d680df3d5fa2e370997c18274bad7355e3d0ff9fb0...</td>\n",
       "      <td>67.0</td>\n",
       "    </tr>\n",
       "    <tr>\n",
       "      <th>39999</th>\n",
       "      <td>813ad8039e2692aecc1b7875f3a9b1e951477937ec30bd...</td>\n",
       "      <td>0.0</td>\n",
       "    </tr>\n",
       "  </tbody>\n",
       "</table>\n",
       "</div>"
      ],
      "text/plain": [
       "                                                  acc_id  \\\n",
       "39995  d048b24f5205a50916339d24fc9f7b1c69352d2ee10f1c...   \n",
       "39996  ad5b3ef19e64aceb9ffea55310607ba62146218e616a83...   \n",
       "39997  972114a3bb57c377d162fb66b9198a2eec40de9576af51...   \n",
       "39998  3d10d680df3d5fa2e370997c18274bad7355e3d0ff9fb0...   \n",
       "39999  813ad8039e2692aecc1b7875f3a9b1e951477937ec30bd...   \n",
       "\n",
       "       guild_total_member_count  \n",
       "39995                       0.0  \n",
       "39996                       0.0  \n",
       "39997                       0.0  \n",
       "39998                      67.0  \n",
       "39999                       0.0  "
      ]
     },
     "execution_count": 54,
     "metadata": {},
     "output_type": "execute_result"
    }
   ],
   "source": [
    "guild_1.tail()"
   ]
  }
 ],
 "metadata": {
  "colab": {
   "name": "1_4_guild_변수 생성.ipynb",
   "provenance": [],
   "version": "0.3.2"
  },
  "kernelspec": {
   "display_name": "Python 3",
   "language": "python",
   "name": "python3"
  },
  "language_info": {
   "codemirror_mode": {
    "name": "ipython",
    "version": 3
   },
   "file_extension": ".py",
   "mimetype": "text/x-python",
   "name": "python",
   "nbconvert_exporter": "python",
   "pygments_lexer": "ipython3",
   "version": "3.6.5"
  }
 },
 "nbformat": 4,
 "nbformat_minor": 2
}
