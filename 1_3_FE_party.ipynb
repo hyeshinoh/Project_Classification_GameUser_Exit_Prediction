{
 "cells": [
  {
   "cell_type": "markdown",
   "metadata": {
    "colab_type": "text",
    "id": "pI7fbnTOBdRw"
   },
   "source": [
    "# Party 관련 feature engineering"
   ]
  },
  {
   "cell_type": "code",
   "execution_count": 1,
   "metadata": {},
   "outputs": [],
   "source": [
    "from tqdm import tqdm\n",
    "from tqdm import trange\n",
    "from itertools import chain\n",
    "from scipy import stats\n",
    "from datetime import timedelta \n",
    "import warnings\n",
    "warnings.filterwarnings('ignore')\n",
    "import pickle\n",
    "import datetime as dt\n",
    "import networkx as nx\n",
    "import pickle"
   ]
  },
  {
   "cell_type": "markdown",
   "metadata": {},
   "source": [
    "-----"
   ]
  },
  {
   "cell_type": "markdown",
   "metadata": {},
   "source": [
    "# Train"
   ]
  },
  {
   "cell_type": "code",
   "execution_count": 2,
   "metadata": {},
   "outputs": [],
   "source": [
    "# label = pd.read_csv(\"../Data/train_label.csv\")\n",
    "label = pd.read_csv(\"~/documents/chaser_data/train_label.csv\")\n",
    "# label = pd.read_csv(\"../data/train_label.csv\")"
   ]
  },
  {
   "cell_type": "code",
   "execution_count": 3,
   "metadata": {},
   "outputs": [
    {
     "name": "stdout",
     "output_type": "stream",
     "text": [
      "CPU times: user 28.1 s, sys: 3.28 s, total: 31.4 s\n",
      "Wall time: 34.9 s\n"
     ]
    }
   ],
   "source": [
    "%%time\n",
    "# party = pd.read_csv(\"../data/new_train_party.csv\", memory_map=True)\n",
    "party = pd.read_csv(\"~/documents/chaser_data/train_party.csv\", memory_map=True)"
   ]
  },
  {
   "cell_type": "code",
   "execution_count": 4,
   "metadata": {},
   "outputs": [
    {
     "data": {
      "text/html": [
       "<div>\n",
       "<style scoped>\n",
       "    .dataframe tbody tr th:only-of-type {\n",
       "        vertical-align: middle;\n",
       "    }\n",
       "\n",
       "    .dataframe tbody tr th {\n",
       "        vertical-align: top;\n",
       "    }\n",
       "\n",
       "    .dataframe thead th {\n",
       "        text-align: right;\n",
       "    }\n",
       "</style>\n",
       "<table border=\"1\" class=\"dataframe\">\n",
       "  <thead>\n",
       "    <tr style=\"text-align: right;\">\n",
       "      <th></th>\n",
       "      <th>party_start_week</th>\n",
       "      <th>party_start_day</th>\n",
       "      <th>party_start_time</th>\n",
       "      <th>party_end_week</th>\n",
       "      <th>party_end_day</th>\n",
       "      <th>party_end_time</th>\n",
       "      <th>hashed</th>\n",
       "    </tr>\n",
       "  </thead>\n",
       "  <tbody>\n",
       "    <tr>\n",
       "      <th>6962336</th>\n",
       "      <td>8</td>\n",
       "      <td>6</td>\n",
       "      <td>08:09:30.086</td>\n",
       "      <td>8</td>\n",
       "      <td>6</td>\n",
       "      <td>08:29:51.324</td>\n",
       "      <td>c87c2fad141edf323f3787335b54be22945a02fe052448...</td>\n",
       "    </tr>\n",
       "    <tr>\n",
       "      <th>6962337</th>\n",
       "      <td>5</td>\n",
       "      <td>7</td>\n",
       "      <td>11:25:25.719</td>\n",
       "      <td>5</td>\n",
       "      <td>7</td>\n",
       "      <td>11:47:41.557</td>\n",
       "      <td>aafb40d212fe18ff4eafb82fdcf3b53f2161cb3ce59de4...</td>\n",
       "    </tr>\n",
       "    <tr>\n",
       "      <th>6962338</th>\n",
       "      <td>7</td>\n",
       "      <td>5</td>\n",
       "      <td>16:29:59.882</td>\n",
       "      <td>7</td>\n",
       "      <td>5</td>\n",
       "      <td>16:30:27.386</td>\n",
       "      <td>86022904c5cf72a54978479c94041f4256d6c3c2a1f71c...</td>\n",
       "    </tr>\n",
       "    <tr>\n",
       "      <th>6962339</th>\n",
       "      <td>7</td>\n",
       "      <td>6</td>\n",
       "      <td>23:43:52.265</td>\n",
       "      <td>7</td>\n",
       "      <td>6</td>\n",
       "      <td>23:47:50.285</td>\n",
       "      <td>02181a0c962f34f019bc9d5b582fb0ec79b1441f96aa4d...</td>\n",
       "    </tr>\n",
       "    <tr>\n",
       "      <th>6962340</th>\n",
       "      <td>6</td>\n",
       "      <td>5</td>\n",
       "      <td>23:07:31.761</td>\n",
       "      <td>6</td>\n",
       "      <td>5</td>\n",
       "      <td>23:11:01.968</td>\n",
       "      <td>967393e81d99ce8e577ee130b7ce8e4fd45e3e9cecb560...</td>\n",
       "    </tr>\n",
       "  </tbody>\n",
       "</table>\n",
       "</div>"
      ],
      "text/plain": [
       "         party_start_week  party_start_day party_start_time  party_end_week  \\\n",
       "6962336                 8                6     08:09:30.086               8   \n",
       "6962337                 5                7     11:25:25.719               5   \n",
       "6962338                 7                5     16:29:59.882               7   \n",
       "6962339                 7                6     23:43:52.265               7   \n",
       "6962340                 6                5     23:07:31.761               6   \n",
       "\n",
       "         party_end_day party_end_time  \\\n",
       "6962336              6   08:29:51.324   \n",
       "6962337              7   11:47:41.557   \n",
       "6962338              5   16:30:27.386   \n",
       "6962339              6   23:47:50.285   \n",
       "6962340              5   23:11:01.968   \n",
       "\n",
       "                                                    hashed  \n",
       "6962336  c87c2fad141edf323f3787335b54be22945a02fe052448...  \n",
       "6962337  aafb40d212fe18ff4eafb82fdcf3b53f2161cb3ce59de4...  \n",
       "6962338  86022904c5cf72a54978479c94041f4256d6c3c2a1f71c...  \n",
       "6962339  02181a0c962f34f019bc9d5b582fb0ec79b1441f96aa4d...  \n",
       "6962340  967393e81d99ce8e577ee130b7ce8e4fd45e3e9cecb560...  "
      ]
     },
     "execution_count": 4,
     "metadata": {},
     "output_type": "execute_result"
    }
   ],
   "source": [
    "party.tail()"
   ]
  },
  {
   "cell_type": "code",
   "execution_count": 5,
   "metadata": {
    "scrolled": true
   },
   "outputs": [
    {
     "name": "stdout",
     "output_type": "stream",
     "text": [
      "(6962341, 7)\n"
     ]
    },
    {
     "data": {
      "text/html": [
       "<div>\n",
       "<style scoped>\n",
       "    .dataframe tbody tr th:only-of-type {\n",
       "        vertical-align: middle;\n",
       "    }\n",
       "\n",
       "    .dataframe tbody tr th {\n",
       "        vertical-align: top;\n",
       "    }\n",
       "\n",
       "    .dataframe thead th {\n",
       "        text-align: right;\n",
       "    }\n",
       "</style>\n",
       "<table border=\"1\" class=\"dataframe\">\n",
       "  <thead>\n",
       "    <tr style=\"text-align: right;\">\n",
       "      <th></th>\n",
       "      <th>party_start_week</th>\n",
       "      <th>party_start_day</th>\n",
       "      <th>party_start_time</th>\n",
       "      <th>party_end_week</th>\n",
       "      <th>party_end_day</th>\n",
       "      <th>party_end_time</th>\n",
       "      <th>party_members_acc_id</th>\n",
       "    </tr>\n",
       "  </thead>\n",
       "  <tbody>\n",
       "    <tr>\n",
       "      <th>6962336</th>\n",
       "      <td>8</td>\n",
       "      <td>6</td>\n",
       "      <td>08:09:30.086</td>\n",
       "      <td>8</td>\n",
       "      <td>6</td>\n",
       "      <td>08:29:51.324</td>\n",
       "      <td>c87c2fad141edf323f3787335b54be22945a02fe052448...</td>\n",
       "    </tr>\n",
       "    <tr>\n",
       "      <th>6962337</th>\n",
       "      <td>5</td>\n",
       "      <td>7</td>\n",
       "      <td>11:25:25.719</td>\n",
       "      <td>5</td>\n",
       "      <td>7</td>\n",
       "      <td>11:47:41.557</td>\n",
       "      <td>aafb40d212fe18ff4eafb82fdcf3b53f2161cb3ce59de4...</td>\n",
       "    </tr>\n",
       "    <tr>\n",
       "      <th>6962338</th>\n",
       "      <td>7</td>\n",
       "      <td>5</td>\n",
       "      <td>16:29:59.882</td>\n",
       "      <td>7</td>\n",
       "      <td>5</td>\n",
       "      <td>16:30:27.386</td>\n",
       "      <td>86022904c5cf72a54978479c94041f4256d6c3c2a1f71c...</td>\n",
       "    </tr>\n",
       "    <tr>\n",
       "      <th>6962339</th>\n",
       "      <td>7</td>\n",
       "      <td>6</td>\n",
       "      <td>23:43:52.265</td>\n",
       "      <td>7</td>\n",
       "      <td>6</td>\n",
       "      <td>23:47:50.285</td>\n",
       "      <td>02181a0c962f34f019bc9d5b582fb0ec79b1441f96aa4d...</td>\n",
       "    </tr>\n",
       "    <tr>\n",
       "      <th>6962340</th>\n",
       "      <td>6</td>\n",
       "      <td>5</td>\n",
       "      <td>23:07:31.761</td>\n",
       "      <td>6</td>\n",
       "      <td>5</td>\n",
       "      <td>23:11:01.968</td>\n",
       "      <td>967393e81d99ce8e577ee130b7ce8e4fd45e3e9cecb560...</td>\n",
       "    </tr>\n",
       "  </tbody>\n",
       "</table>\n",
       "</div>"
      ],
      "text/plain": [
       "         party_start_week  party_start_day party_start_time  party_end_week  \\\n",
       "6962336                 8                6     08:09:30.086               8   \n",
       "6962337                 5                7     11:25:25.719               5   \n",
       "6962338                 7                5     16:29:59.882               7   \n",
       "6962339                 7                6     23:43:52.265               7   \n",
       "6962340                 6                5     23:07:31.761               6   \n",
       "\n",
       "         party_end_day party_end_time  \\\n",
       "6962336              6   08:29:51.324   \n",
       "6962337              7   11:47:41.557   \n",
       "6962338              5   16:30:27.386   \n",
       "6962339              6   23:47:50.285   \n",
       "6962340              5   23:11:01.968   \n",
       "\n",
       "                                      party_members_acc_id  \n",
       "6962336  c87c2fad141edf323f3787335b54be22945a02fe052448...  \n",
       "6962337  aafb40d212fe18ff4eafb82fdcf3b53f2161cb3ce59de4...  \n",
       "6962338  86022904c5cf72a54978479c94041f4256d6c3c2a1f71c...  \n",
       "6962339  02181a0c962f34f019bc9d5b582fb0ec79b1441f96aa4d...  \n",
       "6962340  967393e81d99ce8e577ee130b7ce8e4fd45e3e9cecb560...  "
      ]
     },
     "execution_count": 5,
     "metadata": {},
     "output_type": "execute_result"
    }
   ],
   "source": [
    "party.rename(columns = {\"hashed\":\"party_members_acc_id\"}, inplace=True)\n",
    "print(party.shape)\n",
    "party.tail()"
   ]
  },
  {
   "cell_type": "markdown",
   "metadata": {},
   "source": [
    "## 1. party df에 column 추가"
   ]
  },
  {
   "cell_type": "markdown",
   "metadata": {},
   "source": [
    "### 1.1 party 지속시간 계산\n",
    "party 지속시간 구하기: make_duration(df)\n",
    "- \"duration_time\" column: 초단위 시간\n",
    "- \"duration_days\" column: 일단위 시간"
   ]
  },
  {
   "cell_type": "code",
   "execution_count": 6,
   "metadata": {},
   "outputs": [],
   "source": [
    "def make_duration(df):\n",
    "    \"\"\"\n",
    "    지속시간 생성 함수\n",
    "    duration_time = 초단위\n",
    "    party_duration_days = 일단위 \n",
    "    - party_start_time, party_end_time 은 마이크로 세컨드 단위로 기록되어 있어서 \n",
    "    'HH:MM:SS.FFF' 에서 'HH:MM:SS'로 슬라이스해야함.\n",
    "    \"\"\"\n",
    "    df['duration_time'] = pd.to_datetime(df.party_end_time.apply(lambda x: x[:-4]), infer_datetime_format=True, format = '%H:%M:%S') - pd.to_datetime(df.party_start_time.apply(lambda x: x[:-4]), infer_datetime_format=True, format = '%H:%M:%S')\n",
    "    df.duration_time[df.duration_time<timedelta(days=0)] = df.duration_time[df.duration_time<timedelta(days=0)] + timedelta(days=1)\n",
    "    df['duration_days']=(df.party_end_week - df.party_start_week)*7 + (df.party_end_day - df.party_start_day) +1"
   ]
  },
  {
   "cell_type": "code",
   "execution_count": 7,
   "metadata": {},
   "outputs": [
    {
     "name": "stdout",
     "output_type": "stream",
     "text": [
      "(6962341, 9)\n",
      "CPU times: user 34.7 s, sys: 754 ms, total: 35.4 s\n",
      "Wall time: 35.5 s\n"
     ]
    }
   ],
   "source": [
    "%%time\n",
    "make_duration(party)\n",
    "print(party.shape)\n",
    "party.tail()"
   ]
  },
  {
   "cell_type": "markdown",
   "metadata": {},
   "source": [
    "### 1.2 party당 참여 인원 수\n",
    "- make_party_member_count(df)"
   ]
  },
  {
   "cell_type": "code",
   "execution_count": 8,
   "metadata": {},
   "outputs": [],
   "source": [
    "def make_party_member_count(df):\n",
    "    \"\"\"\n",
    "    각 파티에 참여한 인원수\n",
    "    \"\"\"\n",
    "    df['party_member_count'] = [len(party_list.split(',')) for party_list in tqdm(df['party_members_acc_id'])]"
   ]
  },
  {
   "cell_type": "code",
   "execution_count": 9,
   "metadata": {
    "scrolled": true
   },
   "outputs": [
    {
     "name": "stderr",
     "output_type": "stream",
     "text": [
      "100%|██████████| 6962341/6962341 [00:06<00:00, 1149161.00it/s]\n"
     ]
    },
    {
     "name": "stdout",
     "output_type": "stream",
     "text": [
      "(6962341, 10)\n"
     ]
    },
    {
     "data": {
      "text/html": [
       "<div>\n",
       "<style scoped>\n",
       "    .dataframe tbody tr th:only-of-type {\n",
       "        vertical-align: middle;\n",
       "    }\n",
       "\n",
       "    .dataframe tbody tr th {\n",
       "        vertical-align: top;\n",
       "    }\n",
       "\n",
       "    .dataframe thead th {\n",
       "        text-align: right;\n",
       "    }\n",
       "</style>\n",
       "<table border=\"1\" class=\"dataframe\">\n",
       "  <thead>\n",
       "    <tr style=\"text-align: right;\">\n",
       "      <th></th>\n",
       "      <th>party_start_week</th>\n",
       "      <th>party_start_day</th>\n",
       "      <th>party_start_time</th>\n",
       "      <th>party_end_week</th>\n",
       "      <th>party_end_day</th>\n",
       "      <th>party_end_time</th>\n",
       "      <th>party_members_acc_id</th>\n",
       "      <th>duration_time</th>\n",
       "      <th>duration_days</th>\n",
       "      <th>party_member_count</th>\n",
       "    </tr>\n",
       "  </thead>\n",
       "  <tbody>\n",
       "    <tr>\n",
       "      <th>6962336</th>\n",
       "      <td>8</td>\n",
       "      <td>6</td>\n",
       "      <td>08:09:30.086</td>\n",
       "      <td>8</td>\n",
       "      <td>6</td>\n",
       "      <td>08:29:51.324</td>\n",
       "      <td>c87c2fad141edf323f3787335b54be22945a02fe052448...</td>\n",
       "      <td>00:20:21</td>\n",
       "      <td>1</td>\n",
       "      <td>6</td>\n",
       "    </tr>\n",
       "    <tr>\n",
       "      <th>6962337</th>\n",
       "      <td>5</td>\n",
       "      <td>7</td>\n",
       "      <td>11:25:25.719</td>\n",
       "      <td>5</td>\n",
       "      <td>7</td>\n",
       "      <td>11:47:41.557</td>\n",
       "      <td>aafb40d212fe18ff4eafb82fdcf3b53f2161cb3ce59de4...</td>\n",
       "      <td>00:22:16</td>\n",
       "      <td>1</td>\n",
       "      <td>6</td>\n",
       "    </tr>\n",
       "    <tr>\n",
       "      <th>6962338</th>\n",
       "      <td>7</td>\n",
       "      <td>5</td>\n",
       "      <td>16:29:59.882</td>\n",
       "      <td>7</td>\n",
       "      <td>5</td>\n",
       "      <td>16:30:27.386</td>\n",
       "      <td>86022904c5cf72a54978479c94041f4256d6c3c2a1f71c...</td>\n",
       "      <td>00:00:28</td>\n",
       "      <td>1</td>\n",
       "      <td>3</td>\n",
       "    </tr>\n",
       "    <tr>\n",
       "      <th>6962339</th>\n",
       "      <td>7</td>\n",
       "      <td>6</td>\n",
       "      <td>23:43:52.265</td>\n",
       "      <td>7</td>\n",
       "      <td>6</td>\n",
       "      <td>23:47:50.285</td>\n",
       "      <td>02181a0c962f34f019bc9d5b582fb0ec79b1441f96aa4d...</td>\n",
       "      <td>00:03:58</td>\n",
       "      <td>1</td>\n",
       "      <td>5</td>\n",
       "    </tr>\n",
       "    <tr>\n",
       "      <th>6962340</th>\n",
       "      <td>6</td>\n",
       "      <td>5</td>\n",
       "      <td>23:07:31.761</td>\n",
       "      <td>6</td>\n",
       "      <td>5</td>\n",
       "      <td>23:11:01.968</td>\n",
       "      <td>967393e81d99ce8e577ee130b7ce8e4fd45e3e9cecb560...</td>\n",
       "      <td>00:03:30</td>\n",
       "      <td>1</td>\n",
       "      <td>3</td>\n",
       "    </tr>\n",
       "  </tbody>\n",
       "</table>\n",
       "</div>"
      ],
      "text/plain": [
       "         party_start_week  party_start_day party_start_time  party_end_week  \\\n",
       "6962336                 8                6     08:09:30.086               8   \n",
       "6962337                 5                7     11:25:25.719               5   \n",
       "6962338                 7                5     16:29:59.882               7   \n",
       "6962339                 7                6     23:43:52.265               7   \n",
       "6962340                 6                5     23:07:31.761               6   \n",
       "\n",
       "         party_end_day party_end_time  \\\n",
       "6962336              6   08:29:51.324   \n",
       "6962337              7   11:47:41.557   \n",
       "6962338              5   16:30:27.386   \n",
       "6962339              6   23:47:50.285   \n",
       "6962340              5   23:11:01.968   \n",
       "\n",
       "                                      party_members_acc_id duration_time  \\\n",
       "6962336  c87c2fad141edf323f3787335b54be22945a02fe052448...      00:20:21   \n",
       "6962337  aafb40d212fe18ff4eafb82fdcf3b53f2161cb3ce59de4...      00:22:16   \n",
       "6962338  86022904c5cf72a54978479c94041f4256d6c3c2a1f71c...      00:00:28   \n",
       "6962339  02181a0c962f34f019bc9d5b582fb0ec79b1441f96aa4d...      00:03:58   \n",
       "6962340  967393e81d99ce8e577ee130b7ce8e4fd45e3e9cecb560...      00:03:30   \n",
       "\n",
       "         duration_days  party_member_count  \n",
       "6962336              1                   6  \n",
       "6962337              1                   6  \n",
       "6962338              1                   3  \n",
       "6962339              1                   5  \n",
       "6962340              1                   3  "
      ]
     },
     "execution_count": 9,
     "metadata": {},
     "output_type": "execute_result"
    }
   ],
   "source": [
    "make_party_member_count(party)\n",
    "print(party.shape)\n",
    "party.tail()"
   ]
  },
  {
   "cell_type": "markdown",
   "metadata": {},
   "source": [
    "## 2. party 관련 기본 변수"
   ]
  },
  {
   "cell_type": "markdown",
   "metadata": {},
   "source": [
    "### 2.1 total party member count 변수 생성\n",
    "- 유저가 참여한 모든 파티의 파티 인원의 총합을 구함."
   ]
  },
  {
   "cell_type": "code",
   "execution_count": 10,
   "metadata": {},
   "outputs": [
    {
     "name": "stderr",
     "output_type": "stream",
     "text": [
      "100%|██████████| 6962341/6962341 [02:45<00:00, 41956.49it/s]\n"
     ]
    },
    {
     "name": "stdout",
     "output_type": "stream",
     "text": [
      "CPU times: user 3min, sys: 4.1 s, total: 3min 4s\n",
      "Wall time: 3min 4s\n"
     ]
    }
   ],
   "source": [
    "%%time\n",
    "party_member_lists = [party['party_members_acc_id'][i].split(',') for i in trange(len(party['party_members_acc_id']))]\n",
    "party_member_1D_lists = list(chain.from_iterable(party_member_lists))\n",
    "member_id_value_count = pd.Series(party_member_1D_lists).value_counts()"
   ]
  },
  {
   "cell_type": "code",
   "execution_count": 11,
   "metadata": {},
   "outputs": [
    {
     "name": "stderr",
     "output_type": "stream",
     "text": [
      "100%|██████████| 6962341/6962341 [04:45<00:00, 24409.13it/s]\n"
     ]
    },
    {
     "name": "stdout",
     "output_type": "stream",
     "text": [
      "CPU times: user 4min 43s, sys: 2.88 s, total: 4min 46s\n",
      "Wall time: 4min 46s\n"
     ]
    }
   ],
   "source": [
    "%%time \n",
    "increased_party_TMC = [[party['party_member_count'][i]]*party['party_member_count'][i] for i in trange(len(party))]\n",
    "flat_increased_party_TMC = list(chain.from_iterable(increased_party_TMC))"
   ]
  },
  {
   "cell_type": "code",
   "execution_count": 12,
   "metadata": {},
   "outputs": [
    {
     "name": "stdout",
     "output_type": "stream",
     "text": [
      "CPU times: user 24 s, sys: 3.44 s, total: 27.4 s\n",
      "Wall time: 27.7 s\n"
     ]
    }
   ],
   "source": [
    "%%time\n",
    "all_id_and_party_TMC_df = pd.concat([pd.Series(party_member_1D_lists), pd.Series(flat_increased_party_TMC)],axis=1)\n",
    "all_id_and_party_TMC_df.columns = ['acc_id','party_TMC']\n",
    "\n",
    "member_party_TMC = all_id_and_party_TMC_df.groupby('acc_id')['party_TMC'].sum()\n",
    "party_TMC_df = pd.DataFrame(member_party_TMC).reset_index()\n",
    "party_TMC_df.columns = ['acc_id','party_total_member_count']\n",
    "\n",
    "label = pd.merge(label, party_TMC_df, how='left', on='acc_id')\n",
    "label['party_total_member_count'].fillna(0, inplace=True)"
   ]
  },
  {
   "cell_type": "code",
   "execution_count": 13,
   "metadata": {},
   "outputs": [
    {
     "data": {
      "text/html": [
       "<div>\n",
       "<style scoped>\n",
       "    .dataframe tbody tr th:only-of-type {\n",
       "        vertical-align: middle;\n",
       "    }\n",
       "\n",
       "    .dataframe tbody tr th {\n",
       "        vertical-align: top;\n",
       "    }\n",
       "\n",
       "    .dataframe thead th {\n",
       "        text-align: right;\n",
       "    }\n",
       "</style>\n",
       "<table border=\"1\" class=\"dataframe\">\n",
       "  <thead>\n",
       "    <tr style=\"text-align: right;\">\n",
       "      <th></th>\n",
       "      <th>acc_id</th>\n",
       "      <th>label</th>\n",
       "      <th>party_total_member_count</th>\n",
       "    </tr>\n",
       "  </thead>\n",
       "  <tbody>\n",
       "    <tr>\n",
       "      <th>99995</th>\n",
       "      <td>da6d33b03968d8e35821f6eb88ad22e12e37aa8867084e...</td>\n",
       "      <td>retained</td>\n",
       "      <td>1625.0</td>\n",
       "    </tr>\n",
       "    <tr>\n",
       "      <th>99996</th>\n",
       "      <td>676c944f4b6ae63818b3cad824a61233690f16a2275d5d...</td>\n",
       "      <td>retained</td>\n",
       "      <td>0.0</td>\n",
       "    </tr>\n",
       "    <tr>\n",
       "      <th>99997</th>\n",
       "      <td>695e1f28e234fc4cc53085e332fa7a76d7895ca4cc745b...</td>\n",
       "      <td>retained</td>\n",
       "      <td>3032.0</td>\n",
       "    </tr>\n",
       "    <tr>\n",
       "      <th>99998</th>\n",
       "      <td>0c87fabaad5542e533f958a1d6fd739993b94e95e00989...</td>\n",
       "      <td>retained</td>\n",
       "      <td>0.0</td>\n",
       "    </tr>\n",
       "    <tr>\n",
       "      <th>99999</th>\n",
       "      <td>47ff575cb94019df5695c5d81ec285b0d801607b2a8697...</td>\n",
       "      <td>retained</td>\n",
       "      <td>2299.0</td>\n",
       "    </tr>\n",
       "  </tbody>\n",
       "</table>\n",
       "</div>"
      ],
      "text/plain": [
       "                                                  acc_id     label  \\\n",
       "99995  da6d33b03968d8e35821f6eb88ad22e12e37aa8867084e...  retained   \n",
       "99996  676c944f4b6ae63818b3cad824a61233690f16a2275d5d...  retained   \n",
       "99997  695e1f28e234fc4cc53085e332fa7a76d7895ca4cc745b...  retained   \n",
       "99998  0c87fabaad5542e533f958a1d6fd739993b94e95e00989...  retained   \n",
       "99999  47ff575cb94019df5695c5d81ec285b0d801607b2a8697...  retained   \n",
       "\n",
       "       party_total_member_count  \n",
       "99995                    1625.0  \n",
       "99996                       0.0  \n",
       "99997                    3032.0  \n",
       "99998                       0.0  \n",
       "99999                    2299.0  "
      ]
     },
     "execution_count": 13,
     "metadata": {},
     "output_type": "execute_result"
    }
   ],
   "source": [
    "label.tail()"
   ]
  },
  {
   "cell_type": "markdown",
   "metadata": {},
   "source": [
    "### 2.2 Party total retained minute 변수 생성\n",
    "- 파티 시작 시간과 파티 종료 시간으로 유저가 참여한 모든 파티의 지속시간의 총합을 구한다."
   ]
  },
  {
   "cell_type": "code",
   "execution_count": 14,
   "metadata": {
    "scrolled": true
   },
   "outputs": [
    {
     "name": "stdout",
     "output_type": "stream",
     "text": [
      "CPU times: user 43.7 s, sys: 11.5 s, total: 55.3 s\n",
      "Wall time: 56 s\n"
     ]
    }
   ],
   "source": [
    "%%time \n",
    "\n",
    "party['party_start_time'] = [i.split('.')[0] for i in list(party['party_start_time'])]\n",
    "party['party_end_time'] = [i.split('.')[0] for i in list(party['party_end_time'])]\n",
    "party['party_start_time'] = pd.to_datetime(party['party_start_time'], format='%H:%M:%S')\n",
    "party['party_end_time'] = pd.to_datetime(party['party_end_time'], format='%H:%M:%S')\n",
    "\n",
    "party['retained_week'] = party['party_end_week']-party['party_start_week']\n",
    "party['retained_day'] = party['party_end_day']-party['party_start_day']\n",
    "party['retained_time'] = (party['party_end_time'] - party['party_start_time'])\n",
    "party['retained_time'][party['retained_time'] < dt.timedelta(days=0)] = \\\n",
    "party['retained_time'][party['retained_time'] < dt.timedelta(days=0)]*(-1)"
   ]
  },
  {
   "cell_type": "code",
   "execution_count": 15,
   "metadata": {},
   "outputs": [
    {
     "name": "stderr",
     "output_type": "stream",
     "text": [
      "100%|██████████| 6962341/6962341 [00:50<00:00, 138209.90it/s]\n"
     ]
    },
    {
     "name": "stdout",
     "output_type": "stream",
     "text": [
      "CPU times: user 48.6 s, sys: 1.8 s, total: 50.4 s\n",
      "Wall time: 50.9 s\n"
     ]
    }
   ],
   "source": [
    "%%time\n",
    "\n",
    "retained_second=[t.total_seconds() for t in tqdm(party['retained_time'])]\n",
    "party['total_retained_day'] = party['retained_week']*7+party['retained_day']\n",
    "party['total_retained_second'] = party['total_retained_day']*(24*60*60)+retained_second"
   ]
  },
  {
   "cell_type": "code",
   "execution_count": 16,
   "metadata": {
    "scrolled": true
   },
   "outputs": [
    {
     "name": "stderr",
     "output_type": "stream",
     "text": [
      "100%|██████████| 6962341/6962341 [05:17<00:00, 21943.19it/s]"
     ]
    },
    {
     "name": "stdout",
     "output_type": "stream",
     "text": [
      "CPU times: user 5min 1s, sys: 12.3 s, total: 5min 14s\n",
      "Wall time: 5min 17s\n"
     ]
    },
    {
     "name": "stderr",
     "output_type": "stream",
     "text": [
      "\n"
     ]
    }
   ],
   "source": [
    "%%time\n",
    "increased_party_TRS = [[party['total_retained_second'][i]]*party['party_member_count'][i] for i in trange(len(party))]"
   ]
  },
  {
   "cell_type": "code",
   "execution_count": 18,
   "metadata": {},
   "outputs": [
    {
     "name": "stdout",
     "output_type": "stream",
     "text": [
      "CPU times: user 13.4 s, sys: 1.18 s, total: 14.6 s\n",
      "Wall time: 14.8 s\n"
     ]
    }
   ],
   "source": [
    "%%time \n",
    "\n",
    "flat_increased_party_TRS = list(chain.from_iterable(increased_party_TRS))\n",
    "all_id_and_party_TRS_df = pd.concat([pd.Series(party_member_1D_lists), \n",
    "                                     pd.Series(flat_increased_party_TRS)],axis=1)\n",
    "all_id_and_party_TRS_df.columns = ['acc_id','party_TRS']\n",
    "\n",
    "member_party_TRS_frist = all_id_and_party_TRS_df.groupby('acc_id')['party_TRS'].sum()\n",
    "party_TRS_frist_df = pd.DataFrame(member_party_TRS_frist).reset_index()\n",
    "party_TRS_frist_df.columns = ['acc_id','party_total_retained_second']\n",
    "label = pd.merge(label, party_TRS_frist_df, how='left', on='acc_id')\n",
    "label['party_total_retained_second'].fillna(0, inplace=True)\n",
    "label['party_total_retained_minute']=round(label['party_total_retained_second']/60,1)\n",
    "label.drop(columns='party_total_retained_second', inplace=True)"
   ]
  },
  {
   "cell_type": "code",
   "execution_count": 25,
   "metadata": {},
   "outputs": [],
   "source": [
    "# 메모리 부족해서 위에서 만든 리스트, 데이터프레임 리셋하는 코드\n",
    "# %reset_selective -f increase_party_TMC\n",
    "# %reset_selective -f flat_increased_party_TMC\n",
    "# %reset_selective -f acc_id_and_party_TMC_df\n",
    "# %reset_selective -f member_party_TMC_df\n",
    "# %reset_selective -f party_TMC_df\n",
    "# %reset_selective -f member_id_value_count\n",
    "# %reset_selective -f party_member_1D_lists\n",
    "# %reset_selective -f party_member_lists\n",
    "# %reset_selective -f member_party_TMC \n",
    "# %reset_selective -f increased_party_TMC "
   ]
  },
  {
   "cell_type": "markdown",
   "metadata": {},
   "source": [
    "### 2.3 party members acc id 전체를 리스트로 만들기"
   ]
  },
  {
   "cell_type": "code",
   "execution_count": 20,
   "metadata": {},
   "outputs": [],
   "source": [
    "def get_party_ids(df):\n",
    "    party_id = df[\"party_members_acc_id\"].tolist()\n",
    "    party_id = [x.split(',') for x in party_id]\n",
    "    party_id = [item for sublist in party_id for item in sublist]\n",
    "    return party_id"
   ]
  },
  {
   "cell_type": "code",
   "execution_count": 21,
   "metadata": {},
   "outputs": [
    {
     "name": "stdout",
     "output_type": "stream",
     "text": [
      "34284282\n",
      "268148\n",
      "CPU times: user 28.1 s, sys: 23.2 s, total: 51.4 s\n",
      "Wall time: 54.4 s\n"
     ]
    }
   ],
   "source": [
    "%%time\n",
    "party_id_ls = get_party_ids(party)\n",
    "\n",
    "print(len(party_id_ls))\n",
    "print(len(list(set(party_id_ls))))"
   ]
  },
  {
   "cell_type": "markdown",
   "metadata": {},
   "source": [
    "### 2.4 party start week/day & end week/day의 first, mode, last 변수\n",
    "- first/mode/last_party_start_week : 유저가 참여한 파티가 최초,최후에 생성된 주차, 가장 자주 파티가 생성된 주차\n",
    "- first/mode/last_party_end_week : 유저가 참여한 파티가 최초,최후에 종료된 주차, 가장 자주 파티가 종료된 주차"
   ]
  },
  {
   "cell_type": "code",
   "execution_count": 25,
   "metadata": {},
   "outputs": [],
   "source": [
    "def make_all_ID_and_column_df(df, column):\n",
    "    print('start making all ID & {} df'.format(column))\n",
    "    increased_column = [[df[column][i]] * df['party_member_count'][i] for i in trange(len(df))]\n",
    "    increased_column_ls = list(chain.from_iterable(increased_column))\n",
    "    \n",
    "    all_ID_and_column_df = pd.concat([pd.Series(get_party_ids(df)), \n",
    "                                      pd.Series(increased_column_ls)],axis=1)\n",
    "    all_ID_and_column_df.columns = ['acc_id',column]\n",
    "    print('end of making all ID & {} df'.format(column))\n",
    "    return all_ID_and_column_df\n",
    "\n",
    "\n",
    "def make_first_mode_last_df_and_merge_with_label(df, column, label):\n",
    "    all_ID_and_column_df = make_all_ID_and_column_df(df, column)\n",
    "    \n",
    "    print('start making {} first & mode & last df'.format(column))\n",
    "    print('working first_df...')\n",
    "    first_df = all_ID_and_column_df.groupby('acc_id')[column].min()\n",
    "    first_df = pd.DataFrame(first_df).reset_index()\n",
    "    first_df.columns = ['acc_id','first_'+column]\n",
    "    label = pd.merge(label, first_df, how='left', on='acc_id')\n",
    "    label['first_'+column].fillna(0, inplace=True)\n",
    "    \n",
    "    print('working mode_df...')\n",
    "    mode_df = all_ID_and_column_df.groupby('acc_id')[column].agg(lambda x: stats.mode(x)[0][0])\n",
    "    mode_df = pd.DataFrame(mode_df).reset_index()\n",
    "    mode_df.columns = ['acc_id','mode_'+column]\n",
    "    label = pd.merge(label, mode_df, how='left', on='acc_id')\n",
    "    label['mode_'+column].fillna(0, inplace=True)\n",
    "    \n",
    "    print('working last_df...')\n",
    "    last_df = all_ID_and_column_df.groupby('acc_id')[column].max()\n",
    "    last_df = pd.DataFrame(last_df).reset_index()\n",
    "    last_df.columns = ['acc_id','last_'+column]\n",
    "    label = pd.merge(label, last_df, how='left', on='acc_id')\n",
    "    label['last_'+column].fillna(0, inplace=True)\n",
    "    \n",
    "    print('end of making {} first & mode & last df'.format(column))\n",
    "    \n",
    "    return label"
   ]
  },
  {
   "cell_type": "code",
   "execution_count": 27,
   "metadata": {
    "scrolled": true
   },
   "outputs": [
    {
     "name": "stdout",
     "output_type": "stream",
     "text": [
      "start making all ID & party_start_week df\n"
     ]
    },
    {
     "name": "stderr",
     "output_type": "stream",
     "text": [
      "100%|██████████| 6962341/6962341 [04:44<00:00, 24477.78it/s]\n"
     ]
    },
    {
     "name": "stdout",
     "output_type": "stream",
     "text": [
      "end of making all ID & party_start_week df\n",
      "start making party_start_week first & mode & last df\n",
      "working first_df...\n",
      "working mode_df...\n",
      "working last_df...\n",
      "end of making party_start_week first & mode & last df\n",
      "Wall time: 7min\n"
     ]
    }
   ],
   "source": [
    "%time label = make_first_mode_last_df_and_merge_with_label(party, 'party_start_week', label)"
   ]
  },
  {
   "cell_type": "code",
   "execution_count": 28,
   "metadata": {},
   "outputs": [
    {
     "name": "stdout",
     "output_type": "stream",
     "text": [
      "start making all ID & party_start_day df\n"
     ]
    },
    {
     "name": "stderr",
     "output_type": "stream",
     "text": [
      "100%|██████████| 6962341/6962341 [04:55<00:00, 23594.90it/s]\n"
     ]
    },
    {
     "name": "stdout",
     "output_type": "stream",
     "text": [
      "end of making all ID & party_start_day df\n",
      "start making party_start_day first & mode & last df\n",
      "working first_df...\n",
      "working mode_df...\n",
      "working last_df...\n",
      "end of making party_start_day first & mode & last df\n",
      "Wall time: 7min 2s\n"
     ]
    }
   ],
   "source": [
    "%time label = make_first_mode_last_df_and_merge_with_label(party, 'party_start_day', label)"
   ]
  },
  {
   "cell_type": "code",
   "execution_count": 29,
   "metadata": {},
   "outputs": [
    {
     "name": "stdout",
     "output_type": "stream",
     "text": [
      "start making all ID & party_end_week df\n"
     ]
    },
    {
     "name": "stderr",
     "output_type": "stream",
     "text": [
      "100%|██████████| 6962341/6962341 [04:50<00:00, 23931.16it/s]\n"
     ]
    },
    {
     "name": "stdout",
     "output_type": "stream",
     "text": [
      "end of making all ID & party_end_week df\n",
      "start making party_end_week first & mode & last df\n",
      "working first_df...\n",
      "working mode_df...\n",
      "working last_df...\n",
      "end of making party_end_week first & mode & last df\n",
      "Wall time: 6min 55s\n"
     ]
    }
   ],
   "source": [
    "%time label = make_first_mode_last_df_and_merge_with_label(party, 'party_end_week', label)"
   ]
  },
  {
   "cell_type": "code",
   "execution_count": 30,
   "metadata": {},
   "outputs": [
    {
     "name": "stdout",
     "output_type": "stream",
     "text": [
      "start making all ID & party_end_day df\n"
     ]
    },
    {
     "name": "stderr",
     "output_type": "stream",
     "text": [
      "100%|██████████| 6962341/6962341 [04:53<00:00, 23757.94it/s]\n"
     ]
    },
    {
     "name": "stdout",
     "output_type": "stream",
     "text": [
      "end of making all ID & party_end_day df\n",
      "start making party_end_day first & mode & last df\n",
      "working first_df...\n",
      "working mode_df...\n",
      "working last_df...\n",
      "end of making party_end_day first & mode & last df\n",
      "Wall time: 6min 59s\n"
     ]
    }
   ],
   "source": [
    "%time label = make_first_mode_last_df_and_merge_with_label(party, 'party_end_day', label)"
   ]
  },
  {
   "cell_type": "code",
   "execution_count": 31,
   "metadata": {},
   "outputs": [
    {
     "data": {
      "text/html": [
       "<div>\n",
       "<style scoped>\n",
       "    .dataframe tbody tr th:only-of-type {\n",
       "        vertical-align: middle;\n",
       "    }\n",
       "\n",
       "    .dataframe tbody tr th {\n",
       "        vertical-align: top;\n",
       "    }\n",
       "\n",
       "    .dataframe thead th {\n",
       "        text-align: right;\n",
       "    }\n",
       "</style>\n",
       "<table border=\"1\" class=\"dataframe\">\n",
       "  <thead>\n",
       "    <tr style=\"text-align: right;\">\n",
       "      <th></th>\n",
       "      <th>acc_id</th>\n",
       "      <th>label</th>\n",
       "      <th>party_total_member_count</th>\n",
       "      <th>first_party_start_week</th>\n",
       "      <th>mode_party_start_week</th>\n",
       "      <th>last_party_start_week</th>\n",
       "      <th>first_party_start_day</th>\n",
       "      <th>mode_party_start_day</th>\n",
       "      <th>last_party_start_day</th>\n",
       "      <th>first_party_end_week</th>\n",
       "      <th>mode_party_end_week</th>\n",
       "      <th>last_party_end_week</th>\n",
       "      <th>first_party_end_day</th>\n",
       "      <th>mode_party_end_day</th>\n",
       "      <th>last_party_end_day</th>\n",
       "    </tr>\n",
       "  </thead>\n",
       "  <tbody>\n",
       "    <tr>\n",
       "      <th>99995</th>\n",
       "      <td>da6d33b03968d8e35821f6eb88ad22e12e37aa8867084e...</td>\n",
       "      <td>retained</td>\n",
       "      <td>1625.0</td>\n",
       "      <td>1.0</td>\n",
       "      <td>7.0</td>\n",
       "      <td>8.0</td>\n",
       "      <td>1.0</td>\n",
       "      <td>5.0</td>\n",
       "      <td>7.0</td>\n",
       "      <td>1.0</td>\n",
       "      <td>7.0</td>\n",
       "      <td>8.0</td>\n",
       "      <td>1.0</td>\n",
       "      <td>5.0</td>\n",
       "      <td>7.0</td>\n",
       "    </tr>\n",
       "    <tr>\n",
       "      <th>99996</th>\n",
       "      <td>676c944f4b6ae63818b3cad824a61233690f16a2275d5d...</td>\n",
       "      <td>retained</td>\n",
       "      <td>0.0</td>\n",
       "      <td>0.0</td>\n",
       "      <td>0.0</td>\n",
       "      <td>0.0</td>\n",
       "      <td>0.0</td>\n",
       "      <td>0.0</td>\n",
       "      <td>0.0</td>\n",
       "      <td>0.0</td>\n",
       "      <td>0.0</td>\n",
       "      <td>0.0</td>\n",
       "      <td>0.0</td>\n",
       "      <td>0.0</td>\n",
       "      <td>0.0</td>\n",
       "    </tr>\n",
       "    <tr>\n",
       "      <th>99997</th>\n",
       "      <td>695e1f28e234fc4cc53085e332fa7a76d7895ca4cc745b...</td>\n",
       "      <td>retained</td>\n",
       "      <td>3032.0</td>\n",
       "      <td>1.0</td>\n",
       "      <td>3.0</td>\n",
       "      <td>8.0</td>\n",
       "      <td>1.0</td>\n",
       "      <td>1.0</td>\n",
       "      <td>7.0</td>\n",
       "      <td>1.0</td>\n",
       "      <td>3.0</td>\n",
       "      <td>8.0</td>\n",
       "      <td>1.0</td>\n",
       "      <td>1.0</td>\n",
       "      <td>7.0</td>\n",
       "    </tr>\n",
       "    <tr>\n",
       "      <th>99998</th>\n",
       "      <td>0c87fabaad5542e533f958a1d6fd739993b94e95e00989...</td>\n",
       "      <td>retained</td>\n",
       "      <td>0.0</td>\n",
       "      <td>0.0</td>\n",
       "      <td>0.0</td>\n",
       "      <td>0.0</td>\n",
       "      <td>0.0</td>\n",
       "      <td>0.0</td>\n",
       "      <td>0.0</td>\n",
       "      <td>0.0</td>\n",
       "      <td>0.0</td>\n",
       "      <td>0.0</td>\n",
       "      <td>0.0</td>\n",
       "      <td>0.0</td>\n",
       "      <td>0.0</td>\n",
       "    </tr>\n",
       "    <tr>\n",
       "      <th>99999</th>\n",
       "      <td>47ff575cb94019df5695c5d81ec285b0d801607b2a8697...</td>\n",
       "      <td>retained</td>\n",
       "      <td>2299.0</td>\n",
       "      <td>1.0</td>\n",
       "      <td>8.0</td>\n",
       "      <td>8.0</td>\n",
       "      <td>1.0</td>\n",
       "      <td>5.0</td>\n",
       "      <td>7.0</td>\n",
       "      <td>1.0</td>\n",
       "      <td>8.0</td>\n",
       "      <td>9.0</td>\n",
       "      <td>1.0</td>\n",
       "      <td>5.0</td>\n",
       "      <td>7.0</td>\n",
       "    </tr>\n",
       "  </tbody>\n",
       "</table>\n",
       "</div>"
      ],
      "text/plain": [
       "                                                  acc_id     label  \\\n",
       "99995  da6d33b03968d8e35821f6eb88ad22e12e37aa8867084e...  retained   \n",
       "99996  676c944f4b6ae63818b3cad824a61233690f16a2275d5d...  retained   \n",
       "99997  695e1f28e234fc4cc53085e332fa7a76d7895ca4cc745b...  retained   \n",
       "99998  0c87fabaad5542e533f958a1d6fd739993b94e95e00989...  retained   \n",
       "99999  47ff575cb94019df5695c5d81ec285b0d801607b2a8697...  retained   \n",
       "\n",
       "       party_total_member_count  first_party_start_week  \\\n",
       "99995                    1625.0                     1.0   \n",
       "99996                       0.0                     0.0   \n",
       "99997                    3032.0                     1.0   \n",
       "99998                       0.0                     0.0   \n",
       "99999                    2299.0                     1.0   \n",
       "\n",
       "       mode_party_start_week  last_party_start_week  first_party_start_day  \\\n",
       "99995                    7.0                    8.0                    1.0   \n",
       "99996                    0.0                    0.0                    0.0   \n",
       "99997                    3.0                    8.0                    1.0   \n",
       "99998                    0.0                    0.0                    0.0   \n",
       "99999                    8.0                    8.0                    1.0   \n",
       "\n",
       "       mode_party_start_day  last_party_start_day  first_party_end_week  \\\n",
       "99995                   5.0                   7.0                   1.0   \n",
       "99996                   0.0                   0.0                   0.0   \n",
       "99997                   1.0                   7.0                   1.0   \n",
       "99998                   0.0                   0.0                   0.0   \n",
       "99999                   5.0                   7.0                   1.0   \n",
       "\n",
       "       mode_party_end_week  last_party_end_week  first_party_end_day  \\\n",
       "99995                  7.0                  8.0                  1.0   \n",
       "99996                  0.0                  0.0                  0.0   \n",
       "99997                  3.0                  8.0                  1.0   \n",
       "99998                  0.0                  0.0                  0.0   \n",
       "99999                  8.0                  9.0                  1.0   \n",
       "\n",
       "       mode_party_end_day  last_party_end_day  \n",
       "99995                 5.0                 7.0  \n",
       "99996                 0.0                 0.0  \n",
       "99997                 1.0                 7.0  \n",
       "99998                 0.0                 0.0  \n",
       "99999                 5.0                 7.0  "
      ]
     },
     "execution_count": 31,
     "metadata": {},
     "output_type": "execute_result"
    }
   ],
   "source": [
    "label.tail()"
   ]
  },
  {
   "cell_type": "markdown",
   "metadata": {},
   "source": [
    "## 3. 10분 이상 party만 남도록 data filtering\n",
    "- 10분 미만으로 지속된 파티는 사실상 제 기능을 하지 못한 파티라고 가정하고 전체 데이터에서 10분 이상 지속된 파티만을 필터링하여 feature engineering을 진행함\n",
    "- 별도의 언급이 없다면 10분 이상의 파티를 이하 '파티'라고 명명"
   ]
  },
  {
   "cell_type": "code",
   "execution_count": 9,
   "metadata": {},
   "outputs": [],
   "source": [
    "def time_filter(df):  \n",
    "    \"\"\"\n",
    "    지속시간이 10 분 이상인 필터링 함수\n",
    "    \"\"\"\n",
    "    ten = timedelta(minutes = 10)\n",
    "    return df[(df['duration_days'] >= 3) | (df['duration_time'] >= ten)]"
   ]
  },
  {
   "cell_type": "code",
   "execution_count": 34,
   "metadata": {
    "scrolled": false
   },
   "outputs": [
    {
     "name": "stdout",
     "output_type": "stream",
     "text": [
      "3355480\n",
      "Wall time: 9.94 s\n"
     ]
    }
   ],
   "source": [
    "%%time\n",
    "filtered_party = time_filter(party)\n",
    "print(len(filtered_party))"
   ]
  },
  {
   "cell_type": "markdown",
   "metadata": {},
   "source": [
    "## 4. party 참여 횟수 변수 생성\n",
    "- 8주간의 모든 파티 참여 횟수의 총합, week별 파티 참여 횟수의 총계 등 총 9개 변수 생성"
   ]
  },
  {
   "cell_type": "markdown",
   "metadata": {},
   "source": [
    "### 4.1 party members acc id 전체를 리스트로 만들기"
   ]
  },
  {
   "cell_type": "code",
   "execution_count": 35,
   "metadata": {},
   "outputs": [],
   "source": [
    "party_id_ls = get_party_ids(filtered_party)"
   ]
  },
  {
   "cell_type": "markdown",
   "metadata": {},
   "source": [
    "### 4.2 party_cnt(파티 참여횟수) 변수 생성"
   ]
  },
  {
   "cell_type": "code",
   "execution_count": 10,
   "metadata": {},
   "outputs": [],
   "source": [
    "def get_party_cnt(ls, merging_df):\n",
    "    df_party_id = pd.DataFrame(ls, columns=[\"acc_id\"])\n",
    "    df_party_id = df_party_id.groupby('acc_id').size().reset_index(name='party_cnt')\n",
    "    party_df = pd.merge(merging_df, df_party_id, how='left')\n",
    "    party_df[\"party_cnt\"].fillna(0, inplace=True)\n",
    "    return party_df    "
   ]
  },
  {
   "cell_type": "code",
   "execution_count": 37,
   "metadata": {},
   "outputs": [
    {
     "name": "stdout",
     "output_type": "stream",
     "text": [
      "Wall time: 9.97 s\n"
     ]
    }
   ],
   "source": [
    "%%time\n",
    "party_1 = get_party_cnt(party_id_ls, label)"
   ]
  },
  {
   "cell_type": "code",
   "execution_count": 38,
   "metadata": {},
   "outputs": [
    {
     "data": {
      "text/html": [
       "<div>\n",
       "<style scoped>\n",
       "    .dataframe tbody tr th:only-of-type {\n",
       "        vertical-align: middle;\n",
       "    }\n",
       "\n",
       "    .dataframe tbody tr th {\n",
       "        vertical-align: top;\n",
       "    }\n",
       "\n",
       "    .dataframe thead th {\n",
       "        text-align: right;\n",
       "    }\n",
       "</style>\n",
       "<table border=\"1\" class=\"dataframe\">\n",
       "  <thead>\n",
       "    <tr style=\"text-align: right;\">\n",
       "      <th></th>\n",
       "      <th>acc_id</th>\n",
       "      <th>label</th>\n",
       "      <th>party_total_member_count</th>\n",
       "      <th>first_party_start_week</th>\n",
       "      <th>mode_party_start_week</th>\n",
       "      <th>last_party_start_week</th>\n",
       "      <th>first_party_start_day</th>\n",
       "      <th>mode_party_start_day</th>\n",
       "      <th>last_party_start_day</th>\n",
       "      <th>first_party_end_week</th>\n",
       "      <th>mode_party_end_week</th>\n",
       "      <th>last_party_end_week</th>\n",
       "      <th>first_party_end_day</th>\n",
       "      <th>mode_party_end_day</th>\n",
       "      <th>last_party_end_day</th>\n",
       "      <th>party_cnt</th>\n",
       "    </tr>\n",
       "  </thead>\n",
       "  <tbody>\n",
       "    <tr>\n",
       "      <th>99995</th>\n",
       "      <td>da6d33b03968d8e35821f6eb88ad22e12e37aa8867084e...</td>\n",
       "      <td>retained</td>\n",
       "      <td>1625.0</td>\n",
       "      <td>1.0</td>\n",
       "      <td>7.0</td>\n",
       "      <td>8.0</td>\n",
       "      <td>1.0</td>\n",
       "      <td>5.0</td>\n",
       "      <td>7.0</td>\n",
       "      <td>1.0</td>\n",
       "      <td>7.0</td>\n",
       "      <td>8.0</td>\n",
       "      <td>1.0</td>\n",
       "      <td>5.0</td>\n",
       "      <td>7.0</td>\n",
       "      <td>158.0</td>\n",
       "    </tr>\n",
       "    <tr>\n",
       "      <th>99996</th>\n",
       "      <td>676c944f4b6ae63818b3cad824a61233690f16a2275d5d...</td>\n",
       "      <td>retained</td>\n",
       "      <td>0.0</td>\n",
       "      <td>0.0</td>\n",
       "      <td>0.0</td>\n",
       "      <td>0.0</td>\n",
       "      <td>0.0</td>\n",
       "      <td>0.0</td>\n",
       "      <td>0.0</td>\n",
       "      <td>0.0</td>\n",
       "      <td>0.0</td>\n",
       "      <td>0.0</td>\n",
       "      <td>0.0</td>\n",
       "      <td>0.0</td>\n",
       "      <td>0.0</td>\n",
       "      <td>0.0</td>\n",
       "    </tr>\n",
       "    <tr>\n",
       "      <th>99997</th>\n",
       "      <td>695e1f28e234fc4cc53085e332fa7a76d7895ca4cc745b...</td>\n",
       "      <td>retained</td>\n",
       "      <td>3032.0</td>\n",
       "      <td>1.0</td>\n",
       "      <td>3.0</td>\n",
       "      <td>8.0</td>\n",
       "      <td>1.0</td>\n",
       "      <td>1.0</td>\n",
       "      <td>7.0</td>\n",
       "      <td>1.0</td>\n",
       "      <td>3.0</td>\n",
       "      <td>8.0</td>\n",
       "      <td>1.0</td>\n",
       "      <td>1.0</td>\n",
       "      <td>7.0</td>\n",
       "      <td>318.0</td>\n",
       "    </tr>\n",
       "    <tr>\n",
       "      <th>99998</th>\n",
       "      <td>0c87fabaad5542e533f958a1d6fd739993b94e95e00989...</td>\n",
       "      <td>retained</td>\n",
       "      <td>0.0</td>\n",
       "      <td>0.0</td>\n",
       "      <td>0.0</td>\n",
       "      <td>0.0</td>\n",
       "      <td>0.0</td>\n",
       "      <td>0.0</td>\n",
       "      <td>0.0</td>\n",
       "      <td>0.0</td>\n",
       "      <td>0.0</td>\n",
       "      <td>0.0</td>\n",
       "      <td>0.0</td>\n",
       "      <td>0.0</td>\n",
       "      <td>0.0</td>\n",
       "      <td>0.0</td>\n",
       "    </tr>\n",
       "    <tr>\n",
       "      <th>99999</th>\n",
       "      <td>47ff575cb94019df5695c5d81ec285b0d801607b2a8697...</td>\n",
       "      <td>retained</td>\n",
       "      <td>2299.0</td>\n",
       "      <td>1.0</td>\n",
       "      <td>8.0</td>\n",
       "      <td>8.0</td>\n",
       "      <td>1.0</td>\n",
       "      <td>5.0</td>\n",
       "      <td>7.0</td>\n",
       "      <td>1.0</td>\n",
       "      <td>8.0</td>\n",
       "      <td>9.0</td>\n",
       "      <td>1.0</td>\n",
       "      <td>5.0</td>\n",
       "      <td>7.0</td>\n",
       "      <td>212.0</td>\n",
       "    </tr>\n",
       "  </tbody>\n",
       "</table>\n",
       "</div>"
      ],
      "text/plain": [
       "                                                  acc_id     label  \\\n",
       "99995  da6d33b03968d8e35821f6eb88ad22e12e37aa8867084e...  retained   \n",
       "99996  676c944f4b6ae63818b3cad824a61233690f16a2275d5d...  retained   \n",
       "99997  695e1f28e234fc4cc53085e332fa7a76d7895ca4cc745b...  retained   \n",
       "99998  0c87fabaad5542e533f958a1d6fd739993b94e95e00989...  retained   \n",
       "99999  47ff575cb94019df5695c5d81ec285b0d801607b2a8697...  retained   \n",
       "\n",
       "       party_total_member_count  first_party_start_week  \\\n",
       "99995                    1625.0                     1.0   \n",
       "99996                       0.0                     0.0   \n",
       "99997                    3032.0                     1.0   \n",
       "99998                       0.0                     0.0   \n",
       "99999                    2299.0                     1.0   \n",
       "\n",
       "       mode_party_start_week  last_party_start_week  first_party_start_day  \\\n",
       "99995                    7.0                    8.0                    1.0   \n",
       "99996                    0.0                    0.0                    0.0   \n",
       "99997                    3.0                    8.0                    1.0   \n",
       "99998                    0.0                    0.0                    0.0   \n",
       "99999                    8.0                    8.0                    1.0   \n",
       "\n",
       "       mode_party_start_day  last_party_start_day  first_party_end_week  \\\n",
       "99995                   5.0                   7.0                   1.0   \n",
       "99996                   0.0                   0.0                   0.0   \n",
       "99997                   1.0                   7.0                   1.0   \n",
       "99998                   0.0                   0.0                   0.0   \n",
       "99999                   5.0                   7.0                   1.0   \n",
       "\n",
       "       mode_party_end_week  last_party_end_week  first_party_end_day  \\\n",
       "99995                  7.0                  8.0                  1.0   \n",
       "99996                  0.0                  0.0                  0.0   \n",
       "99997                  3.0                  8.0                  1.0   \n",
       "99998                  0.0                  0.0                  0.0   \n",
       "99999                  8.0                  9.0                  1.0   \n",
       "\n",
       "       mode_party_end_day  last_party_end_day  party_cnt  \n",
       "99995                 5.0                 7.0      158.0  \n",
       "99996                 0.0                 0.0        0.0  \n",
       "99997                 1.0                 7.0      318.0  \n",
       "99998                 0.0                 0.0        0.0  \n",
       "99999                 5.0                 7.0      212.0  "
      ]
     },
     "execution_count": 38,
     "metadata": {},
     "output_type": "execute_result"
    }
   ],
   "source": [
    "party_1.tail()"
   ]
  },
  {
   "cell_type": "code",
   "execution_count": 39,
   "metadata": {},
   "outputs": [],
   "source": [
    "# label 대신 party_1 사용\n",
    "# %reset_selective -f label"
   ]
  },
  {
   "cell_type": "markdown",
   "metadata": {},
   "source": [
    "### 4.3 week별 party_cnt\n",
    "각 활동주 별 파티에 참여한 횟수의 합계."
   ]
  },
  {
   "cell_type": "markdown",
   "metadata": {},
   "source": [
    "#### (1) 파티 지속 기간(week) 확인"
   ]
  },
  {
   "cell_type": "code",
   "execution_count": 41,
   "metadata": {},
   "outputs": [],
   "source": [
    "filtered_party[\"party_duration_week\"] = filtered_party[\"party_end_week\"] - filtered_party[\"party_start_week\"]"
   ]
  },
  {
   "cell_type": "code",
   "execution_count": 42,
   "metadata": {},
   "outputs": [
    {
     "data": {
      "text/html": [
       "<div>\n",
       "<style scoped>\n",
       "    .dataframe tbody tr th:only-of-type {\n",
       "        vertical-align: middle;\n",
       "    }\n",
       "\n",
       "    .dataframe tbody tr th {\n",
       "        vertical-align: top;\n",
       "    }\n",
       "\n",
       "    .dataframe thead th {\n",
       "        text-align: right;\n",
       "    }\n",
       "</style>\n",
       "<table border=\"1\" class=\"dataframe\">\n",
       "  <thead>\n",
       "    <tr style=\"text-align: right;\">\n",
       "      <th></th>\n",
       "      <th>party_duration_week</th>\n",
       "      <th>0</th>\n",
       "    </tr>\n",
       "  </thead>\n",
       "  <tbody>\n",
       "    <tr>\n",
       "      <th>0</th>\n",
       "      <td>0</td>\n",
       "      <td>3325297</td>\n",
       "    </tr>\n",
       "    <tr>\n",
       "      <th>1</th>\n",
       "      <td>1</td>\n",
       "      <td>30183</td>\n",
       "    </tr>\n",
       "  </tbody>\n",
       "</table>\n",
       "</div>"
      ],
      "text/plain": [
       "   party_duration_week        0\n",
       "0                    0  3325297\n",
       "1                    1    30183"
      ]
     },
     "execution_count": 42,
     "metadata": {},
     "output_type": "execute_result"
    }
   ],
   "source": [
    "filtered_party.groupby(\"party_duration_week\").size().reset_index()"
   ]
  },
  {
   "cell_type": "markdown",
   "metadata": {},
   "source": [
    "#### (2) 다음 주로 넘어가는 경우 끝나는 요일 확인\n",
    "- 모두 1일에 끝나므로 시작 week만으로 count하기로 함"
   ]
  },
  {
   "cell_type": "code",
   "execution_count": 43,
   "metadata": {},
   "outputs": [
    {
     "data": {
      "text/html": [
       "<div>\n",
       "<style scoped>\n",
       "    .dataframe tbody tr th:only-of-type {\n",
       "        vertical-align: middle;\n",
       "    }\n",
       "\n",
       "    .dataframe tbody tr th {\n",
       "        vertical-align: top;\n",
       "    }\n",
       "\n",
       "    .dataframe thead th {\n",
       "        text-align: right;\n",
       "    }\n",
       "</style>\n",
       "<table border=\"1\" class=\"dataframe\">\n",
       "  <thead>\n",
       "    <tr style=\"text-align: right;\">\n",
       "      <th></th>\n",
       "      <th>party_end_day</th>\n",
       "      <th>0</th>\n",
       "    </tr>\n",
       "  </thead>\n",
       "  <tbody>\n",
       "    <tr>\n",
       "      <th>0</th>\n",
       "      <td>1</td>\n",
       "      <td>30183</td>\n",
       "    </tr>\n",
       "  </tbody>\n",
       "</table>\n",
       "</div>"
      ],
      "text/plain": [
       "   party_end_day      0\n",
       "0              1  30183"
      ]
     },
     "execution_count": 43,
     "metadata": {},
     "output_type": "execute_result"
    }
   ],
   "source": [
    "dur_1w = filtered_party[filtered_party[\"party_duration_week\"]==1]\n",
    "dur_1w.groupby(dur_1w[\"party_end_day\"]).size().reset_index()"
   ]
  },
  {
   "cell_type": "markdown",
   "metadata": {},
   "source": [
    "#### (3) week별 party_cnt 구하기"
   ]
  },
  {
   "cell_type": "code",
   "execution_count": 11,
   "metadata": {},
   "outputs": [],
   "source": [
    "# week별 id당 party cnt를 계산한 df를 만드는 함수\n",
    "def week_cnt(week, merging_df, df = party):\n",
    "    party = df[df[\"party_start_week\"] == week]\n",
    "    party_id = party[\"party_members_acc_id\"].tolist()\n",
    "    party_id = [x.split(',') for x in party_id]\n",
    "    party_id = [item for sublist in party_id for item in sublist]\n",
    "    print(\"week {} party id: {}\".format(week, len(party_id)))\n",
    "    party_id_df = pd.DataFrame(party_id, columns=[\"acc_id\"])\n",
    "    party_id_df = party_id_df.groupby('acc_id').size().reset_index(name = \"party_cnt_w\"+str(week))\n",
    "    merged_df = pd.merge(merging_df, party_id_df, how='left')\n",
    "    merged_df.fillna(0, inplace=True)\n",
    "    return merged_df"
   ]
  },
  {
   "cell_type": "code",
   "execution_count": 45,
   "metadata": {},
   "outputs": [
    {
     "name": "stderr",
     "output_type": "stream",
     "text": [
      "  0%|          | 0/8 [00:00<?, ?it/s]"
     ]
    },
    {
     "name": "stdout",
     "output_type": "stream",
     "text": [
      "week 1 party id: 1803242\n"
     ]
    },
    {
     "name": "stderr",
     "output_type": "stream",
     "text": [
      " 12%|█▎        | 1/8 [00:02<00:20,  2.92s/it]"
     ]
    },
    {
     "name": "stdout",
     "output_type": "stream",
     "text": [
      "week 2 party id: 1964602\n"
     ]
    },
    {
     "name": "stderr",
     "output_type": "stream",
     "text": [
      " 25%|██▌       | 2/8 [00:05<00:17,  2.85s/it]"
     ]
    },
    {
     "name": "stdout",
     "output_type": "stream",
     "text": [
      "week 3 party id: 1970979\n"
     ]
    },
    {
     "name": "stderr",
     "output_type": "stream",
     "text": [
      " 38%|███▊      | 3/8 [00:08<00:14,  2.86s/it]"
     ]
    },
    {
     "name": "stdout",
     "output_type": "stream",
     "text": [
      "week 4 party id: 2128263\n"
     ]
    },
    {
     "name": "stderr",
     "output_type": "stream",
     "text": [
      " 50%|█████     | 4/8 [00:11<00:11,  2.88s/it]"
     ]
    },
    {
     "name": "stdout",
     "output_type": "stream",
     "text": [
      "week 5 party id: 2561052\n"
     ]
    },
    {
     "name": "stderr",
     "output_type": "stream",
     "text": [
      " 62%|██████▎   | 5/8 [00:15<00:09,  3.04s/it]"
     ]
    },
    {
     "name": "stdout",
     "output_type": "stream",
     "text": [
      "week 6 party id: 2540356\n"
     ]
    },
    {
     "name": "stderr",
     "output_type": "stream",
     "text": [
      " 75%|███████▌  | 6/8 [00:18<00:06,  3.13s/it]"
     ]
    },
    {
     "name": "stdout",
     "output_type": "stream",
     "text": [
      "week 7 party id: 4046387\n"
     ]
    },
    {
     "name": "stderr",
     "output_type": "stream",
     "text": [
      " 88%|████████▊ | 7/8 [00:23<00:03,  3.40s/it]"
     ]
    },
    {
     "name": "stdout",
     "output_type": "stream",
     "text": [
      "week 8 party id: 3766526\n"
     ]
    },
    {
     "name": "stderr",
     "output_type": "stream",
     "text": [
      "100%|██████████| 8/8 [00:29<00:00,  3.64s/it]\n"
     ]
    },
    {
     "name": "stdout",
     "output_type": "stream",
     "text": [
      "Wall time: 29.1 s\n"
     ]
    }
   ],
   "source": [
    "%%time\n",
    "for i in trange(1,9):\n",
    "    party_1 = week_cnt(i, party_1, df = filtered_party)"
   ]
  },
  {
   "cell_type": "code",
   "execution_count": 46,
   "metadata": {},
   "outputs": [
    {
     "data": {
      "text/html": [
       "<div>\n",
       "<style scoped>\n",
       "    .dataframe tbody tr th:only-of-type {\n",
       "        vertical-align: middle;\n",
       "    }\n",
       "\n",
       "    .dataframe tbody tr th {\n",
       "        vertical-align: top;\n",
       "    }\n",
       "\n",
       "    .dataframe thead th {\n",
       "        text-align: right;\n",
       "    }\n",
       "</style>\n",
       "<table border=\"1\" class=\"dataframe\">\n",
       "  <thead>\n",
       "    <tr style=\"text-align: right;\">\n",
       "      <th></th>\n",
       "      <th>acc_id</th>\n",
       "      <th>label</th>\n",
       "      <th>party_total_member_count</th>\n",
       "      <th>first_party_start_week</th>\n",
       "      <th>mode_party_start_week</th>\n",
       "      <th>last_party_start_week</th>\n",
       "      <th>first_party_start_day</th>\n",
       "      <th>mode_party_start_day</th>\n",
       "      <th>last_party_start_day</th>\n",
       "      <th>first_party_end_week</th>\n",
       "      <th>...</th>\n",
       "      <th>last_party_end_day</th>\n",
       "      <th>party_cnt</th>\n",
       "      <th>party_cnt_w1</th>\n",
       "      <th>party_cnt_w2</th>\n",
       "      <th>party_cnt_w3</th>\n",
       "      <th>party_cnt_w4</th>\n",
       "      <th>party_cnt_w5</th>\n",
       "      <th>party_cnt_w6</th>\n",
       "      <th>party_cnt_w7</th>\n",
       "      <th>party_cnt_w8</th>\n",
       "    </tr>\n",
       "  </thead>\n",
       "  <tbody>\n",
       "    <tr>\n",
       "      <th>99995</th>\n",
       "      <td>da6d33b03968d8e35821f6eb88ad22e12e37aa8867084e...</td>\n",
       "      <td>retained</td>\n",
       "      <td>1625.0</td>\n",
       "      <td>1.0</td>\n",
       "      <td>7.0</td>\n",
       "      <td>8.0</td>\n",
       "      <td>1.0</td>\n",
       "      <td>5.0</td>\n",
       "      <td>7.0</td>\n",
       "      <td>1.0</td>\n",
       "      <td>...</td>\n",
       "      <td>7.0</td>\n",
       "      <td>158.0</td>\n",
       "      <td>9.0</td>\n",
       "      <td>8.0</td>\n",
       "      <td>9.0</td>\n",
       "      <td>30.0</td>\n",
       "      <td>32.0</td>\n",
       "      <td>7.0</td>\n",
       "      <td>29.0</td>\n",
       "      <td>34.0</td>\n",
       "    </tr>\n",
       "    <tr>\n",
       "      <th>99996</th>\n",
       "      <td>676c944f4b6ae63818b3cad824a61233690f16a2275d5d...</td>\n",
       "      <td>retained</td>\n",
       "      <td>0.0</td>\n",
       "      <td>0.0</td>\n",
       "      <td>0.0</td>\n",
       "      <td>0.0</td>\n",
       "      <td>0.0</td>\n",
       "      <td>0.0</td>\n",
       "      <td>0.0</td>\n",
       "      <td>0.0</td>\n",
       "      <td>...</td>\n",
       "      <td>0.0</td>\n",
       "      <td>0.0</td>\n",
       "      <td>0.0</td>\n",
       "      <td>0.0</td>\n",
       "      <td>0.0</td>\n",
       "      <td>0.0</td>\n",
       "      <td>0.0</td>\n",
       "      <td>0.0</td>\n",
       "      <td>0.0</td>\n",
       "      <td>0.0</td>\n",
       "    </tr>\n",
       "    <tr>\n",
       "      <th>99997</th>\n",
       "      <td>695e1f28e234fc4cc53085e332fa7a76d7895ca4cc745b...</td>\n",
       "      <td>retained</td>\n",
       "      <td>3032.0</td>\n",
       "      <td>1.0</td>\n",
       "      <td>3.0</td>\n",
       "      <td>8.0</td>\n",
       "      <td>1.0</td>\n",
       "      <td>1.0</td>\n",
       "      <td>7.0</td>\n",
       "      <td>1.0</td>\n",
       "      <td>...</td>\n",
       "      <td>7.0</td>\n",
       "      <td>318.0</td>\n",
       "      <td>39.0</td>\n",
       "      <td>32.0</td>\n",
       "      <td>56.0</td>\n",
       "      <td>57.0</td>\n",
       "      <td>34.0</td>\n",
       "      <td>23.0</td>\n",
       "      <td>40.0</td>\n",
       "      <td>37.0</td>\n",
       "    </tr>\n",
       "    <tr>\n",
       "      <th>99998</th>\n",
       "      <td>0c87fabaad5542e533f958a1d6fd739993b94e95e00989...</td>\n",
       "      <td>retained</td>\n",
       "      <td>0.0</td>\n",
       "      <td>0.0</td>\n",
       "      <td>0.0</td>\n",
       "      <td>0.0</td>\n",
       "      <td>0.0</td>\n",
       "      <td>0.0</td>\n",
       "      <td>0.0</td>\n",
       "      <td>0.0</td>\n",
       "      <td>...</td>\n",
       "      <td>0.0</td>\n",
       "      <td>0.0</td>\n",
       "      <td>0.0</td>\n",
       "      <td>0.0</td>\n",
       "      <td>0.0</td>\n",
       "      <td>0.0</td>\n",
       "      <td>0.0</td>\n",
       "      <td>0.0</td>\n",
       "      <td>0.0</td>\n",
       "      <td>0.0</td>\n",
       "    </tr>\n",
       "    <tr>\n",
       "      <th>99999</th>\n",
       "      <td>47ff575cb94019df5695c5d81ec285b0d801607b2a8697...</td>\n",
       "      <td>retained</td>\n",
       "      <td>2299.0</td>\n",
       "      <td>1.0</td>\n",
       "      <td>8.0</td>\n",
       "      <td>8.0</td>\n",
       "      <td>1.0</td>\n",
       "      <td>5.0</td>\n",
       "      <td>7.0</td>\n",
       "      <td>1.0</td>\n",
       "      <td>...</td>\n",
       "      <td>7.0</td>\n",
       "      <td>212.0</td>\n",
       "      <td>30.0</td>\n",
       "      <td>22.0</td>\n",
       "      <td>10.0</td>\n",
       "      <td>3.0</td>\n",
       "      <td>27.0</td>\n",
       "      <td>38.0</td>\n",
       "      <td>36.0</td>\n",
       "      <td>46.0</td>\n",
       "    </tr>\n",
       "  </tbody>\n",
       "</table>\n",
       "<p>5 rows × 24 columns</p>\n",
       "</div>"
      ],
      "text/plain": [
       "                                                  acc_id     label  \\\n",
       "99995  da6d33b03968d8e35821f6eb88ad22e12e37aa8867084e...  retained   \n",
       "99996  676c944f4b6ae63818b3cad824a61233690f16a2275d5d...  retained   \n",
       "99997  695e1f28e234fc4cc53085e332fa7a76d7895ca4cc745b...  retained   \n",
       "99998  0c87fabaad5542e533f958a1d6fd739993b94e95e00989...  retained   \n",
       "99999  47ff575cb94019df5695c5d81ec285b0d801607b2a8697...  retained   \n",
       "\n",
       "       party_total_member_count  first_party_start_week  \\\n",
       "99995                    1625.0                     1.0   \n",
       "99996                       0.0                     0.0   \n",
       "99997                    3032.0                     1.0   \n",
       "99998                       0.0                     0.0   \n",
       "99999                    2299.0                     1.0   \n",
       "\n",
       "       mode_party_start_week  last_party_start_week  first_party_start_day  \\\n",
       "99995                    7.0                    8.0                    1.0   \n",
       "99996                    0.0                    0.0                    0.0   \n",
       "99997                    3.0                    8.0                    1.0   \n",
       "99998                    0.0                    0.0                    0.0   \n",
       "99999                    8.0                    8.0                    1.0   \n",
       "\n",
       "       mode_party_start_day  last_party_start_day  first_party_end_week  \\\n",
       "99995                   5.0                   7.0                   1.0   \n",
       "99996                   0.0                   0.0                   0.0   \n",
       "99997                   1.0                   7.0                   1.0   \n",
       "99998                   0.0                   0.0                   0.0   \n",
       "99999                   5.0                   7.0                   1.0   \n",
       "\n",
       "           ...       last_party_end_day  party_cnt  party_cnt_w1  \\\n",
       "99995      ...                      7.0      158.0           9.0   \n",
       "99996      ...                      0.0        0.0           0.0   \n",
       "99997      ...                      7.0      318.0          39.0   \n",
       "99998      ...                      0.0        0.0           0.0   \n",
       "99999      ...                      7.0      212.0          30.0   \n",
       "\n",
       "       party_cnt_w2  party_cnt_w3  party_cnt_w4  party_cnt_w5  party_cnt_w6  \\\n",
       "99995           8.0           9.0          30.0          32.0           7.0   \n",
       "99996           0.0           0.0           0.0           0.0           0.0   \n",
       "99997          32.0          56.0          57.0          34.0          23.0   \n",
       "99998           0.0           0.0           0.0           0.0           0.0   \n",
       "99999          22.0          10.0           3.0          27.0          38.0   \n",
       "\n",
       "       party_cnt_w7  party_cnt_w8  \n",
       "99995          29.0          34.0  \n",
       "99996           0.0           0.0  \n",
       "99997          40.0          37.0  \n",
       "99998           0.0           0.0  \n",
       "99999          36.0          46.0  \n",
       "\n",
       "[5 rows x 24 columns]"
      ]
     },
     "execution_count": 46,
     "metadata": {},
     "output_type": "execute_result"
    }
   ],
   "source": [
    "party_1.tail()"
   ]
  },
  {
   "cell_type": "markdown",
   "metadata": {},
   "source": [
    "## 5. party count 7-8주와 6-8주의 전체 중 비중 변수 생성\n",
    "8주 동안의 파티 참여 횟수 중 7-8주와 6-8주의 파티참여 횟수가 차지하는 비율."
   ]
  },
  {
   "cell_type": "code",
   "execution_count": 47,
   "metadata": {},
   "outputs": [
    {
     "data": {
      "text/html": [
       "<div>\n",
       "<style scoped>\n",
       "    .dataframe tbody tr th:only-of-type {\n",
       "        vertical-align: middle;\n",
       "    }\n",
       "\n",
       "    .dataframe tbody tr th {\n",
       "        vertical-align: top;\n",
       "    }\n",
       "\n",
       "    .dataframe thead th {\n",
       "        text-align: right;\n",
       "    }\n",
       "</style>\n",
       "<table border=\"1\" class=\"dataframe\">\n",
       "  <thead>\n",
       "    <tr style=\"text-align: right;\">\n",
       "      <th></th>\n",
       "      <th>acc_id</th>\n",
       "      <th>label</th>\n",
       "      <th>party_total_member_count</th>\n",
       "      <th>first_party_start_week</th>\n",
       "      <th>mode_party_start_week</th>\n",
       "      <th>last_party_start_week</th>\n",
       "      <th>first_party_start_day</th>\n",
       "      <th>mode_party_start_day</th>\n",
       "      <th>last_party_start_day</th>\n",
       "      <th>first_party_end_week</th>\n",
       "      <th>...</th>\n",
       "      <th>party_cnt</th>\n",
       "      <th>party_cnt_w1</th>\n",
       "      <th>party_cnt_w2</th>\n",
       "      <th>party_cnt_w3</th>\n",
       "      <th>party_cnt_w4</th>\n",
       "      <th>party_cnt_w5</th>\n",
       "      <th>party_cnt_w6</th>\n",
       "      <th>party_cnt_w7</th>\n",
       "      <th>party_cnt_w8</th>\n",
       "      <th>party_78_ratio</th>\n",
       "    </tr>\n",
       "  </thead>\n",
       "  <tbody>\n",
       "    <tr>\n",
       "      <th>99995</th>\n",
       "      <td>da6d33b03968d8e35821f6eb88ad22e12e37aa8867084e...</td>\n",
       "      <td>retained</td>\n",
       "      <td>1625.0</td>\n",
       "      <td>1.0</td>\n",
       "      <td>7.0</td>\n",
       "      <td>8.0</td>\n",
       "      <td>1.0</td>\n",
       "      <td>5.0</td>\n",
       "      <td>7.0</td>\n",
       "      <td>1.0</td>\n",
       "      <td>...</td>\n",
       "      <td>158.0</td>\n",
       "      <td>9.0</td>\n",
       "      <td>8.0</td>\n",
       "      <td>9.0</td>\n",
       "      <td>30.0</td>\n",
       "      <td>32.0</td>\n",
       "      <td>7.0</td>\n",
       "      <td>29.0</td>\n",
       "      <td>34.0</td>\n",
       "      <td>0.398734</td>\n",
       "    </tr>\n",
       "    <tr>\n",
       "      <th>99996</th>\n",
       "      <td>676c944f4b6ae63818b3cad824a61233690f16a2275d5d...</td>\n",
       "      <td>retained</td>\n",
       "      <td>0.0</td>\n",
       "      <td>0.0</td>\n",
       "      <td>0.0</td>\n",
       "      <td>0.0</td>\n",
       "      <td>0.0</td>\n",
       "      <td>0.0</td>\n",
       "      <td>0.0</td>\n",
       "      <td>0.0</td>\n",
       "      <td>...</td>\n",
       "      <td>0.0</td>\n",
       "      <td>0.0</td>\n",
       "      <td>0.0</td>\n",
       "      <td>0.0</td>\n",
       "      <td>0.0</td>\n",
       "      <td>0.0</td>\n",
       "      <td>0.0</td>\n",
       "      <td>0.0</td>\n",
       "      <td>0.0</td>\n",
       "      <td>0.000000</td>\n",
       "    </tr>\n",
       "    <tr>\n",
       "      <th>99997</th>\n",
       "      <td>695e1f28e234fc4cc53085e332fa7a76d7895ca4cc745b...</td>\n",
       "      <td>retained</td>\n",
       "      <td>3032.0</td>\n",
       "      <td>1.0</td>\n",
       "      <td>3.0</td>\n",
       "      <td>8.0</td>\n",
       "      <td>1.0</td>\n",
       "      <td>1.0</td>\n",
       "      <td>7.0</td>\n",
       "      <td>1.0</td>\n",
       "      <td>...</td>\n",
       "      <td>318.0</td>\n",
       "      <td>39.0</td>\n",
       "      <td>32.0</td>\n",
       "      <td>56.0</td>\n",
       "      <td>57.0</td>\n",
       "      <td>34.0</td>\n",
       "      <td>23.0</td>\n",
       "      <td>40.0</td>\n",
       "      <td>37.0</td>\n",
       "      <td>0.242138</td>\n",
       "    </tr>\n",
       "    <tr>\n",
       "      <th>99998</th>\n",
       "      <td>0c87fabaad5542e533f958a1d6fd739993b94e95e00989...</td>\n",
       "      <td>retained</td>\n",
       "      <td>0.0</td>\n",
       "      <td>0.0</td>\n",
       "      <td>0.0</td>\n",
       "      <td>0.0</td>\n",
       "      <td>0.0</td>\n",
       "      <td>0.0</td>\n",
       "      <td>0.0</td>\n",
       "      <td>0.0</td>\n",
       "      <td>...</td>\n",
       "      <td>0.0</td>\n",
       "      <td>0.0</td>\n",
       "      <td>0.0</td>\n",
       "      <td>0.0</td>\n",
       "      <td>0.0</td>\n",
       "      <td>0.0</td>\n",
       "      <td>0.0</td>\n",
       "      <td>0.0</td>\n",
       "      <td>0.0</td>\n",
       "      <td>0.000000</td>\n",
       "    </tr>\n",
       "    <tr>\n",
       "      <th>99999</th>\n",
       "      <td>47ff575cb94019df5695c5d81ec285b0d801607b2a8697...</td>\n",
       "      <td>retained</td>\n",
       "      <td>2299.0</td>\n",
       "      <td>1.0</td>\n",
       "      <td>8.0</td>\n",
       "      <td>8.0</td>\n",
       "      <td>1.0</td>\n",
       "      <td>5.0</td>\n",
       "      <td>7.0</td>\n",
       "      <td>1.0</td>\n",
       "      <td>...</td>\n",
       "      <td>212.0</td>\n",
       "      <td>30.0</td>\n",
       "      <td>22.0</td>\n",
       "      <td>10.0</td>\n",
       "      <td>3.0</td>\n",
       "      <td>27.0</td>\n",
       "      <td>38.0</td>\n",
       "      <td>36.0</td>\n",
       "      <td>46.0</td>\n",
       "      <td>0.386792</td>\n",
       "    </tr>\n",
       "  </tbody>\n",
       "</table>\n",
       "<p>5 rows × 25 columns</p>\n",
       "</div>"
      ],
      "text/plain": [
       "                                                  acc_id     label  \\\n",
       "99995  da6d33b03968d8e35821f6eb88ad22e12e37aa8867084e...  retained   \n",
       "99996  676c944f4b6ae63818b3cad824a61233690f16a2275d5d...  retained   \n",
       "99997  695e1f28e234fc4cc53085e332fa7a76d7895ca4cc745b...  retained   \n",
       "99998  0c87fabaad5542e533f958a1d6fd739993b94e95e00989...  retained   \n",
       "99999  47ff575cb94019df5695c5d81ec285b0d801607b2a8697...  retained   \n",
       "\n",
       "       party_total_member_count  first_party_start_week  \\\n",
       "99995                    1625.0                     1.0   \n",
       "99996                       0.0                     0.0   \n",
       "99997                    3032.0                     1.0   \n",
       "99998                       0.0                     0.0   \n",
       "99999                    2299.0                     1.0   \n",
       "\n",
       "       mode_party_start_week  last_party_start_week  first_party_start_day  \\\n",
       "99995                    7.0                    8.0                    1.0   \n",
       "99996                    0.0                    0.0                    0.0   \n",
       "99997                    3.0                    8.0                    1.0   \n",
       "99998                    0.0                    0.0                    0.0   \n",
       "99999                    8.0                    8.0                    1.0   \n",
       "\n",
       "       mode_party_start_day  last_party_start_day  first_party_end_week  \\\n",
       "99995                   5.0                   7.0                   1.0   \n",
       "99996                   0.0                   0.0                   0.0   \n",
       "99997                   1.0                   7.0                   1.0   \n",
       "99998                   0.0                   0.0                   0.0   \n",
       "99999                   5.0                   7.0                   1.0   \n",
       "\n",
       "            ...        party_cnt  party_cnt_w1  party_cnt_w2  party_cnt_w3  \\\n",
       "99995       ...            158.0           9.0           8.0           9.0   \n",
       "99996       ...              0.0           0.0           0.0           0.0   \n",
       "99997       ...            318.0          39.0          32.0          56.0   \n",
       "99998       ...              0.0           0.0           0.0           0.0   \n",
       "99999       ...            212.0          30.0          22.0          10.0   \n",
       "\n",
       "       party_cnt_w4  party_cnt_w5  party_cnt_w6  party_cnt_w7  party_cnt_w8  \\\n",
       "99995          30.0          32.0           7.0          29.0          34.0   \n",
       "99996           0.0           0.0           0.0           0.0           0.0   \n",
       "99997          57.0          34.0          23.0          40.0          37.0   \n",
       "99998           0.0           0.0           0.0           0.0           0.0   \n",
       "99999           3.0          27.0          38.0          36.0          46.0   \n",
       "\n",
       "       party_78_ratio  \n",
       "99995        0.398734  \n",
       "99996        0.000000  \n",
       "99997        0.242138  \n",
       "99998        0.000000  \n",
       "99999        0.386792  \n",
       "\n",
       "[5 rows x 25 columns]"
      ]
     },
     "execution_count": 47,
     "metadata": {},
     "output_type": "execute_result"
    }
   ],
   "source": [
    "party_1[\"party_78_ratio\"] = party_1.loc[:,\"party_cnt_w7\":\"party_cnt_w8\"].sum(axis=1) / party_1[\"party_cnt\"]\n",
    "party_1.fillna(0, inplace=True)\n",
    "party_1.tail()"
   ]
  },
  {
   "cell_type": "code",
   "execution_count": 48,
   "metadata": {},
   "outputs": [
    {
     "data": {
      "text/html": [
       "<div>\n",
       "<style scoped>\n",
       "    .dataframe tbody tr th:only-of-type {\n",
       "        vertical-align: middle;\n",
       "    }\n",
       "\n",
       "    .dataframe tbody tr th {\n",
       "        vertical-align: top;\n",
       "    }\n",
       "\n",
       "    .dataframe thead th {\n",
       "        text-align: right;\n",
       "    }\n",
       "</style>\n",
       "<table border=\"1\" class=\"dataframe\">\n",
       "  <thead>\n",
       "    <tr style=\"text-align: right;\">\n",
       "      <th></th>\n",
       "      <th>acc_id</th>\n",
       "      <th>label</th>\n",
       "      <th>party_total_member_count</th>\n",
       "      <th>first_party_start_week</th>\n",
       "      <th>mode_party_start_week</th>\n",
       "      <th>last_party_start_week</th>\n",
       "      <th>first_party_start_day</th>\n",
       "      <th>mode_party_start_day</th>\n",
       "      <th>last_party_start_day</th>\n",
       "      <th>first_party_end_week</th>\n",
       "      <th>...</th>\n",
       "      <th>party_cnt_w1</th>\n",
       "      <th>party_cnt_w2</th>\n",
       "      <th>party_cnt_w3</th>\n",
       "      <th>party_cnt_w4</th>\n",
       "      <th>party_cnt_w5</th>\n",
       "      <th>party_cnt_w6</th>\n",
       "      <th>party_cnt_w7</th>\n",
       "      <th>party_cnt_w8</th>\n",
       "      <th>party_78_ratio</th>\n",
       "      <th>party_678_ratio</th>\n",
       "    </tr>\n",
       "  </thead>\n",
       "  <tbody>\n",
       "    <tr>\n",
       "      <th>99995</th>\n",
       "      <td>da6d33b03968d8e35821f6eb88ad22e12e37aa8867084e...</td>\n",
       "      <td>retained</td>\n",
       "      <td>1625.0</td>\n",
       "      <td>1.0</td>\n",
       "      <td>7.0</td>\n",
       "      <td>8.0</td>\n",
       "      <td>1.0</td>\n",
       "      <td>5.0</td>\n",
       "      <td>7.0</td>\n",
       "      <td>1.0</td>\n",
       "      <td>...</td>\n",
       "      <td>9.0</td>\n",
       "      <td>8.0</td>\n",
       "      <td>9.0</td>\n",
       "      <td>30.0</td>\n",
       "      <td>32.0</td>\n",
       "      <td>7.0</td>\n",
       "      <td>29.0</td>\n",
       "      <td>34.0</td>\n",
       "      <td>0.398734</td>\n",
       "      <td>0.443038</td>\n",
       "    </tr>\n",
       "    <tr>\n",
       "      <th>99996</th>\n",
       "      <td>676c944f4b6ae63818b3cad824a61233690f16a2275d5d...</td>\n",
       "      <td>retained</td>\n",
       "      <td>0.0</td>\n",
       "      <td>0.0</td>\n",
       "      <td>0.0</td>\n",
       "      <td>0.0</td>\n",
       "      <td>0.0</td>\n",
       "      <td>0.0</td>\n",
       "      <td>0.0</td>\n",
       "      <td>0.0</td>\n",
       "      <td>...</td>\n",
       "      <td>0.0</td>\n",
       "      <td>0.0</td>\n",
       "      <td>0.0</td>\n",
       "      <td>0.0</td>\n",
       "      <td>0.0</td>\n",
       "      <td>0.0</td>\n",
       "      <td>0.0</td>\n",
       "      <td>0.0</td>\n",
       "      <td>0.000000</td>\n",
       "      <td>0.000000</td>\n",
       "    </tr>\n",
       "    <tr>\n",
       "      <th>99997</th>\n",
       "      <td>695e1f28e234fc4cc53085e332fa7a76d7895ca4cc745b...</td>\n",
       "      <td>retained</td>\n",
       "      <td>3032.0</td>\n",
       "      <td>1.0</td>\n",
       "      <td>3.0</td>\n",
       "      <td>8.0</td>\n",
       "      <td>1.0</td>\n",
       "      <td>1.0</td>\n",
       "      <td>7.0</td>\n",
       "      <td>1.0</td>\n",
       "      <td>...</td>\n",
       "      <td>39.0</td>\n",
       "      <td>32.0</td>\n",
       "      <td>56.0</td>\n",
       "      <td>57.0</td>\n",
       "      <td>34.0</td>\n",
       "      <td>23.0</td>\n",
       "      <td>40.0</td>\n",
       "      <td>37.0</td>\n",
       "      <td>0.242138</td>\n",
       "      <td>0.314465</td>\n",
       "    </tr>\n",
       "    <tr>\n",
       "      <th>99998</th>\n",
       "      <td>0c87fabaad5542e533f958a1d6fd739993b94e95e00989...</td>\n",
       "      <td>retained</td>\n",
       "      <td>0.0</td>\n",
       "      <td>0.0</td>\n",
       "      <td>0.0</td>\n",
       "      <td>0.0</td>\n",
       "      <td>0.0</td>\n",
       "      <td>0.0</td>\n",
       "      <td>0.0</td>\n",
       "      <td>0.0</td>\n",
       "      <td>...</td>\n",
       "      <td>0.0</td>\n",
       "      <td>0.0</td>\n",
       "      <td>0.0</td>\n",
       "      <td>0.0</td>\n",
       "      <td>0.0</td>\n",
       "      <td>0.0</td>\n",
       "      <td>0.0</td>\n",
       "      <td>0.0</td>\n",
       "      <td>0.000000</td>\n",
       "      <td>0.000000</td>\n",
       "    </tr>\n",
       "    <tr>\n",
       "      <th>99999</th>\n",
       "      <td>47ff575cb94019df5695c5d81ec285b0d801607b2a8697...</td>\n",
       "      <td>retained</td>\n",
       "      <td>2299.0</td>\n",
       "      <td>1.0</td>\n",
       "      <td>8.0</td>\n",
       "      <td>8.0</td>\n",
       "      <td>1.0</td>\n",
       "      <td>5.0</td>\n",
       "      <td>7.0</td>\n",
       "      <td>1.0</td>\n",
       "      <td>...</td>\n",
       "      <td>30.0</td>\n",
       "      <td>22.0</td>\n",
       "      <td>10.0</td>\n",
       "      <td>3.0</td>\n",
       "      <td>27.0</td>\n",
       "      <td>38.0</td>\n",
       "      <td>36.0</td>\n",
       "      <td>46.0</td>\n",
       "      <td>0.386792</td>\n",
       "      <td>0.566038</td>\n",
       "    </tr>\n",
       "  </tbody>\n",
       "</table>\n",
       "<p>5 rows × 26 columns</p>\n",
       "</div>"
      ],
      "text/plain": [
       "                                                  acc_id     label  \\\n",
       "99995  da6d33b03968d8e35821f6eb88ad22e12e37aa8867084e...  retained   \n",
       "99996  676c944f4b6ae63818b3cad824a61233690f16a2275d5d...  retained   \n",
       "99997  695e1f28e234fc4cc53085e332fa7a76d7895ca4cc745b...  retained   \n",
       "99998  0c87fabaad5542e533f958a1d6fd739993b94e95e00989...  retained   \n",
       "99999  47ff575cb94019df5695c5d81ec285b0d801607b2a8697...  retained   \n",
       "\n",
       "       party_total_member_count  first_party_start_week  \\\n",
       "99995                    1625.0                     1.0   \n",
       "99996                       0.0                     0.0   \n",
       "99997                    3032.0                     1.0   \n",
       "99998                       0.0                     0.0   \n",
       "99999                    2299.0                     1.0   \n",
       "\n",
       "       mode_party_start_week  last_party_start_week  first_party_start_day  \\\n",
       "99995                    7.0                    8.0                    1.0   \n",
       "99996                    0.0                    0.0                    0.0   \n",
       "99997                    3.0                    8.0                    1.0   \n",
       "99998                    0.0                    0.0                    0.0   \n",
       "99999                    8.0                    8.0                    1.0   \n",
       "\n",
       "       mode_party_start_day  last_party_start_day  first_party_end_week  \\\n",
       "99995                   5.0                   7.0                   1.0   \n",
       "99996                   0.0                   0.0                   0.0   \n",
       "99997                   1.0                   7.0                   1.0   \n",
       "99998                   0.0                   0.0                   0.0   \n",
       "99999                   5.0                   7.0                   1.0   \n",
       "\n",
       "            ...         party_cnt_w1  party_cnt_w2  party_cnt_w3  \\\n",
       "99995       ...                  9.0           8.0           9.0   \n",
       "99996       ...                  0.0           0.0           0.0   \n",
       "99997       ...                 39.0          32.0          56.0   \n",
       "99998       ...                  0.0           0.0           0.0   \n",
       "99999       ...                 30.0          22.0          10.0   \n",
       "\n",
       "       party_cnt_w4  party_cnt_w5  party_cnt_w6  party_cnt_w7  party_cnt_w8  \\\n",
       "99995          30.0          32.0           7.0          29.0          34.0   \n",
       "99996           0.0           0.0           0.0           0.0           0.0   \n",
       "99997          57.0          34.0          23.0          40.0          37.0   \n",
       "99998           0.0           0.0           0.0           0.0           0.0   \n",
       "99999           3.0          27.0          38.0          36.0          46.0   \n",
       "\n",
       "       party_78_ratio  party_678_ratio  \n",
       "99995        0.398734         0.443038  \n",
       "99996        0.000000         0.000000  \n",
       "99997        0.242138         0.314465  \n",
       "99998        0.000000         0.000000  \n",
       "99999        0.386792         0.566038  \n",
       "\n",
       "[5 rows x 26 columns]"
      ]
     },
     "execution_count": 48,
     "metadata": {},
     "output_type": "execute_result"
    }
   ],
   "source": [
    "party_1[\"party_678_ratio\"] = party_1.loc[:,\"party_cnt_w6\":\"party_cnt_w8\"].sum(axis=1) / party_1[\"party_cnt\"]\n",
    "party_1.fillna(0, inplace=True)\n",
    "party_1.tail()"
   ]
  },
  {
   "cell_type": "markdown",
   "metadata": {},
   "source": [
    "## 6. week별 party count의 표준편차 변수 생성\n",
    "유저가 활동주 별로 파티에 참여한 횟수의 표준편차 "
   ]
  },
  {
   "cell_type": "code",
   "execution_count": 49,
   "metadata": {
    "scrolled": true
   },
   "outputs": [
    {
     "data": {
      "text/html": [
       "<div>\n",
       "<style scoped>\n",
       "    .dataframe tbody tr th:only-of-type {\n",
       "        vertical-align: middle;\n",
       "    }\n",
       "\n",
       "    .dataframe tbody tr th {\n",
       "        vertical-align: top;\n",
       "    }\n",
       "\n",
       "    .dataframe thead th {\n",
       "        text-align: right;\n",
       "    }\n",
       "</style>\n",
       "<table border=\"1\" class=\"dataframe\">\n",
       "  <thead>\n",
       "    <tr style=\"text-align: right;\">\n",
       "      <th></th>\n",
       "      <th>acc_id</th>\n",
       "      <th>label</th>\n",
       "      <th>party_total_member_count</th>\n",
       "      <th>first_party_start_week</th>\n",
       "      <th>mode_party_start_week</th>\n",
       "      <th>last_party_start_week</th>\n",
       "      <th>first_party_start_day</th>\n",
       "      <th>mode_party_start_day</th>\n",
       "      <th>last_party_start_day</th>\n",
       "      <th>first_party_end_week</th>\n",
       "      <th>...</th>\n",
       "      <th>party_cnt_w2</th>\n",
       "      <th>party_cnt_w3</th>\n",
       "      <th>party_cnt_w4</th>\n",
       "      <th>party_cnt_w5</th>\n",
       "      <th>party_cnt_w6</th>\n",
       "      <th>party_cnt_w7</th>\n",
       "      <th>party_cnt_w8</th>\n",
       "      <th>party_78_ratio</th>\n",
       "      <th>party_678_ratio</th>\n",
       "      <th>party_cnt_std</th>\n",
       "    </tr>\n",
       "  </thead>\n",
       "  <tbody>\n",
       "    <tr>\n",
       "      <th>99995</th>\n",
       "      <td>da6d33b03968d8e35821f6eb88ad22e12e37aa8867084e...</td>\n",
       "      <td>retained</td>\n",
       "      <td>1625.0</td>\n",
       "      <td>1.0</td>\n",
       "      <td>7.0</td>\n",
       "      <td>8.0</td>\n",
       "      <td>1.0</td>\n",
       "      <td>5.0</td>\n",
       "      <td>7.0</td>\n",
       "      <td>1.0</td>\n",
       "      <td>...</td>\n",
       "      <td>8.0</td>\n",
       "      <td>9.0</td>\n",
       "      <td>30.0</td>\n",
       "      <td>32.0</td>\n",
       "      <td>7.0</td>\n",
       "      <td>29.0</td>\n",
       "      <td>34.0</td>\n",
       "      <td>0.398734</td>\n",
       "      <td>0.443038</td>\n",
       "      <td>12.395276</td>\n",
       "    </tr>\n",
       "    <tr>\n",
       "      <th>99996</th>\n",
       "      <td>676c944f4b6ae63818b3cad824a61233690f16a2275d5d...</td>\n",
       "      <td>retained</td>\n",
       "      <td>0.0</td>\n",
       "      <td>0.0</td>\n",
       "      <td>0.0</td>\n",
       "      <td>0.0</td>\n",
       "      <td>0.0</td>\n",
       "      <td>0.0</td>\n",
       "      <td>0.0</td>\n",
       "      <td>0.0</td>\n",
       "      <td>...</td>\n",
       "      <td>0.0</td>\n",
       "      <td>0.0</td>\n",
       "      <td>0.0</td>\n",
       "      <td>0.0</td>\n",
       "      <td>0.0</td>\n",
       "      <td>0.0</td>\n",
       "      <td>0.0</td>\n",
       "      <td>0.000000</td>\n",
       "      <td>0.000000</td>\n",
       "      <td>0.000000</td>\n",
       "    </tr>\n",
       "    <tr>\n",
       "      <th>99997</th>\n",
       "      <td>695e1f28e234fc4cc53085e332fa7a76d7895ca4cc745b...</td>\n",
       "      <td>retained</td>\n",
       "      <td>3032.0</td>\n",
       "      <td>1.0</td>\n",
       "      <td>3.0</td>\n",
       "      <td>8.0</td>\n",
       "      <td>1.0</td>\n",
       "      <td>1.0</td>\n",
       "      <td>7.0</td>\n",
       "      <td>1.0</td>\n",
       "      <td>...</td>\n",
       "      <td>32.0</td>\n",
       "      <td>56.0</td>\n",
       "      <td>57.0</td>\n",
       "      <td>34.0</td>\n",
       "      <td>23.0</td>\n",
       "      <td>40.0</td>\n",
       "      <td>37.0</td>\n",
       "      <td>0.242138</td>\n",
       "      <td>0.314465</td>\n",
       "      <td>11.609725</td>\n",
       "    </tr>\n",
       "    <tr>\n",
       "      <th>99998</th>\n",
       "      <td>0c87fabaad5542e533f958a1d6fd739993b94e95e00989...</td>\n",
       "      <td>retained</td>\n",
       "      <td>0.0</td>\n",
       "      <td>0.0</td>\n",
       "      <td>0.0</td>\n",
       "      <td>0.0</td>\n",
       "      <td>0.0</td>\n",
       "      <td>0.0</td>\n",
       "      <td>0.0</td>\n",
       "      <td>0.0</td>\n",
       "      <td>...</td>\n",
       "      <td>0.0</td>\n",
       "      <td>0.0</td>\n",
       "      <td>0.0</td>\n",
       "      <td>0.0</td>\n",
       "      <td>0.0</td>\n",
       "      <td>0.0</td>\n",
       "      <td>0.0</td>\n",
       "      <td>0.000000</td>\n",
       "      <td>0.000000</td>\n",
       "      <td>0.000000</td>\n",
       "    </tr>\n",
       "    <tr>\n",
       "      <th>99999</th>\n",
       "      <td>47ff575cb94019df5695c5d81ec285b0d801607b2a8697...</td>\n",
       "      <td>retained</td>\n",
       "      <td>2299.0</td>\n",
       "      <td>1.0</td>\n",
       "      <td>8.0</td>\n",
       "      <td>8.0</td>\n",
       "      <td>1.0</td>\n",
       "      <td>5.0</td>\n",
       "      <td>7.0</td>\n",
       "      <td>1.0</td>\n",
       "      <td>...</td>\n",
       "      <td>22.0</td>\n",
       "      <td>10.0</td>\n",
       "      <td>3.0</td>\n",
       "      <td>27.0</td>\n",
       "      <td>38.0</td>\n",
       "      <td>36.0</td>\n",
       "      <td>46.0</td>\n",
       "      <td>0.386792</td>\n",
       "      <td>0.566038</td>\n",
       "      <td>14.442002</td>\n",
       "    </tr>\n",
       "  </tbody>\n",
       "</table>\n",
       "<p>5 rows × 27 columns</p>\n",
       "</div>"
      ],
      "text/plain": [
       "                                                  acc_id     label  \\\n",
       "99995  da6d33b03968d8e35821f6eb88ad22e12e37aa8867084e...  retained   \n",
       "99996  676c944f4b6ae63818b3cad824a61233690f16a2275d5d...  retained   \n",
       "99997  695e1f28e234fc4cc53085e332fa7a76d7895ca4cc745b...  retained   \n",
       "99998  0c87fabaad5542e533f958a1d6fd739993b94e95e00989...  retained   \n",
       "99999  47ff575cb94019df5695c5d81ec285b0d801607b2a8697...  retained   \n",
       "\n",
       "       party_total_member_count  first_party_start_week  \\\n",
       "99995                    1625.0                     1.0   \n",
       "99996                       0.0                     0.0   \n",
       "99997                    3032.0                     1.0   \n",
       "99998                       0.0                     0.0   \n",
       "99999                    2299.0                     1.0   \n",
       "\n",
       "       mode_party_start_week  last_party_start_week  first_party_start_day  \\\n",
       "99995                    7.0                    8.0                    1.0   \n",
       "99996                    0.0                    0.0                    0.0   \n",
       "99997                    3.0                    8.0                    1.0   \n",
       "99998                    0.0                    0.0                    0.0   \n",
       "99999                    8.0                    8.0                    1.0   \n",
       "\n",
       "       mode_party_start_day  last_party_start_day  first_party_end_week  \\\n",
       "99995                   5.0                   7.0                   1.0   \n",
       "99996                   0.0                   0.0                   0.0   \n",
       "99997                   1.0                   7.0                   1.0   \n",
       "99998                   0.0                   0.0                   0.0   \n",
       "99999                   5.0                   7.0                   1.0   \n",
       "\n",
       "           ...        party_cnt_w2  party_cnt_w3  party_cnt_w4  party_cnt_w5  \\\n",
       "99995      ...                 8.0           9.0          30.0          32.0   \n",
       "99996      ...                 0.0           0.0           0.0           0.0   \n",
       "99997      ...                32.0          56.0          57.0          34.0   \n",
       "99998      ...                 0.0           0.0           0.0           0.0   \n",
       "99999      ...                22.0          10.0           3.0          27.0   \n",
       "\n",
       "       party_cnt_w6  party_cnt_w7  party_cnt_w8  party_78_ratio  \\\n",
       "99995           7.0          29.0          34.0        0.398734   \n",
       "99996           0.0           0.0           0.0        0.000000   \n",
       "99997          23.0          40.0          37.0        0.242138   \n",
       "99998           0.0           0.0           0.0        0.000000   \n",
       "99999          38.0          36.0          46.0        0.386792   \n",
       "\n",
       "       party_678_ratio  party_cnt_std  \n",
       "99995         0.443038      12.395276  \n",
       "99996         0.000000       0.000000  \n",
       "99997         0.314465      11.609725  \n",
       "99998         0.000000       0.000000  \n",
       "99999         0.566038      14.442002  \n",
       "\n",
       "[5 rows x 27 columns]"
      ]
     },
     "execution_count": 49,
     "metadata": {},
     "output_type": "execute_result"
    }
   ],
   "source": [
    "party_1[\"party_cnt_std\"] = party_1.loc[:,\"party_cnt_w1\":\"party_cnt_w8\"].std(axis=1)\n",
    "party_1.fillna(0, inplace=True)\n",
    "party_1.tail()"
   ]
  },
  {
   "cell_type": "markdown",
   "metadata": {},
   "source": [
    "## 7. 전체 파티 참여횟수 중 10분 이내 짧은 파티 참여의 비율 변수 생성\n",
    "유저가 8주동안 참여한 모든 파티 횟수의 총합에서 10분 이내에 종료된 파티에 참여했던 횟수가 차지하는 비중"
   ]
  },
  {
   "cell_type": "code",
   "execution_count": 50,
   "metadata": {},
   "outputs": [],
   "source": [
    "def time_filter_short(df):\n",
    "    \"\"\"\n",
    "    지속시간이 10분 미만인 필터링\n",
    "    \"\"\"\n",
    "    ten = timedelta(minutes = 10)\n",
    "    return df[(df['duration_days'] < 3) & (df['duration_time'] < ten)]\n",
    "\n",
    "def get_ratio(df, label):\n",
    "    \n",
    "    totalcnt = get_party_cnt(get_party_ids(df),label)\n",
    "    totalcnt.rename(columns={'party_cnt':'totalcnt'}, inplace=True)\n",
    "    \n",
    "    shortcnt = get_party_cnt(get_party_ids(time_filter_short(df)), label)\n",
    "    shortcnt.rename(columns={'party_cnt':'shortcnt'}, inplace=True)\n",
    "    \n",
    "    shortcnt['shortparty_ratio'] = round(shortcnt['shortcnt']/totalcnt['totalcnt'], 4)\n",
    "    shortcnt['shortparty_ratio'].fillna(value=0, inplace=True)\n",
    "    \n",
    "    return shortcnt[['acc_id','shortparty_ratio']]"
   ]
  },
  {
   "cell_type": "code",
   "execution_count": 52,
   "metadata": {},
   "outputs": [],
   "source": [
    "party_1 = pd.merge(party_1, get_ratio(party, party_1[['acc_id']]), how='left')"
   ]
  },
  {
   "cell_type": "code",
   "execution_count": 53,
   "metadata": {},
   "outputs": [
    {
     "data": {
      "text/html": [
       "<div>\n",
       "<style scoped>\n",
       "    .dataframe tbody tr th:only-of-type {\n",
       "        vertical-align: middle;\n",
       "    }\n",
       "\n",
       "    .dataframe tbody tr th {\n",
       "        vertical-align: top;\n",
       "    }\n",
       "\n",
       "    .dataframe thead th {\n",
       "        text-align: right;\n",
       "    }\n",
       "</style>\n",
       "<table border=\"1\" class=\"dataframe\">\n",
       "  <thead>\n",
       "    <tr style=\"text-align: right;\">\n",
       "      <th></th>\n",
       "      <th>acc_id</th>\n",
       "      <th>label</th>\n",
       "      <th>party_total_member_count</th>\n",
       "      <th>first_party_start_week</th>\n",
       "      <th>mode_party_start_week</th>\n",
       "      <th>last_party_start_week</th>\n",
       "      <th>first_party_start_day</th>\n",
       "      <th>mode_party_start_day</th>\n",
       "      <th>last_party_start_day</th>\n",
       "      <th>first_party_end_week</th>\n",
       "      <th>...</th>\n",
       "      <th>party_cnt_w3</th>\n",
       "      <th>party_cnt_w4</th>\n",
       "      <th>party_cnt_w5</th>\n",
       "      <th>party_cnt_w6</th>\n",
       "      <th>party_cnt_w7</th>\n",
       "      <th>party_cnt_w8</th>\n",
       "      <th>party_78_ratio</th>\n",
       "      <th>party_678_ratio</th>\n",
       "      <th>party_cnt_std</th>\n",
       "      <th>shortparty_ratio</th>\n",
       "    </tr>\n",
       "  </thead>\n",
       "  <tbody>\n",
       "    <tr>\n",
       "      <th>0</th>\n",
       "      <td>b8fbf3f6a70e3f36843bffc70c18ff51a0d755a87616ec...</td>\n",
       "      <td>week</td>\n",
       "      <td>1175.0</td>\n",
       "      <td>8.0</td>\n",
       "      <td>8.0</td>\n",
       "      <td>8.0</td>\n",
       "      <td>5.0</td>\n",
       "      <td>7.0</td>\n",
       "      <td>7.0</td>\n",
       "      <td>8.0</td>\n",
       "      <td>...</td>\n",
       "      <td>0.0</td>\n",
       "      <td>0.0</td>\n",
       "      <td>0.0</td>\n",
       "      <td>0.0</td>\n",
       "      <td>0.0</td>\n",
       "      <td>11.0</td>\n",
       "      <td>1.000000</td>\n",
       "      <td>1.000000</td>\n",
       "      <td>3.889087</td>\n",
       "      <td>0.9495</td>\n",
       "    </tr>\n",
       "    <tr>\n",
       "      <th>1</th>\n",
       "      <td>ed500c4957956b3e99dc3985666850b582f812405eefb6...</td>\n",
       "      <td>week</td>\n",
       "      <td>639.0</td>\n",
       "      <td>5.0</td>\n",
       "      <td>5.0</td>\n",
       "      <td>8.0</td>\n",
       "      <td>1.0</td>\n",
       "      <td>2.0</td>\n",
       "      <td>7.0</td>\n",
       "      <td>5.0</td>\n",
       "      <td>...</td>\n",
       "      <td>0.0</td>\n",
       "      <td>0.0</td>\n",
       "      <td>4.0</td>\n",
       "      <td>0.0</td>\n",
       "      <td>17.0</td>\n",
       "      <td>35.0</td>\n",
       "      <td>0.928571</td>\n",
       "      <td>0.928571</td>\n",
       "      <td>12.750350</td>\n",
       "      <td>0.7241</td>\n",
       "    </tr>\n",
       "    <tr>\n",
       "      <th>2</th>\n",
       "      <td>acc6afa23a6bf15e18151e4794c7789225ef9d682f473c...</td>\n",
       "      <td>week</td>\n",
       "      <td>695.0</td>\n",
       "      <td>8.0</td>\n",
       "      <td>8.0</td>\n",
       "      <td>8.0</td>\n",
       "      <td>5.0</td>\n",
       "      <td>6.0</td>\n",
       "      <td>7.0</td>\n",
       "      <td>8.0</td>\n",
       "      <td>...</td>\n",
       "      <td>0.0</td>\n",
       "      <td>0.0</td>\n",
       "      <td>0.0</td>\n",
       "      <td>0.0</td>\n",
       "      <td>0.0</td>\n",
       "      <td>2.0</td>\n",
       "      <td>1.000000</td>\n",
       "      <td>1.000000</td>\n",
       "      <td>0.707107</td>\n",
       "      <td>0.9873</td>\n",
       "    </tr>\n",
       "    <tr>\n",
       "      <th>3</th>\n",
       "      <td>34095a3c9a2937ced3ea3fd75e22ce177dc5879d2a53f7...</td>\n",
       "      <td>week</td>\n",
       "      <td>0.0</td>\n",
       "      <td>0.0</td>\n",
       "      <td>0.0</td>\n",
       "      <td>0.0</td>\n",
       "      <td>0.0</td>\n",
       "      <td>0.0</td>\n",
       "      <td>0.0</td>\n",
       "      <td>0.0</td>\n",
       "      <td>...</td>\n",
       "      <td>0.0</td>\n",
       "      <td>0.0</td>\n",
       "      <td>0.0</td>\n",
       "      <td>0.0</td>\n",
       "      <td>0.0</td>\n",
       "      <td>0.0</td>\n",
       "      <td>0.000000</td>\n",
       "      <td>0.000000</td>\n",
       "      <td>0.000000</td>\n",
       "      <td>0.0000</td>\n",
       "    </tr>\n",
       "    <tr>\n",
       "      <th>4</th>\n",
       "      <td>26f3db6e8817a93c4ceda9a16f0832945e43d950b95882...</td>\n",
       "      <td>week</td>\n",
       "      <td>237.0</td>\n",
       "      <td>6.0</td>\n",
       "      <td>8.0</td>\n",
       "      <td>8.0</td>\n",
       "      <td>1.0</td>\n",
       "      <td>4.0</td>\n",
       "      <td>7.0</td>\n",
       "      <td>6.0</td>\n",
       "      <td>...</td>\n",
       "      <td>0.0</td>\n",
       "      <td>0.0</td>\n",
       "      <td>0.0</td>\n",
       "      <td>0.0</td>\n",
       "      <td>0.0</td>\n",
       "      <td>33.0</td>\n",
       "      <td>1.000000</td>\n",
       "      <td>1.000000</td>\n",
       "      <td>11.667262</td>\n",
       "      <td>0.4211</td>\n",
       "    </tr>\n",
       "  </tbody>\n",
       "</table>\n",
       "<p>5 rows × 28 columns</p>\n",
       "</div>"
      ],
      "text/plain": [
       "                                              acc_id label  \\\n",
       "0  b8fbf3f6a70e3f36843bffc70c18ff51a0d755a87616ec...  week   \n",
       "1  ed500c4957956b3e99dc3985666850b582f812405eefb6...  week   \n",
       "2  acc6afa23a6bf15e18151e4794c7789225ef9d682f473c...  week   \n",
       "3  34095a3c9a2937ced3ea3fd75e22ce177dc5879d2a53f7...  week   \n",
       "4  26f3db6e8817a93c4ceda9a16f0832945e43d950b95882...  week   \n",
       "\n",
       "   party_total_member_count  first_party_start_week  mode_party_start_week  \\\n",
       "0                    1175.0                     8.0                    8.0   \n",
       "1                     639.0                     5.0                    5.0   \n",
       "2                     695.0                     8.0                    8.0   \n",
       "3                       0.0                     0.0                    0.0   \n",
       "4                     237.0                     6.0                    8.0   \n",
       "\n",
       "   last_party_start_week  first_party_start_day  mode_party_start_day  \\\n",
       "0                    8.0                    5.0                   7.0   \n",
       "1                    8.0                    1.0                   2.0   \n",
       "2                    8.0                    5.0                   6.0   \n",
       "3                    0.0                    0.0                   0.0   \n",
       "4                    8.0                    1.0                   4.0   \n",
       "\n",
       "   last_party_start_day  first_party_end_week        ...         party_cnt_w3  \\\n",
       "0                   7.0                   8.0        ...                  0.0   \n",
       "1                   7.0                   5.0        ...                  0.0   \n",
       "2                   7.0                   8.0        ...                  0.0   \n",
       "3                   0.0                   0.0        ...                  0.0   \n",
       "4                   7.0                   6.0        ...                  0.0   \n",
       "\n",
       "   party_cnt_w4  party_cnt_w5  party_cnt_w6  party_cnt_w7  party_cnt_w8  \\\n",
       "0           0.0           0.0           0.0           0.0          11.0   \n",
       "1           0.0           4.0           0.0          17.0          35.0   \n",
       "2           0.0           0.0           0.0           0.0           2.0   \n",
       "3           0.0           0.0           0.0           0.0           0.0   \n",
       "4           0.0           0.0           0.0           0.0          33.0   \n",
       "\n",
       "   party_78_ratio  party_678_ratio  party_cnt_std  shortparty_ratio  \n",
       "0        1.000000         1.000000       3.889087            0.9495  \n",
       "1        0.928571         0.928571      12.750350            0.7241  \n",
       "2        1.000000         1.000000       0.707107            0.9873  \n",
       "3        0.000000         0.000000       0.000000            0.0000  \n",
       "4        1.000000         1.000000      11.667262            0.4211  \n",
       "\n",
       "[5 rows x 28 columns]"
      ]
     },
     "execution_count": 53,
     "metadata": {},
     "output_type": "execute_result"
    }
   ],
   "source": [
    "party_1.head()"
   ]
  },
  {
   "cell_type": "code",
   "execution_count": 54,
   "metadata": {},
   "outputs": [
    {
     "data": {
      "text/plain": [
       "Index(['acc_id', 'label', 'party_total_member_count', 'first_party_start_week',\n",
       "       'mode_party_start_week', 'last_party_start_week',\n",
       "       'first_party_start_day', 'mode_party_start_day', 'last_party_start_day',\n",
       "       'first_party_end_week', 'mode_party_end_week', 'last_party_end_week',\n",
       "       'first_party_end_day', 'mode_party_end_day', 'last_party_end_day',\n",
       "       'party_cnt', 'party_cnt_w1', 'party_cnt_w2', 'party_cnt_w3',\n",
       "       'party_cnt_w4', 'party_cnt_w5', 'party_cnt_w6', 'party_cnt_w7',\n",
       "       'party_cnt_w8', 'party_78_ratio', 'party_678_ratio', 'party_cnt_std',\n",
       "       'shortparty_ratio'],\n",
       "      dtype='object')"
      ]
     },
     "execution_count": 54,
     "metadata": {},
     "output_type": "execute_result"
    }
   ],
   "source": [
    "party_1.columns"
   ]
  },
  {
   "cell_type": "markdown",
   "metadata": {},
   "source": [
    "## 8. party network에서의 degree centrality 변수 생성\n",
    "유저의 파티 네트워크 중심성 생성"
   ]
  },
  {
   "cell_type": "markdown",
   "metadata": {},
   "source": [
    "### 8.1 생성해둔 party network 불러오기 "
   ]
  },
  {
   "cell_type": "code",
   "execution_count": 5,
   "metadata": {},
   "outputs": [],
   "source": [
    "# G = nx.read_gpickle(\"train_party_network.gpickle\")"
   ]
  },
  {
   "cell_type": "markdown",
   "metadata": {},
   "source": [
    "node의 수가 2명 이상짜리 파티에 참여한 unique id 수와 동일함"
   ]
  },
  {
   "cell_type": "code",
   "execution_count": 14,
   "metadata": {},
   "outputs": [
    {
     "data": {
      "text/plain": [
       "223613"
      ]
     },
     "execution_count": 14,
     "metadata": {},
     "output_type": "execute_result"
    }
   ],
   "source": [
    "# len(G.nodes())"
   ]
  },
  {
   "cell_type": "markdown",
   "metadata": {},
   "source": [
    "### 8.2 degree centrality 구하기 "
   ]
  },
  {
   "cell_type": "code",
   "execution_count": 23,
   "metadata": {},
   "outputs": [
    {
     "data": {
      "text/plain": [
       "dict"
      ]
     },
     "execution_count": 23,
     "metadata": {},
     "output_type": "execute_result"
    }
   ],
   "source": [
    "# degree_centrality = nx.degree_centrality(G)\n",
    "# type(degree_centrality)"
   ]
  },
  {
   "cell_type": "code",
   "execution_count": 24,
   "metadata": {},
   "outputs": [],
   "source": [
    "# centrality = pd.DataFrame(columns=[\"acc_id\",\"degree_cent\"])"
   ]
  },
  {
   "cell_type": "code",
   "execution_count": 25,
   "metadata": {},
   "outputs": [],
   "source": [
    "# centrality[\"acc_id\"] = degree_centrality.keys()"
   ]
  },
  {
   "cell_type": "code",
   "execution_count": 26,
   "metadata": {},
   "outputs": [],
   "source": [
    "# centrality[\"degree_cent\"] = degree_centrality.values()"
   ]
  },
  {
   "cell_type": "markdown",
   "metadata": {},
   "source": [
    "변수의 단위가 너무 작아 100배씩 scaling함"
   ]
  },
  {
   "cell_type": "code",
   "execution_count": 36,
   "metadata": {},
   "outputs": [],
   "source": [
    "# centrality[\"degree_cent\"] = centrality[\"degree_cent\"]*100"
   ]
  },
  {
   "cell_type": "code",
   "execution_count": 38,
   "metadata": {},
   "outputs": [],
   "source": [
    "# party_1 = pd.merge(party_1, centrality, how='left').fillna(0, inplace = True)"
   ]
  },
  {
   "cell_type": "markdown",
   "metadata": {},
   "source": [
    "## 9. 고정파티 최대 횟수 변수 생성\n",
    "\n",
    "유저가 한 명 이상의 특정 유저와 반복해서 파티에 참여한 횟수의 최대값을 생성"
   ]
  },
  {
   "cell_type": "code",
   "execution_count": 4,
   "metadata": {},
   "outputs": [
    {
     "data": {
      "text/plain": [
       "3355480"
      ]
     },
     "execution_count": 4,
     "metadata": {},
     "output_type": "execute_result"
    }
   ],
   "source": [
    "len(filtered_party)"
   ]
  },
  {
   "cell_type": "markdown",
   "metadata": {
    "colab_type": "text",
    "id": "pI7fbnTOBdRw"
   },
   "source": [
    "### 9.1 10분 이상 지속한 party에 참여한 acc_id 구하기"
   ]
  },
  {
   "cell_type": "markdown",
   "metadata": {},
   "source": [
    "#### (1) party members acc id 전체를 리스트로 만들기"
   ]
  },
  {
   "cell_type": "code",
   "execution_count": 7,
   "metadata": {},
   "outputs": [
    {
     "name": "stdout",
     "output_type": "stream",
     "text": [
      "CPU times: user 8.48 s, sys: 853 ms, total: 9.33 s\n",
      "Wall time: 9.34 s\n"
     ]
    }
   ],
   "source": [
    "%%time\n",
    "party_ids = get_party_ids(filtered_party)"
   ]
  },
  {
   "cell_type": "markdown",
   "metadata": {},
   "source": [
    "#### (2) party에 참여한 id 수"
   ]
  },
  {
   "cell_type": "code",
   "execution_count": 8,
   "metadata": {},
   "outputs": [],
   "source": [
    "party_unique_ids = list(set(party_ids))"
   ]
  },
  {
   "cell_type": "code",
   "execution_count": 9,
   "metadata": {},
   "outputs": [
    {
     "name": "stdout",
     "output_type": "stream",
     "text": [
      "party에 참여한 id 수(중복카운트): 20781407\n",
      "223621\n",
      "party에 참여한 id 수(중복 없음): 223621\n"
     ]
    }
   ],
   "source": [
    "print(\"party에 참여한 id 수(중복카운트):\", len(party_ids))\n",
    "print(len(list(set(party_ids))))\n",
    "print(\"party에 참여한 id 수(중복 없음):\", len(party_unique_ids))"
   ]
  },
  {
   "cell_type": "code",
   "execution_count": 10,
   "metadata": {},
   "outputs": [
    {
     "data": {
      "text/plain": [
       "100000"
      ]
     },
     "execution_count": 10,
     "metadata": {},
     "output_type": "execute_result"
    }
   ],
   "source": [
    "label_id = label[\"acc_id\"].tolist()\n",
    "len(label_id)"
   ]
  },
  {
   "cell_type": "markdown",
   "metadata": {},
   "source": [
    "#### (3) train data 유저 중 filtered party에 참여한 사람 수"
   ]
  },
  {
   "cell_type": "code",
   "execution_count": 11,
   "metadata": {},
   "outputs": [
    {
     "data": {
      "text/plain": [
       "51745"
      ]
     },
     "execution_count": 11,
     "metadata": {},
     "output_type": "execute_result"
    }
   ],
   "source": [
    "label_party_id = list(set(label_id) & set(party_unique_ids))\n",
    "len(label_party_id)"
   ]
  },
  {
   "cell_type": "markdown",
   "metadata": {},
   "source": [
    "### 9.2 고정파티 최대 횟수 구하기"
   ]
  },
  {
   "cell_type": "markdown",
   "metadata": {},
   "source": [
    "#### (1) get_fix_party(): 한 유저가 특정 유저와 반복해서 party에 참여한 최대 횟수"
   ]
  },
  {
   "cell_type": "code",
   "execution_count": 12,
   "metadata": {},
   "outputs": [],
   "source": [
    "def get_fix_party(base_id):\n",
    "    '''\n",
    "    기준 아이디와 타 유저의 고정 파티 횟수 중 최댓값을 찾는 함수\n",
    "    input: base_id - party에 참여한 유저의 acc_id\n",
    "    output: key가 \"acc_id\", \"fix_party_max\"인 dictionary\n",
    "        - \"acc_id\": 유저의 acc_id\n",
    "        - \"fix_party_max\": 타 유저와 반복해서 같은 party에 참여한 횟수 중 최댓값 \n",
    "    '''\n",
    "    # 기준 id가 참여한 party member 리스트 뽑기 (party_id는 이중리스트 형태)\n",
    "    with_members = list(filter(lambda a: base_id in a, party_id))\n",
    "    \n",
    "    # 이중 리스트인 with_members를 flat list로 풀어주기\n",
    "    with_members = [item for sublist in with_members for item in sublist]\n",
    "    \n",
    "    # 기준id 리스트에서 빼기\n",
    "    with_members = list(filter(lambda a: a != base_id, with_members))\n",
    "    \n",
    "    # 함께한 횟수 df로 구하기\n",
    "    df_party_id = pd.DataFrame(with_members, columns=[\"acc_id\"])\n",
    "    df_party_id = df_party_id.groupby('acc_id').size().reset_index(name='party_cnt')\n",
    "    \n",
    "    return {\"acc_id\": base_id,\n",
    "            \"fix_party_max\": df_party_id[\"party_cnt\"].max()}"
   ]
  },
  {
   "cell_type": "code",
   "execution_count": 13,
   "metadata": {},
   "outputs": [],
   "source": [
    "# party member 전체 리스트 미리 받기\n",
    "party_id = filtered_party[\"party_members_acc_id\"].tolist()\n",
    "party_id = [x.split(',') for x in party_id]"
   ]
  },
  {
   "cell_type": "code",
   "execution_count": 22,
   "metadata": {},
   "outputs": [
    {
     "data": {
      "text/plain": [
       "{'acc_id': 'cc3be3c6517858a3dbdc1702a374c23a3ebb60b096df8e835acde0f8b77e11f1',\n",
       " 'fix_party_max': 166}"
      ]
     },
     "execution_count": 22,
     "metadata": {},
     "output_type": "execute_result"
    }
   ],
   "source": [
    "get_fix_party(label_party_id[0])"
   ]
  },
  {
   "cell_type": "markdown",
   "metadata": {},
   "source": [
    "#### (2) label_party_id에 대하여 고정파티 최대 횟수 구하기"
   ]
  },
  {
   "cell_type": "code",
   "execution_count": 26,
   "metadata": {},
   "outputs": [],
   "source": [
    "fix_party = pd.DataFrame(columns=[\"acc_id\", \"fix_party_max\"])"
   ]
  },
  {
   "cell_type": "code",
   "execution_count": 27,
   "metadata": {},
   "outputs": [
    {
     "name": "stderr",
     "output_type": "stream",
     "text": [
      "100%|██████████| 10000/10000 [2:27:36<00:00,  1.13it/s]\n"
     ]
    }
   ],
   "source": [
    "for i in tqdm(range(10000)):\n",
    "    fix_party.loc[len(fix_party)] = get_fix_party(label_party_id[i])"
   ]
  },
  {
   "cell_type": "code",
   "execution_count": 7,
   "metadata": {},
   "outputs": [
    {
     "name": "stderr",
     "output_type": "stream",
     "text": [
      "100%|██████████| 10000/10000 [2:25:27<00:00,  1.15it/s]\n"
     ]
    }
   ],
   "source": [
    "for i in tqdm(range(10000,20000)):\n",
    "    fix_party.loc[len(fix_party)] = get_fix_party(label_party_id[i])"
   ]
  },
  {
   "cell_type": "code",
   "execution_count": 7,
   "metadata": {},
   "outputs": [
    {
     "name": "stderr",
     "output_type": "stream",
     "text": [
      "100%|██████████| 10000/10000 [2:25:44<00:00,  1.14it/s]\n"
     ]
    }
   ],
   "source": [
    "for i in tqdm(range(20000,30000)):\n",
    "    fix_party.loc[len(fix_party)] = get_fix_party(label_party_id[i])"
   ]
  },
  {
   "cell_type": "code",
   "execution_count": 37,
   "metadata": {},
   "outputs": [
    {
     "name": "stderr",
     "output_type": "stream",
     "text": [
      "100%|██████████| 10000/10000 [2:46:31<00:00,  1.00it/s]\n"
     ]
    }
   ],
   "source": [
    "for i in tqdm(range(30000,40000)):\n",
    "    fix_party.loc[len(fix_party)] = get_fix_party(label_party_id[i])"
   ]
  },
  {
   "cell_type": "code",
   "execution_count": 11,
   "metadata": {},
   "outputs": [
    {
     "name": "stderr",
     "output_type": "stream",
     "text": [
      "100%|██████████| 11745/11745 [3:06:29<00:00,  1.05it/s]\n"
     ]
    }
   ],
   "source": [
    "for i in tqdm(range(40000,len(label_party_id))):\n",
    "    fix_party.loc[len(fix_party)] = get_fix_party(label_party_id[i])"
   ]
  },
  {
   "cell_type": "code",
   "execution_count": 42,
   "metadata": {},
   "outputs": [
    {
     "data": {
      "text/plain": [
       "51745"
      ]
     },
     "execution_count": 42,
     "metadata": {},
     "output_type": "execute_result"
    }
   ],
   "source": [
    "len(fix_party)"
   ]
  },
  {
   "cell_type": "code",
   "execution_count": null,
   "metadata": {},
   "outputs": [],
   "source": [
    "party_1 = party_1.merge(fix_party, how = \"left\").fillna(0)"
   ]
  },
  {
   "cell_type": "markdown",
   "metadata": {},
   "source": [
    "## 10. 최종 party 변수 저장하기"
   ]
  },
  {
   "cell_type": "code",
   "execution_count": 55,
   "metadata": {},
   "outputs": [],
   "source": [
    "pickle.dump(party_1,open('../data/merged_train_party.pkl','wb'))"
   ]
  },
  {
   "cell_type": "markdown",
   "metadata": {},
   "source": [
    "---"
   ]
  },
  {
   "cell_type": "markdown",
   "metadata": {},
   "source": [
    "# Test"
   ]
  },
  {
   "cell_type": "code",
   "execution_count": 23,
   "metadata": {},
   "outputs": [],
   "source": [
    "activity = pd.read_csv('../data/test_activity.csv')\n",
    "label = pd.DataFrame(list(activity['acc_id'].unique()))\n",
    "label.columns = ['acc_id']"
   ]
  },
  {
   "cell_type": "code",
   "execution_count": 24,
   "metadata": {},
   "outputs": [
    {
     "name": "stdout",
     "output_type": "stream",
     "text": [
      "CPU times: user 18.3 s, sys: 3.37 s, total: 21.7 s\n",
      "Wall time: 27.3 s\n"
     ]
    }
   ],
   "source": [
    "%%time\n",
    "party = pd.read_csv(\"../data/new_test_party.csv\", memory_map=True)"
   ]
  },
  {
   "cell_type": "code",
   "execution_count": 25,
   "metadata": {
    "scrolled": true
   },
   "outputs": [
    {
     "data": {
      "text/html": [
       "<div>\n",
       "<style scoped>\n",
       "    .dataframe tbody tr th:only-of-type {\n",
       "        vertical-align: middle;\n",
       "    }\n",
       "\n",
       "    .dataframe tbody tr th {\n",
       "        vertical-align: top;\n",
       "    }\n",
       "\n",
       "    .dataframe thead th {\n",
       "        text-align: right;\n",
       "    }\n",
       "</style>\n",
       "<table border=\"1\" class=\"dataframe\">\n",
       "  <thead>\n",
       "    <tr style=\"text-align: right;\">\n",
       "      <th></th>\n",
       "      <th>party_start_week</th>\n",
       "      <th>party_start_day</th>\n",
       "      <th>party_start_time</th>\n",
       "      <th>party_end_week</th>\n",
       "      <th>party_end_day</th>\n",
       "      <th>party_end_time</th>\n",
       "      <th>hashed</th>\n",
       "    </tr>\n",
       "  </thead>\n",
       "  <tbody>\n",
       "    <tr>\n",
       "      <th>4121507</th>\n",
       "      <td>2</td>\n",
       "      <td>2</td>\n",
       "      <td>11:14:12.477</td>\n",
       "      <td>2</td>\n",
       "      <td>2</td>\n",
       "      <td>11:34:35.997</td>\n",
       "      <td>d4843247de5b8a0f34d04b418b55bbde84fe7d31dc2192...</td>\n",
       "    </tr>\n",
       "    <tr>\n",
       "      <th>4121508</th>\n",
       "      <td>7</td>\n",
       "      <td>1</td>\n",
       "      <td>04:32:18.515</td>\n",
       "      <td>7</td>\n",
       "      <td>1</td>\n",
       "      <td>05:03:05.828</td>\n",
       "      <td>52f4a6a555803e8b239e8b69288d4787d39dd40c2a126e...</td>\n",
       "    </tr>\n",
       "    <tr>\n",
       "      <th>4121509</th>\n",
       "      <td>8</td>\n",
       "      <td>6</td>\n",
       "      <td>08:09:30.086</td>\n",
       "      <td>8</td>\n",
       "      <td>6</td>\n",
       "      <td>08:29:51.324</td>\n",
       "      <td>c87c2fad141edf323f3787335b54be22945a02fe052448...</td>\n",
       "    </tr>\n",
       "    <tr>\n",
       "      <th>4121510</th>\n",
       "      <td>7</td>\n",
       "      <td>6</td>\n",
       "      <td>23:43:52.265</td>\n",
       "      <td>7</td>\n",
       "      <td>6</td>\n",
       "      <td>23:47:50.285</td>\n",
       "      <td>02181a0c962f34f019bc9d5b582fb0ec79b1441f96aa4d...</td>\n",
       "    </tr>\n",
       "    <tr>\n",
       "      <th>4121511</th>\n",
       "      <td>6</td>\n",
       "      <td>7</td>\n",
       "      <td>06:25:13.121</td>\n",
       "      <td>6</td>\n",
       "      <td>7</td>\n",
       "      <td>06:39:47.036</td>\n",
       "      <td>a46cce8d986daaca5492e28cae8979c8601f1fe4ba898b...</td>\n",
       "    </tr>\n",
       "  </tbody>\n",
       "</table>\n",
       "</div>"
      ],
      "text/plain": [
       "         party_start_week  party_start_day party_start_time  party_end_week  \\\n",
       "4121507                 2                2     11:14:12.477               2   \n",
       "4121508                 7                1     04:32:18.515               7   \n",
       "4121509                 8                6     08:09:30.086               8   \n",
       "4121510                 7                6     23:43:52.265               7   \n",
       "4121511                 6                7     06:25:13.121               6   \n",
       "\n",
       "         party_end_day party_end_time  \\\n",
       "4121507              2   11:34:35.997   \n",
       "4121508              1   05:03:05.828   \n",
       "4121509              6   08:29:51.324   \n",
       "4121510              6   23:47:50.285   \n",
       "4121511              7   06:39:47.036   \n",
       "\n",
       "                                                    hashed  \n",
       "4121507  d4843247de5b8a0f34d04b418b55bbde84fe7d31dc2192...  \n",
       "4121508  52f4a6a555803e8b239e8b69288d4787d39dd40c2a126e...  \n",
       "4121509  c87c2fad141edf323f3787335b54be22945a02fe052448...  \n",
       "4121510  02181a0c962f34f019bc9d5b582fb0ec79b1441f96aa4d...  \n",
       "4121511  a46cce8d986daaca5492e28cae8979c8601f1fe4ba898b...  "
      ]
     },
     "execution_count": 25,
     "metadata": {},
     "output_type": "execute_result"
    }
   ],
   "source": [
    "party.tail()"
   ]
  },
  {
   "cell_type": "code",
   "execution_count": 26,
   "metadata": {
    "scrolled": true
   },
   "outputs": [
    {
     "name": "stdout",
     "output_type": "stream",
     "text": [
      "(4121512, 7)\n"
     ]
    },
    {
     "data": {
      "text/html": [
       "<div>\n",
       "<style scoped>\n",
       "    .dataframe tbody tr th:only-of-type {\n",
       "        vertical-align: middle;\n",
       "    }\n",
       "\n",
       "    .dataframe tbody tr th {\n",
       "        vertical-align: top;\n",
       "    }\n",
       "\n",
       "    .dataframe thead th {\n",
       "        text-align: right;\n",
       "    }\n",
       "</style>\n",
       "<table border=\"1\" class=\"dataframe\">\n",
       "  <thead>\n",
       "    <tr style=\"text-align: right;\">\n",
       "      <th></th>\n",
       "      <th>party_start_week</th>\n",
       "      <th>party_start_day</th>\n",
       "      <th>party_start_time</th>\n",
       "      <th>party_end_week</th>\n",
       "      <th>party_end_day</th>\n",
       "      <th>party_end_time</th>\n",
       "      <th>party_members_acc_id</th>\n",
       "    </tr>\n",
       "  </thead>\n",
       "  <tbody>\n",
       "    <tr>\n",
       "      <th>4121507</th>\n",
       "      <td>2</td>\n",
       "      <td>2</td>\n",
       "      <td>11:14:12.477</td>\n",
       "      <td>2</td>\n",
       "      <td>2</td>\n",
       "      <td>11:34:35.997</td>\n",
       "      <td>d4843247de5b8a0f34d04b418b55bbde84fe7d31dc2192...</td>\n",
       "    </tr>\n",
       "    <tr>\n",
       "      <th>4121508</th>\n",
       "      <td>7</td>\n",
       "      <td>1</td>\n",
       "      <td>04:32:18.515</td>\n",
       "      <td>7</td>\n",
       "      <td>1</td>\n",
       "      <td>05:03:05.828</td>\n",
       "      <td>52f4a6a555803e8b239e8b69288d4787d39dd40c2a126e...</td>\n",
       "    </tr>\n",
       "    <tr>\n",
       "      <th>4121509</th>\n",
       "      <td>8</td>\n",
       "      <td>6</td>\n",
       "      <td>08:09:30.086</td>\n",
       "      <td>8</td>\n",
       "      <td>6</td>\n",
       "      <td>08:29:51.324</td>\n",
       "      <td>c87c2fad141edf323f3787335b54be22945a02fe052448...</td>\n",
       "    </tr>\n",
       "    <tr>\n",
       "      <th>4121510</th>\n",
       "      <td>7</td>\n",
       "      <td>6</td>\n",
       "      <td>23:43:52.265</td>\n",
       "      <td>7</td>\n",
       "      <td>6</td>\n",
       "      <td>23:47:50.285</td>\n",
       "      <td>02181a0c962f34f019bc9d5b582fb0ec79b1441f96aa4d...</td>\n",
       "    </tr>\n",
       "    <tr>\n",
       "      <th>4121511</th>\n",
       "      <td>6</td>\n",
       "      <td>7</td>\n",
       "      <td>06:25:13.121</td>\n",
       "      <td>6</td>\n",
       "      <td>7</td>\n",
       "      <td>06:39:47.036</td>\n",
       "      <td>a46cce8d986daaca5492e28cae8979c8601f1fe4ba898b...</td>\n",
       "    </tr>\n",
       "  </tbody>\n",
       "</table>\n",
       "</div>"
      ],
      "text/plain": [
       "         party_start_week  party_start_day party_start_time  party_end_week  \\\n",
       "4121507                 2                2     11:14:12.477               2   \n",
       "4121508                 7                1     04:32:18.515               7   \n",
       "4121509                 8                6     08:09:30.086               8   \n",
       "4121510                 7                6     23:43:52.265               7   \n",
       "4121511                 6                7     06:25:13.121               6   \n",
       "\n",
       "         party_end_day party_end_time  \\\n",
       "4121507              2   11:34:35.997   \n",
       "4121508              1   05:03:05.828   \n",
       "4121509              6   08:29:51.324   \n",
       "4121510              6   23:47:50.285   \n",
       "4121511              7   06:39:47.036   \n",
       "\n",
       "                                      party_members_acc_id  \n",
       "4121507  d4843247de5b8a0f34d04b418b55bbde84fe7d31dc2192...  \n",
       "4121508  52f4a6a555803e8b239e8b69288d4787d39dd40c2a126e...  \n",
       "4121509  c87c2fad141edf323f3787335b54be22945a02fe052448...  \n",
       "4121510  02181a0c962f34f019bc9d5b582fb0ec79b1441f96aa4d...  \n",
       "4121511  a46cce8d986daaca5492e28cae8979c8601f1fe4ba898b...  "
      ]
     },
     "execution_count": 26,
     "metadata": {},
     "output_type": "execute_result"
    }
   ],
   "source": [
    "party.rename(columns = {\"hashed\":\"party_members_acc_id\"}, inplace=True)\n",
    "print(party.shape)\n",
    "party.tail()"
   ]
  },
  {
   "cell_type": "markdown",
   "metadata": {},
   "source": [
    "## 1. party df에 column 추가"
   ]
  },
  {
   "cell_type": "markdown",
   "metadata": {},
   "source": [
    "### 1.1 party 지속시간 계산\n",
    "party 지속시간 구하기: make_duration(df)\n",
    "- \"duration_time\" column: 초단위 시간\n",
    "- \"duration_days\" column: 일단위 시간"
   ]
  },
  {
   "cell_type": "code",
   "execution_count": 27,
   "metadata": {},
   "outputs": [
    {
     "name": "stdout",
     "output_type": "stream",
     "text": [
      "(4121512, 9)\n",
      "CPU times: user 25.3 s, sys: 3.21 s, total: 28.5 s\n",
      "Wall time: 29.4 s\n"
     ]
    }
   ],
   "source": [
    "%%time\n",
    "make_duration(party)\n",
    "print(party.shape)"
   ]
  },
  {
   "cell_type": "code",
   "execution_count": 28,
   "metadata": {},
   "outputs": [
    {
     "data": {
      "text/html": [
       "<div>\n",
       "<style scoped>\n",
       "    .dataframe tbody tr th:only-of-type {\n",
       "        vertical-align: middle;\n",
       "    }\n",
       "\n",
       "    .dataframe tbody tr th {\n",
       "        vertical-align: top;\n",
       "    }\n",
       "\n",
       "    .dataframe thead th {\n",
       "        text-align: right;\n",
       "    }\n",
       "</style>\n",
       "<table border=\"1\" class=\"dataframe\">\n",
       "  <thead>\n",
       "    <tr style=\"text-align: right;\">\n",
       "      <th></th>\n",
       "      <th>party_start_week</th>\n",
       "      <th>party_start_day</th>\n",
       "      <th>party_start_time</th>\n",
       "      <th>party_end_week</th>\n",
       "      <th>party_end_day</th>\n",
       "      <th>party_end_time</th>\n",
       "      <th>party_members_acc_id</th>\n",
       "      <th>duration_time</th>\n",
       "      <th>duration_days</th>\n",
       "    </tr>\n",
       "  </thead>\n",
       "  <tbody>\n",
       "    <tr>\n",
       "      <th>4121507</th>\n",
       "      <td>2</td>\n",
       "      <td>2</td>\n",
       "      <td>11:14:12.477</td>\n",
       "      <td>2</td>\n",
       "      <td>2</td>\n",
       "      <td>11:34:35.997</td>\n",
       "      <td>d4843247de5b8a0f34d04b418b55bbde84fe7d31dc2192...</td>\n",
       "      <td>00:20:23</td>\n",
       "      <td>1</td>\n",
       "    </tr>\n",
       "    <tr>\n",
       "      <th>4121508</th>\n",
       "      <td>7</td>\n",
       "      <td>1</td>\n",
       "      <td>04:32:18.515</td>\n",
       "      <td>7</td>\n",
       "      <td>1</td>\n",
       "      <td>05:03:05.828</td>\n",
       "      <td>52f4a6a555803e8b239e8b69288d4787d39dd40c2a126e...</td>\n",
       "      <td>00:30:47</td>\n",
       "      <td>1</td>\n",
       "    </tr>\n",
       "    <tr>\n",
       "      <th>4121509</th>\n",
       "      <td>8</td>\n",
       "      <td>6</td>\n",
       "      <td>08:09:30.086</td>\n",
       "      <td>8</td>\n",
       "      <td>6</td>\n",
       "      <td>08:29:51.324</td>\n",
       "      <td>c87c2fad141edf323f3787335b54be22945a02fe052448...</td>\n",
       "      <td>00:20:21</td>\n",
       "      <td>1</td>\n",
       "    </tr>\n",
       "    <tr>\n",
       "      <th>4121510</th>\n",
       "      <td>7</td>\n",
       "      <td>6</td>\n",
       "      <td>23:43:52.265</td>\n",
       "      <td>7</td>\n",
       "      <td>6</td>\n",
       "      <td>23:47:50.285</td>\n",
       "      <td>02181a0c962f34f019bc9d5b582fb0ec79b1441f96aa4d...</td>\n",
       "      <td>00:03:58</td>\n",
       "      <td>1</td>\n",
       "    </tr>\n",
       "    <tr>\n",
       "      <th>4121511</th>\n",
       "      <td>6</td>\n",
       "      <td>7</td>\n",
       "      <td>06:25:13.121</td>\n",
       "      <td>6</td>\n",
       "      <td>7</td>\n",
       "      <td>06:39:47.036</td>\n",
       "      <td>a46cce8d986daaca5492e28cae8979c8601f1fe4ba898b...</td>\n",
       "      <td>00:14:34</td>\n",
       "      <td>1</td>\n",
       "    </tr>\n",
       "  </tbody>\n",
       "</table>\n",
       "</div>"
      ],
      "text/plain": [
       "         party_start_week  party_start_day party_start_time  party_end_week  \\\n",
       "4121507                 2                2     11:14:12.477               2   \n",
       "4121508                 7                1     04:32:18.515               7   \n",
       "4121509                 8                6     08:09:30.086               8   \n",
       "4121510                 7                6     23:43:52.265               7   \n",
       "4121511                 6                7     06:25:13.121               6   \n",
       "\n",
       "         party_end_day party_end_time  \\\n",
       "4121507              2   11:34:35.997   \n",
       "4121508              1   05:03:05.828   \n",
       "4121509              6   08:29:51.324   \n",
       "4121510              6   23:47:50.285   \n",
       "4121511              7   06:39:47.036   \n",
       "\n",
       "                                      party_members_acc_id duration_time  \\\n",
       "4121507  d4843247de5b8a0f34d04b418b55bbde84fe7d31dc2192...      00:20:23   \n",
       "4121508  52f4a6a555803e8b239e8b69288d4787d39dd40c2a126e...      00:30:47   \n",
       "4121509  c87c2fad141edf323f3787335b54be22945a02fe052448...      00:20:21   \n",
       "4121510  02181a0c962f34f019bc9d5b582fb0ec79b1441f96aa4d...      00:03:58   \n",
       "4121511  a46cce8d986daaca5492e28cae8979c8601f1fe4ba898b...      00:14:34   \n",
       "\n",
       "         duration_days  \n",
       "4121507              1  \n",
       "4121508              1  \n",
       "4121509              1  \n",
       "4121510              1  \n",
       "4121511              1  "
      ]
     },
     "execution_count": 28,
     "metadata": {},
     "output_type": "execute_result"
    }
   ],
   "source": [
    "party.tail()"
   ]
  },
  {
   "cell_type": "markdown",
   "metadata": {},
   "source": [
    "### 1.2 party당 참여 인원 수\n",
    "- make_party_member_count(df)"
   ]
  },
  {
   "cell_type": "code",
   "execution_count": 29,
   "metadata": {},
   "outputs": [
    {
     "name": "stderr",
     "output_type": "stream",
     "text": [
      "100%|██████████| 4121512/4121512 [00:03<00:00, 1038007.57it/s]\n"
     ]
    },
    {
     "name": "stdout",
     "output_type": "stream",
     "text": [
      "(4121512, 10)\n"
     ]
    },
    {
     "data": {
      "text/html": [
       "<div>\n",
       "<style scoped>\n",
       "    .dataframe tbody tr th:only-of-type {\n",
       "        vertical-align: middle;\n",
       "    }\n",
       "\n",
       "    .dataframe tbody tr th {\n",
       "        vertical-align: top;\n",
       "    }\n",
       "\n",
       "    .dataframe thead th {\n",
       "        text-align: right;\n",
       "    }\n",
       "</style>\n",
       "<table border=\"1\" class=\"dataframe\">\n",
       "  <thead>\n",
       "    <tr style=\"text-align: right;\">\n",
       "      <th></th>\n",
       "      <th>party_start_week</th>\n",
       "      <th>party_start_day</th>\n",
       "      <th>party_start_time</th>\n",
       "      <th>party_end_week</th>\n",
       "      <th>party_end_day</th>\n",
       "      <th>party_end_time</th>\n",
       "      <th>party_members_acc_id</th>\n",
       "      <th>duration_time</th>\n",
       "      <th>duration_days</th>\n",
       "      <th>party_member_count</th>\n",
       "    </tr>\n",
       "  </thead>\n",
       "  <tbody>\n",
       "    <tr>\n",
       "      <th>4121507</th>\n",
       "      <td>2</td>\n",
       "      <td>2</td>\n",
       "      <td>11:14:12.477</td>\n",
       "      <td>2</td>\n",
       "      <td>2</td>\n",
       "      <td>11:34:35.997</td>\n",
       "      <td>d4843247de5b8a0f34d04b418b55bbde84fe7d31dc2192...</td>\n",
       "      <td>00:20:23</td>\n",
       "      <td>1</td>\n",
       "      <td>6</td>\n",
       "    </tr>\n",
       "    <tr>\n",
       "      <th>4121508</th>\n",
       "      <td>7</td>\n",
       "      <td>1</td>\n",
       "      <td>04:32:18.515</td>\n",
       "      <td>7</td>\n",
       "      <td>1</td>\n",
       "      <td>05:03:05.828</td>\n",
       "      <td>52f4a6a555803e8b239e8b69288d4787d39dd40c2a126e...</td>\n",
       "      <td>00:30:47</td>\n",
       "      <td>1</td>\n",
       "      <td>5</td>\n",
       "    </tr>\n",
       "    <tr>\n",
       "      <th>4121509</th>\n",
       "      <td>8</td>\n",
       "      <td>6</td>\n",
       "      <td>08:09:30.086</td>\n",
       "      <td>8</td>\n",
       "      <td>6</td>\n",
       "      <td>08:29:51.324</td>\n",
       "      <td>c87c2fad141edf323f3787335b54be22945a02fe052448...</td>\n",
       "      <td>00:20:21</td>\n",
       "      <td>1</td>\n",
       "      <td>6</td>\n",
       "    </tr>\n",
       "    <tr>\n",
       "      <th>4121510</th>\n",
       "      <td>7</td>\n",
       "      <td>6</td>\n",
       "      <td>23:43:52.265</td>\n",
       "      <td>7</td>\n",
       "      <td>6</td>\n",
       "      <td>23:47:50.285</td>\n",
       "      <td>02181a0c962f34f019bc9d5b582fb0ec79b1441f96aa4d...</td>\n",
       "      <td>00:03:58</td>\n",
       "      <td>1</td>\n",
       "      <td>5</td>\n",
       "    </tr>\n",
       "    <tr>\n",
       "      <th>4121511</th>\n",
       "      <td>6</td>\n",
       "      <td>7</td>\n",
       "      <td>06:25:13.121</td>\n",
       "      <td>6</td>\n",
       "      <td>7</td>\n",
       "      <td>06:39:47.036</td>\n",
       "      <td>a46cce8d986daaca5492e28cae8979c8601f1fe4ba898b...</td>\n",
       "      <td>00:14:34</td>\n",
       "      <td>1</td>\n",
       "      <td>6</td>\n",
       "    </tr>\n",
       "  </tbody>\n",
       "</table>\n",
       "</div>"
      ],
      "text/plain": [
       "         party_start_week  party_start_day party_start_time  party_end_week  \\\n",
       "4121507                 2                2     11:14:12.477               2   \n",
       "4121508                 7                1     04:32:18.515               7   \n",
       "4121509                 8                6     08:09:30.086               8   \n",
       "4121510                 7                6     23:43:52.265               7   \n",
       "4121511                 6                7     06:25:13.121               6   \n",
       "\n",
       "         party_end_day party_end_time  \\\n",
       "4121507              2   11:34:35.997   \n",
       "4121508              1   05:03:05.828   \n",
       "4121509              6   08:29:51.324   \n",
       "4121510              6   23:47:50.285   \n",
       "4121511              7   06:39:47.036   \n",
       "\n",
       "                                      party_members_acc_id duration_time  \\\n",
       "4121507  d4843247de5b8a0f34d04b418b55bbde84fe7d31dc2192...      00:20:23   \n",
       "4121508  52f4a6a555803e8b239e8b69288d4787d39dd40c2a126e...      00:30:47   \n",
       "4121509  c87c2fad141edf323f3787335b54be22945a02fe052448...      00:20:21   \n",
       "4121510  02181a0c962f34f019bc9d5b582fb0ec79b1441f96aa4d...      00:03:58   \n",
       "4121511  a46cce8d986daaca5492e28cae8979c8601f1fe4ba898b...      00:14:34   \n",
       "\n",
       "         duration_days  party_member_count  \n",
       "4121507              1                   6  \n",
       "4121508              1                   5  \n",
       "4121509              1                   6  \n",
       "4121510              1                   5  \n",
       "4121511              1                   6  "
      ]
     },
     "execution_count": 29,
     "metadata": {},
     "output_type": "execute_result"
    }
   ],
   "source": [
    "make_party_member_count(party)\n",
    "print(party.shape)\n",
    "party.tail()"
   ]
  },
  {
   "cell_type": "markdown",
   "metadata": {},
   "source": [
    "## 2. party 관련 기본 변수"
   ]
  },
  {
   "cell_type": "markdown",
   "metadata": {},
   "source": [
    "### 2.1 total party member count 변수 생성\n",
    "- 유저가 참여한 파티의 멤버 수의 총 합을 구한다."
   ]
  },
  {
   "cell_type": "code",
   "execution_count": 30,
   "metadata": {
    "scrolled": true
   },
   "outputs": [
    {
     "name": "stderr",
     "output_type": "stream",
     "text": [
      "100%|██████████| 4121512/4121512 [01:36<00:00, 42624.08it/s]\n"
     ]
    },
    {
     "name": "stdout",
     "output_type": "stream",
     "text": [
      "CPU times: user 1min 50s, sys: 10.9 s, total: 2min 1s\n",
      "Wall time: 2min 2s\n"
     ]
    }
   ],
   "source": [
    "%%time\n",
    "\n",
    "party_member_lists = [party['party_members_acc_id'][i].split(',') for i in trange(len(party['party_members_acc_id']))]\n",
    "party_member_1D_lists = list(chain.from_iterable(party_member_lists))\n",
    "member_id_value_count = pd.Series(party_member_1D_lists).value_counts()"
   ]
  },
  {
   "cell_type": "code",
   "execution_count": 31,
   "metadata": {
    "scrolled": true
   },
   "outputs": [
    {
     "name": "stderr",
     "output_type": "stream",
     "text": [
      "100%|██████████| 4121512/4121512 [02:54<00:00, 23616.80it/s]\n"
     ]
    },
    {
     "name": "stdout",
     "output_type": "stream",
     "text": [
      "CPU times: user 2min 48s, sys: 6.41 s, total: 2min 54s\n",
      "Wall time: 2min 56s\n"
     ]
    }
   ],
   "source": [
    "%%time \n",
    "increased_party_TMC = [[party['party_member_count'][i]]*party['party_member_count'][i] for i in trange(len(party))]\n",
    "flat_increased_party_TMC = list(chain.from_iterable(increased_party_TMC))"
   ]
  },
  {
   "cell_type": "markdown",
   "metadata": {},
   "source": [
    "### 2.2 Party total retained minute 변수 생성\n",
    "- 유저가 참여한 파티의 지속시간의 총합을 구한다."
   ]
  },
  {
   "cell_type": "code",
   "execution_count": 32,
   "metadata": {},
   "outputs": [
    {
     "name": "stdout",
     "output_type": "stream",
     "text": [
      "CPU times: user 16.7 s, sys: 4.94 s, total: 21.6 s\n",
      "Wall time: 21.9 s\n"
     ]
    }
   ],
   "source": [
    "%%time\n",
    "all_id_and_party_TMC_df = pd.concat([pd.Series(party_member_1D_lists), pd.Series(flat_increased_party_TMC)],axis=1)\n",
    "all_id_and_party_TMC_df.columns = ['acc_id','party_TMC']\n",
    "\n",
    "member_party_TMC = all_id_and_party_TMC_df.groupby('acc_id')['party_TMC'].sum()\n",
    "party_TMC_df = pd.DataFrame(member_party_TMC).reset_index()\n",
    "party_TMC_df.columns = ['acc_id','party_total_member_count']\n",
    "\n",
    "label = pd.merge(label, party_TMC_df, how='left', on='acc_id')\n",
    "label['party_total_member_count'].fillna(0, inplace=True)"
   ]
  },
  {
   "cell_type": "code",
   "execution_count": 33,
   "metadata": {},
   "outputs": [
    {
     "data": {
      "text/html": [
       "<div>\n",
       "<style scoped>\n",
       "    .dataframe tbody tr th:only-of-type {\n",
       "        vertical-align: middle;\n",
       "    }\n",
       "\n",
       "    .dataframe tbody tr th {\n",
       "        vertical-align: top;\n",
       "    }\n",
       "\n",
       "    .dataframe thead th {\n",
       "        text-align: right;\n",
       "    }\n",
       "</style>\n",
       "<table border=\"1\" class=\"dataframe\">\n",
       "  <thead>\n",
       "    <tr style=\"text-align: right;\">\n",
       "      <th></th>\n",
       "      <th>acc_id</th>\n",
       "      <th>party_total_member_count</th>\n",
       "    </tr>\n",
       "  </thead>\n",
       "  <tbody>\n",
       "    <tr>\n",
       "      <th>39995</th>\n",
       "      <td>d048b24f5205a50916339d24fc9f7b1c69352d2ee10f1c...</td>\n",
       "      <td>659.0</td>\n",
       "    </tr>\n",
       "    <tr>\n",
       "      <th>39996</th>\n",
       "      <td>ad5b3ef19e64aceb9ffea55310607ba62146218e616a83...</td>\n",
       "      <td>0.0</td>\n",
       "    </tr>\n",
       "    <tr>\n",
       "      <th>39997</th>\n",
       "      <td>972114a3bb57c377d162fb66b9198a2eec40de9576af51...</td>\n",
       "      <td>2119.0</td>\n",
       "    </tr>\n",
       "    <tr>\n",
       "      <th>39998</th>\n",
       "      <td>3d10d680df3d5fa2e370997c18274bad7355e3d0ff9fb0...</td>\n",
       "      <td>2065.0</td>\n",
       "    </tr>\n",
       "    <tr>\n",
       "      <th>39999</th>\n",
       "      <td>813ad8039e2692aecc1b7875f3a9b1e951477937ec30bd...</td>\n",
       "      <td>1064.0</td>\n",
       "    </tr>\n",
       "  </tbody>\n",
       "</table>\n",
       "</div>"
      ],
      "text/plain": [
       "                                                  acc_id  \\\n",
       "39995  d048b24f5205a50916339d24fc9f7b1c69352d2ee10f1c...   \n",
       "39996  ad5b3ef19e64aceb9ffea55310607ba62146218e616a83...   \n",
       "39997  972114a3bb57c377d162fb66b9198a2eec40de9576af51...   \n",
       "39998  3d10d680df3d5fa2e370997c18274bad7355e3d0ff9fb0...   \n",
       "39999  813ad8039e2692aecc1b7875f3a9b1e951477937ec30bd...   \n",
       "\n",
       "       party_total_member_count  \n",
       "39995                     659.0  \n",
       "39996                       0.0  \n",
       "39997                    2119.0  \n",
       "39998                    2065.0  \n",
       "39999                    1064.0  "
      ]
     },
     "execution_count": 33,
     "metadata": {},
     "output_type": "execute_result"
    }
   ],
   "source": [
    "label.tail()"
   ]
  },
  {
   "cell_type": "markdown",
   "metadata": {},
   "source": [
    "### 2.3 party members acc id 전체를 리스트로 만들기"
   ]
  },
  {
   "cell_type": "code",
   "execution_count": 166,
   "metadata": {},
   "outputs": [
    {
     "name": "stdout",
     "output_type": "stream",
     "text": [
      "21849944\n",
      "227710\n",
      "CPU times: user 25.9 s, sys: 6.92 s, total: 32.8 s\n",
      "Wall time: 37.9 s\n"
     ]
    }
   ],
   "source": [
    "%%time\n",
    "party_id_ls = get_party_ids(party)\n",
    "\n",
    "print(len(party_id_ls))\n",
    "print(len(list(set(party_id_ls))))"
   ]
  },
  {
   "cell_type": "markdown",
   "metadata": {},
   "source": [
    "### 2.4 party start week/day & end week/day의 first, mode, last 변수"
   ]
  },
  {
   "cell_type": "code",
   "execution_count": 169,
   "metadata": {
    "scrolled": true
   },
   "outputs": [
    {
     "name": "stderr",
     "output_type": "stream",
     "text": [
      "  0%|          | 2234/4121512 [00:00<03:04, 22327.25it/s]"
     ]
    },
    {
     "name": "stdout",
     "output_type": "stream",
     "text": [
      "start making all ID & party_start_week df\n"
     ]
    },
    {
     "name": "stderr",
     "output_type": "stream",
     "text": [
      "100%|██████████| 4121512/4121512 [02:55<00:00, 23534.25it/s]\n"
     ]
    },
    {
     "name": "stdout",
     "output_type": "stream",
     "text": [
      "end of making all ID & party_start_week df\n",
      "start making party_start_week first & mode & last df\n",
      "working first_df...\n",
      "working mode_df...\n",
      "working last_df...\n",
      "end of making party_start_week first & mode & last df\n",
      "CPU times: user 4min 18s, sys: 5.63 s, total: 4min 24s\n",
      "Wall time: 4min 24s\n"
     ]
    }
   ],
   "source": [
    "%time label = make_first_mode_last_df_and_merge_with_label(party, 'party_start_week', label)"
   ]
  },
  {
   "cell_type": "code",
   "execution_count": 170,
   "metadata": {},
   "outputs": [
    {
     "name": "stderr",
     "output_type": "stream",
     "text": [
      "  0%|          | 2166/4121512 [00:00<03:10, 21652.84it/s]"
     ]
    },
    {
     "name": "stdout",
     "output_type": "stream",
     "text": [
      "start making all ID & party_start_day df\n"
     ]
    },
    {
     "name": "stderr",
     "output_type": "stream",
     "text": [
      "100%|██████████| 4121512/4121512 [02:50<00:00, 24227.63it/s]\n"
     ]
    },
    {
     "name": "stdout",
     "output_type": "stream",
     "text": [
      "end of making all ID & party_start_day df\n",
      "start making party_start_day first & mode & last df\n",
      "working first_df...\n",
      "working mode_df...\n",
      "working last_df...\n",
      "end of making party_start_day first & mode & last df\n",
      "CPU times: user 4min 21s, sys: 5.41 s, total: 4min 26s\n",
      "Wall time: 4min 26s\n"
     ]
    }
   ],
   "source": [
    "%time label = make_first_mode_last_df_and_merge_with_label(party, 'party_start_day', label)"
   ]
  },
  {
   "cell_type": "code",
   "execution_count": 171,
   "metadata": {},
   "outputs": [
    {
     "name": "stderr",
     "output_type": "stream",
     "text": [
      "  0%|          | 2326/4121512 [00:00<02:57, 23254.87it/s]"
     ]
    },
    {
     "name": "stdout",
     "output_type": "stream",
     "text": [
      "start making all ID & party_end_week df\n"
     ]
    },
    {
     "name": "stderr",
     "output_type": "stream",
     "text": [
      "100%|██████████| 4121512/4121512 [02:49<00:00, 24350.95it/s]\n"
     ]
    },
    {
     "name": "stdout",
     "output_type": "stream",
     "text": [
      "end of making all ID & party_end_week df\n",
      "start making party_end_week first & mode & last df\n",
      "working first_df...\n",
      "working mode_df...\n",
      "working last_df...\n",
      "end of making party_end_week first & mode & last df\n",
      "CPU times: user 4min 15s, sys: 5.13 s, total: 4min 21s\n",
      "Wall time: 4min 20s\n"
     ]
    }
   ],
   "source": [
    "%time label = make_first_mode_last_df_and_merge_with_label(party, 'party_end_week', label)"
   ]
  },
  {
   "cell_type": "code",
   "execution_count": 172,
   "metadata": {},
   "outputs": [
    {
     "name": "stderr",
     "output_type": "stream",
     "text": [
      "  0%|          | 2158/4121512 [00:00<03:11, 21563.62it/s]"
     ]
    },
    {
     "name": "stdout",
     "output_type": "stream",
     "text": [
      "start making all ID & party_end_day df\n"
     ]
    },
    {
     "name": "stderr",
     "output_type": "stream",
     "text": [
      "100%|██████████| 4121512/4121512 [02:56<00:00, 23411.67it/s]\n"
     ]
    },
    {
     "name": "stdout",
     "output_type": "stream",
     "text": [
      "end of making all ID & party_end_day df\n",
      "start making party_end_day first & mode & last df\n",
      "working first_df...\n",
      "working mode_df...\n",
      "working last_df...\n",
      "end of making party_end_day first & mode & last df\n",
      "CPU times: user 4min 25s, sys: 5.46 s, total: 4min 30s\n",
      "Wall time: 4min 31s\n"
     ]
    }
   ],
   "source": [
    "%time label = make_first_mode_last_df_and_merge_with_label(party, 'party_end_day', label)"
   ]
  },
  {
   "cell_type": "code",
   "execution_count": 173,
   "metadata": {},
   "outputs": [
    {
     "data": {
      "text/html": [
       "<div>\n",
       "<style scoped>\n",
       "    .dataframe tbody tr th:only-of-type {\n",
       "        vertical-align: middle;\n",
       "    }\n",
       "\n",
       "    .dataframe tbody tr th {\n",
       "        vertical-align: top;\n",
       "    }\n",
       "\n",
       "    .dataframe thead th {\n",
       "        text-align: right;\n",
       "    }\n",
       "</style>\n",
       "<table border=\"1\" class=\"dataframe\">\n",
       "  <thead>\n",
       "    <tr style=\"text-align: right;\">\n",
       "      <th></th>\n",
       "      <th>acc_id</th>\n",
       "      <th>first_party_start_week</th>\n",
       "      <th>mode_party_start_week</th>\n",
       "      <th>last_party_start_week</th>\n",
       "      <th>first_party_start_day</th>\n",
       "      <th>mode_party_start_day</th>\n",
       "      <th>last_party_start_day</th>\n",
       "      <th>first_party_end_week</th>\n",
       "      <th>mode_party_end_week</th>\n",
       "      <th>last_party_end_week</th>\n",
       "      <th>first_party_end_day</th>\n",
       "      <th>mode_party_end_day</th>\n",
       "      <th>last_party_end_day</th>\n",
       "    </tr>\n",
       "  </thead>\n",
       "  <tbody>\n",
       "    <tr>\n",
       "      <th>39995</th>\n",
       "      <td>d048b24f5205a50916339d24fc9f7b1c69352d2ee10f1c...</td>\n",
       "      <td>8.0</td>\n",
       "      <td>8.0</td>\n",
       "      <td>8.0</td>\n",
       "      <td>5.0</td>\n",
       "      <td>6.0</td>\n",
       "      <td>7.0</td>\n",
       "      <td>8.0</td>\n",
       "      <td>8.0</td>\n",
       "      <td>8.0</td>\n",
       "      <td>5.0</td>\n",
       "      <td>6.0</td>\n",
       "      <td>7.0</td>\n",
       "    </tr>\n",
       "    <tr>\n",
       "      <th>39996</th>\n",
       "      <td>ad5b3ef19e64aceb9ffea55310607ba62146218e616a83...</td>\n",
       "      <td>0.0</td>\n",
       "      <td>0.0</td>\n",
       "      <td>0.0</td>\n",
       "      <td>0.0</td>\n",
       "      <td>0.0</td>\n",
       "      <td>0.0</td>\n",
       "      <td>0.0</td>\n",
       "      <td>0.0</td>\n",
       "      <td>0.0</td>\n",
       "      <td>0.0</td>\n",
       "      <td>0.0</td>\n",
       "      <td>0.0</td>\n",
       "    </tr>\n",
       "    <tr>\n",
       "      <th>39997</th>\n",
       "      <td>972114a3bb57c377d162fb66b9198a2eec40de9576af51...</td>\n",
       "      <td>2.0</td>\n",
       "      <td>7.0</td>\n",
       "      <td>8.0</td>\n",
       "      <td>1.0</td>\n",
       "      <td>4.0</td>\n",
       "      <td>7.0</td>\n",
       "      <td>2.0</td>\n",
       "      <td>7.0</td>\n",
       "      <td>8.0</td>\n",
       "      <td>1.0</td>\n",
       "      <td>4.0</td>\n",
       "      <td>7.0</td>\n",
       "    </tr>\n",
       "    <tr>\n",
       "      <th>39998</th>\n",
       "      <td>3d10d680df3d5fa2e370997c18274bad7355e3d0ff9fb0...</td>\n",
       "      <td>1.0</td>\n",
       "      <td>1.0</td>\n",
       "      <td>8.0</td>\n",
       "      <td>1.0</td>\n",
       "      <td>2.0</td>\n",
       "      <td>7.0</td>\n",
       "      <td>1.0</td>\n",
       "      <td>1.0</td>\n",
       "      <td>8.0</td>\n",
       "      <td>1.0</td>\n",
       "      <td>2.0</td>\n",
       "      <td>7.0</td>\n",
       "    </tr>\n",
       "    <tr>\n",
       "      <th>39999</th>\n",
       "      <td>813ad8039e2692aecc1b7875f3a9b1e951477937ec30bd...</td>\n",
       "      <td>1.0</td>\n",
       "      <td>3.0</td>\n",
       "      <td>8.0</td>\n",
       "      <td>1.0</td>\n",
       "      <td>2.0</td>\n",
       "      <td>7.0</td>\n",
       "      <td>1.0</td>\n",
       "      <td>3.0</td>\n",
       "      <td>8.0</td>\n",
       "      <td>1.0</td>\n",
       "      <td>2.0</td>\n",
       "      <td>7.0</td>\n",
       "    </tr>\n",
       "  </tbody>\n",
       "</table>\n",
       "</div>"
      ],
      "text/plain": [
       "                                                  acc_id  \\\n",
       "39995  d048b24f5205a50916339d24fc9f7b1c69352d2ee10f1c...   \n",
       "39996  ad5b3ef19e64aceb9ffea55310607ba62146218e616a83...   \n",
       "39997  972114a3bb57c377d162fb66b9198a2eec40de9576af51...   \n",
       "39998  3d10d680df3d5fa2e370997c18274bad7355e3d0ff9fb0...   \n",
       "39999  813ad8039e2692aecc1b7875f3a9b1e951477937ec30bd...   \n",
       "\n",
       "       first_party_start_week  mode_party_start_week  last_party_start_week  \\\n",
       "39995                     8.0                    8.0                    8.0   \n",
       "39996                     0.0                    0.0                    0.0   \n",
       "39997                     2.0                    7.0                    8.0   \n",
       "39998                     1.0                    1.0                    8.0   \n",
       "39999                     1.0                    3.0                    8.0   \n",
       "\n",
       "       first_party_start_day  mode_party_start_day  last_party_start_day  \\\n",
       "39995                    5.0                   6.0                   7.0   \n",
       "39996                    0.0                   0.0                   0.0   \n",
       "39997                    1.0                   4.0                   7.0   \n",
       "39998                    1.0                   2.0                   7.0   \n",
       "39999                    1.0                   2.0                   7.0   \n",
       "\n",
       "       first_party_end_week  mode_party_end_week  last_party_end_week  \\\n",
       "39995                   8.0                  8.0                  8.0   \n",
       "39996                   0.0                  0.0                  0.0   \n",
       "39997                   2.0                  7.0                  8.0   \n",
       "39998                   1.0                  1.0                  8.0   \n",
       "39999                   1.0                  3.0                  8.0   \n",
       "\n",
       "       first_party_end_day  mode_party_end_day  last_party_end_day  \n",
       "39995                  5.0                 6.0                 7.0  \n",
       "39996                  0.0                 0.0                 0.0  \n",
       "39997                  1.0                 4.0                 7.0  \n",
       "39998                  1.0                 2.0                 7.0  \n",
       "39999                  1.0                 2.0                 7.0  "
      ]
     },
     "execution_count": 173,
     "metadata": {},
     "output_type": "execute_result"
    }
   ],
   "source": [
    "label.tail()"
   ]
  },
  {
   "cell_type": "markdown",
   "metadata": {},
   "source": [
    "## 3. 10분 이상 party만 남도록 data filtering"
   ]
  },
  {
   "cell_type": "code",
   "execution_count": 175,
   "metadata": {
    "scrolled": false
   },
   "outputs": [
    {
     "name": "stdout",
     "output_type": "stream",
     "text": [
      "2199093\n",
      "CPU times: user 1.11 s, sys: 4.96 s, total: 6.07 s\n",
      "Wall time: 9.07 s\n"
     ]
    }
   ],
   "source": [
    "%%time\n",
    "filtered_party = time_filter(party)\n",
    "print(len(filtered_party))"
   ]
  },
  {
   "cell_type": "markdown",
   "metadata": {},
   "source": [
    "## 4. party 참여 횟수 변수 생성\n",
    "- 전체 횟수, week별 횟수 → 9개 변수"
   ]
  },
  {
   "cell_type": "markdown",
   "metadata": {},
   "source": [
    "### 4.1 party members acc id 전체를 리스트로 만들기"
   ]
  },
  {
   "cell_type": "code",
   "execution_count": 177,
   "metadata": {},
   "outputs": [],
   "source": [
    "party_id_ls = get_party_ids(filtered_party)"
   ]
  },
  {
   "cell_type": "markdown",
   "metadata": {},
   "source": [
    "### 4.2 party_cnt(파티 참여횟수) 변수 생성"
   ]
  },
  {
   "cell_type": "code",
   "execution_count": 178,
   "metadata": {},
   "outputs": [
    {
     "name": "stdout",
     "output_type": "stream",
     "text": [
      "CPU times: user 5.72 s, sys: 439 ms, total: 6.16 s\n",
      "Wall time: 6.18 s\n"
     ]
    }
   ],
   "source": [
    "%%time\n",
    "party_1 = get_party_cnt(party_id_ls, label)"
   ]
  },
  {
   "cell_type": "code",
   "execution_count": 179,
   "metadata": {},
   "outputs": [
    {
     "data": {
      "text/html": [
       "<div>\n",
       "<style scoped>\n",
       "    .dataframe tbody tr th:only-of-type {\n",
       "        vertical-align: middle;\n",
       "    }\n",
       "\n",
       "    .dataframe tbody tr th {\n",
       "        vertical-align: top;\n",
       "    }\n",
       "\n",
       "    .dataframe thead th {\n",
       "        text-align: right;\n",
       "    }\n",
       "</style>\n",
       "<table border=\"1\" class=\"dataframe\">\n",
       "  <thead>\n",
       "    <tr style=\"text-align: right;\">\n",
       "      <th></th>\n",
       "      <th>acc_id</th>\n",
       "      <th>first_party_start_week</th>\n",
       "      <th>mode_party_start_week</th>\n",
       "      <th>last_party_start_week</th>\n",
       "      <th>first_party_start_day</th>\n",
       "      <th>mode_party_start_day</th>\n",
       "      <th>last_party_start_day</th>\n",
       "      <th>first_party_end_week</th>\n",
       "      <th>mode_party_end_week</th>\n",
       "      <th>last_party_end_week</th>\n",
       "      <th>first_party_end_day</th>\n",
       "      <th>mode_party_end_day</th>\n",
       "      <th>last_party_end_day</th>\n",
       "      <th>party_cnt</th>\n",
       "    </tr>\n",
       "  </thead>\n",
       "  <tbody>\n",
       "    <tr>\n",
       "      <th>39995</th>\n",
       "      <td>d048b24f5205a50916339d24fc9f7b1c69352d2ee10f1c...</td>\n",
       "      <td>8.0</td>\n",
       "      <td>8.0</td>\n",
       "      <td>8.0</td>\n",
       "      <td>5.0</td>\n",
       "      <td>6.0</td>\n",
       "      <td>7.0</td>\n",
       "      <td>8.0</td>\n",
       "      <td>8.0</td>\n",
       "      <td>8.0</td>\n",
       "      <td>5.0</td>\n",
       "      <td>6.0</td>\n",
       "      <td>7.0</td>\n",
       "      <td>9.0</td>\n",
       "    </tr>\n",
       "    <tr>\n",
       "      <th>39996</th>\n",
       "      <td>ad5b3ef19e64aceb9ffea55310607ba62146218e616a83...</td>\n",
       "      <td>0.0</td>\n",
       "      <td>0.0</td>\n",
       "      <td>0.0</td>\n",
       "      <td>0.0</td>\n",
       "      <td>0.0</td>\n",
       "      <td>0.0</td>\n",
       "      <td>0.0</td>\n",
       "      <td>0.0</td>\n",
       "      <td>0.0</td>\n",
       "      <td>0.0</td>\n",
       "      <td>0.0</td>\n",
       "      <td>0.0</td>\n",
       "      <td>0.0</td>\n",
       "    </tr>\n",
       "    <tr>\n",
       "      <th>39997</th>\n",
       "      <td>972114a3bb57c377d162fb66b9198a2eec40de9576af51...</td>\n",
       "      <td>2.0</td>\n",
       "      <td>7.0</td>\n",
       "      <td>8.0</td>\n",
       "      <td>1.0</td>\n",
       "      <td>4.0</td>\n",
       "      <td>7.0</td>\n",
       "      <td>2.0</td>\n",
       "      <td>7.0</td>\n",
       "      <td>8.0</td>\n",
       "      <td>1.0</td>\n",
       "      <td>4.0</td>\n",
       "      <td>7.0</td>\n",
       "      <td>320.0</td>\n",
       "    </tr>\n",
       "    <tr>\n",
       "      <th>39998</th>\n",
       "      <td>3d10d680df3d5fa2e370997c18274bad7355e3d0ff9fb0...</td>\n",
       "      <td>1.0</td>\n",
       "      <td>1.0</td>\n",
       "      <td>8.0</td>\n",
       "      <td>1.0</td>\n",
       "      <td>2.0</td>\n",
       "      <td>7.0</td>\n",
       "      <td>1.0</td>\n",
       "      <td>1.0</td>\n",
       "      <td>8.0</td>\n",
       "      <td>1.0</td>\n",
       "      <td>2.0</td>\n",
       "      <td>7.0</td>\n",
       "      <td>52.0</td>\n",
       "    </tr>\n",
       "    <tr>\n",
       "      <th>39999</th>\n",
       "      <td>813ad8039e2692aecc1b7875f3a9b1e951477937ec30bd...</td>\n",
       "      <td>1.0</td>\n",
       "      <td>3.0</td>\n",
       "      <td>8.0</td>\n",
       "      <td>1.0</td>\n",
       "      <td>2.0</td>\n",
       "      <td>7.0</td>\n",
       "      <td>1.0</td>\n",
       "      <td>3.0</td>\n",
       "      <td>8.0</td>\n",
       "      <td>1.0</td>\n",
       "      <td>2.0</td>\n",
       "      <td>7.0</td>\n",
       "      <td>131.0</td>\n",
       "    </tr>\n",
       "  </tbody>\n",
       "</table>\n",
       "</div>"
      ],
      "text/plain": [
       "                                                  acc_id  \\\n",
       "39995  d048b24f5205a50916339d24fc9f7b1c69352d2ee10f1c...   \n",
       "39996  ad5b3ef19e64aceb9ffea55310607ba62146218e616a83...   \n",
       "39997  972114a3bb57c377d162fb66b9198a2eec40de9576af51...   \n",
       "39998  3d10d680df3d5fa2e370997c18274bad7355e3d0ff9fb0...   \n",
       "39999  813ad8039e2692aecc1b7875f3a9b1e951477937ec30bd...   \n",
       "\n",
       "       first_party_start_week  mode_party_start_week  last_party_start_week  \\\n",
       "39995                     8.0                    8.0                    8.0   \n",
       "39996                     0.0                    0.0                    0.0   \n",
       "39997                     2.0                    7.0                    8.0   \n",
       "39998                     1.0                    1.0                    8.0   \n",
       "39999                     1.0                    3.0                    8.0   \n",
       "\n",
       "       first_party_start_day  mode_party_start_day  last_party_start_day  \\\n",
       "39995                    5.0                   6.0                   7.0   \n",
       "39996                    0.0                   0.0                   0.0   \n",
       "39997                    1.0                   4.0                   7.0   \n",
       "39998                    1.0                   2.0                   7.0   \n",
       "39999                    1.0                   2.0                   7.0   \n",
       "\n",
       "       first_party_end_week  mode_party_end_week  last_party_end_week  \\\n",
       "39995                   8.0                  8.0                  8.0   \n",
       "39996                   0.0                  0.0                  0.0   \n",
       "39997                   2.0                  7.0                  8.0   \n",
       "39998                   1.0                  1.0                  8.0   \n",
       "39999                   1.0                  3.0                  8.0   \n",
       "\n",
       "       first_party_end_day  mode_party_end_day  last_party_end_day  party_cnt  \n",
       "39995                  5.0                 6.0                 7.0        9.0  \n",
       "39996                  0.0                 0.0                 0.0        0.0  \n",
       "39997                  1.0                 4.0                 7.0      320.0  \n",
       "39998                  1.0                 2.0                 7.0       52.0  \n",
       "39999                  1.0                 2.0                 7.0      131.0  "
      ]
     },
     "execution_count": 179,
     "metadata": {},
     "output_type": "execute_result"
    }
   ],
   "source": [
    "party_1.tail()"
   ]
  },
  {
   "cell_type": "markdown",
   "metadata": {},
   "source": [
    "### 4.3 week별 party_cnt"
   ]
  },
  {
   "cell_type": "markdown",
   "metadata": {},
   "source": [
    "#### (1) 파티 지속 기간(week) 확인"
   ]
  },
  {
   "cell_type": "code",
   "execution_count": 180,
   "metadata": {},
   "outputs": [],
   "source": [
    "filtered_party[\"party_duration_week\"] = filtered_party[\"party_end_week\"] - filtered_party[\"party_start_week\"]"
   ]
  },
  {
   "cell_type": "code",
   "execution_count": 181,
   "metadata": {},
   "outputs": [
    {
     "data": {
      "text/html": [
       "<div>\n",
       "<style scoped>\n",
       "    .dataframe tbody tr th:only-of-type {\n",
       "        vertical-align: middle;\n",
       "    }\n",
       "\n",
       "    .dataframe tbody tr th {\n",
       "        vertical-align: top;\n",
       "    }\n",
       "\n",
       "    .dataframe thead th {\n",
       "        text-align: right;\n",
       "    }\n",
       "</style>\n",
       "<table border=\"1\" class=\"dataframe\">\n",
       "  <thead>\n",
       "    <tr style=\"text-align: right;\">\n",
       "      <th></th>\n",
       "      <th>party_duration_week</th>\n",
       "      <th>0</th>\n",
       "    </tr>\n",
       "  </thead>\n",
       "  <tbody>\n",
       "    <tr>\n",
       "      <th>0</th>\n",
       "      <td>0</td>\n",
       "      <td>2176535</td>\n",
       "    </tr>\n",
       "    <tr>\n",
       "      <th>1</th>\n",
       "      <td>1</td>\n",
       "      <td>22558</td>\n",
       "    </tr>\n",
       "  </tbody>\n",
       "</table>\n",
       "</div>"
      ],
      "text/plain": [
       "   party_duration_week        0\n",
       "0                    0  2176535\n",
       "1                    1    22558"
      ]
     },
     "execution_count": 181,
     "metadata": {},
     "output_type": "execute_result"
    }
   ],
   "source": [
    "filtered_party.groupby(\"party_duration_week\").size().reset_index()"
   ]
  },
  {
   "cell_type": "markdown",
   "metadata": {},
   "source": [
    "#### (2) 다음 주로 넘어가는 경우 끝나는 요일 확인\n",
    "- 모두 1일에 끝나므로 시작 week만으로 count하기로 함"
   ]
  },
  {
   "cell_type": "code",
   "execution_count": 182,
   "metadata": {},
   "outputs": [
    {
     "data": {
      "text/html": [
       "<div>\n",
       "<style scoped>\n",
       "    .dataframe tbody tr th:only-of-type {\n",
       "        vertical-align: middle;\n",
       "    }\n",
       "\n",
       "    .dataframe tbody tr th {\n",
       "        vertical-align: top;\n",
       "    }\n",
       "\n",
       "    .dataframe thead th {\n",
       "        text-align: right;\n",
       "    }\n",
       "</style>\n",
       "<table border=\"1\" class=\"dataframe\">\n",
       "  <thead>\n",
       "    <tr style=\"text-align: right;\">\n",
       "      <th></th>\n",
       "      <th>party_end_day</th>\n",
       "      <th>0</th>\n",
       "    </tr>\n",
       "  </thead>\n",
       "  <tbody>\n",
       "    <tr>\n",
       "      <th>0</th>\n",
       "      <td>1</td>\n",
       "      <td>22558</td>\n",
       "    </tr>\n",
       "  </tbody>\n",
       "</table>\n",
       "</div>"
      ],
      "text/plain": [
       "   party_end_day      0\n",
       "0              1  22558"
      ]
     },
     "execution_count": 182,
     "metadata": {},
     "output_type": "execute_result"
    }
   ],
   "source": [
    "dur_1w = filtered_party[filtered_party[\"party_duration_week\"]==1]\n",
    "dur_1w.groupby(dur_1w[\"party_end_day\"]).size().reset_index()"
   ]
  },
  {
   "cell_type": "markdown",
   "metadata": {},
   "source": [
    "#### (3) week별 party_cnt 구하기"
   ]
  },
  {
   "cell_type": "code",
   "execution_count": 184,
   "metadata": {},
   "outputs": [
    {
     "name": "stderr",
     "output_type": "stream",
     "text": [
      "  0%|          | 0/8 [00:00<?, ?it/s]"
     ]
    },
    {
     "name": "stdout",
     "output_type": "stream",
     "text": [
      "week 1 party id: 1198772\n"
     ]
    },
    {
     "name": "stderr",
     "output_type": "stream",
     "text": [
      " 12%|█▎        | 1/8 [00:01<00:13,  1.92s/it]"
     ]
    },
    {
     "name": "stdout",
     "output_type": "stream",
     "text": [
      "week 2 party id: 1307784\n"
     ]
    },
    {
     "name": "stderr",
     "output_type": "stream",
     "text": [
      " 25%|██▌       | 2/8 [00:04<00:12,  2.15s/it]"
     ]
    },
    {
     "name": "stdout",
     "output_type": "stream",
     "text": [
      "week 3 party id: 1311707\n"
     ]
    },
    {
     "name": "stderr",
     "output_type": "stream",
     "text": [
      " 38%|███▊      | 3/8 [00:06<00:10,  2.13s/it]"
     ]
    },
    {
     "name": "stdout",
     "output_type": "stream",
     "text": [
      "week 4 party id: 1418090\n"
     ]
    },
    {
     "name": "stderr",
     "output_type": "stream",
     "text": [
      " 50%|█████     | 4/8 [00:08<00:08,  2.17s/it]"
     ]
    },
    {
     "name": "stdout",
     "output_type": "stream",
     "text": [
      "week 5 party id: 1709974\n"
     ]
    },
    {
     "name": "stderr",
     "output_type": "stream",
     "text": [
      " 62%|██████▎   | 5/8 [00:11<00:06,  2.25s/it]"
     ]
    },
    {
     "name": "stdout",
     "output_type": "stream",
     "text": [
      "week 6 party id: 1720101\n"
     ]
    },
    {
     "name": "stderr",
     "output_type": "stream",
     "text": [
      " 75%|███████▌  | 6/8 [00:13<00:04,  2.29s/it]"
     ]
    },
    {
     "name": "stdout",
     "output_type": "stream",
     "text": [
      "week 7 party id: 2713731\n"
     ]
    },
    {
     "name": "stderr",
     "output_type": "stream",
     "text": [
      " 88%|████████▊ | 7/8 [00:17<00:02,  2.55s/it]"
     ]
    },
    {
     "name": "stdout",
     "output_type": "stream",
     "text": [
      "week 8 party id: 2549254\n"
     ]
    },
    {
     "name": "stderr",
     "output_type": "stream",
     "text": [
      "100%|██████████| 8/8 [00:21<00:00,  2.72s/it]"
     ]
    },
    {
     "name": "stdout",
     "output_type": "stream",
     "text": [
      "CPU times: user 20.8 s, sys: 848 ms, total: 21.7 s\n",
      "Wall time: 21.8 s\n"
     ]
    },
    {
     "name": "stderr",
     "output_type": "stream",
     "text": [
      "\n"
     ]
    }
   ],
   "source": [
    "%%time\n",
    "for i in trange(1,9):\n",
    "    party_1 = week_cnt(i, party_1, df = filtered_party)"
   ]
  },
  {
   "cell_type": "code",
   "execution_count": 185,
   "metadata": {},
   "outputs": [
    {
     "data": {
      "text/html": [
       "<div>\n",
       "<style scoped>\n",
       "    .dataframe tbody tr th:only-of-type {\n",
       "        vertical-align: middle;\n",
       "    }\n",
       "\n",
       "    .dataframe tbody tr th {\n",
       "        vertical-align: top;\n",
       "    }\n",
       "\n",
       "    .dataframe thead th {\n",
       "        text-align: right;\n",
       "    }\n",
       "</style>\n",
       "<table border=\"1\" class=\"dataframe\">\n",
       "  <thead>\n",
       "    <tr style=\"text-align: right;\">\n",
       "      <th></th>\n",
       "      <th>acc_id</th>\n",
       "      <th>first_party_start_week</th>\n",
       "      <th>mode_party_start_week</th>\n",
       "      <th>last_party_start_week</th>\n",
       "      <th>first_party_start_day</th>\n",
       "      <th>mode_party_start_day</th>\n",
       "      <th>last_party_start_day</th>\n",
       "      <th>first_party_end_week</th>\n",
       "      <th>mode_party_end_week</th>\n",
       "      <th>last_party_end_week</th>\n",
       "      <th>...</th>\n",
       "      <th>last_party_end_day</th>\n",
       "      <th>party_cnt</th>\n",
       "      <th>party_cnt_w1</th>\n",
       "      <th>party_cnt_w2</th>\n",
       "      <th>party_cnt_w3</th>\n",
       "      <th>party_cnt_w4</th>\n",
       "      <th>party_cnt_w5</th>\n",
       "      <th>party_cnt_w6</th>\n",
       "      <th>party_cnt_w7</th>\n",
       "      <th>party_cnt_w8</th>\n",
       "    </tr>\n",
       "  </thead>\n",
       "  <tbody>\n",
       "    <tr>\n",
       "      <th>39995</th>\n",
       "      <td>d048b24f5205a50916339d24fc9f7b1c69352d2ee10f1c...</td>\n",
       "      <td>8.0</td>\n",
       "      <td>8.0</td>\n",
       "      <td>8.0</td>\n",
       "      <td>5.0</td>\n",
       "      <td>6.0</td>\n",
       "      <td>7.0</td>\n",
       "      <td>8.0</td>\n",
       "      <td>8.0</td>\n",
       "      <td>8.0</td>\n",
       "      <td>...</td>\n",
       "      <td>7.0</td>\n",
       "      <td>9.0</td>\n",
       "      <td>0.0</td>\n",
       "      <td>0.0</td>\n",
       "      <td>0.0</td>\n",
       "      <td>0.0</td>\n",
       "      <td>0.0</td>\n",
       "      <td>0.0</td>\n",
       "      <td>0.0</td>\n",
       "      <td>9.0</td>\n",
       "    </tr>\n",
       "    <tr>\n",
       "      <th>39996</th>\n",
       "      <td>ad5b3ef19e64aceb9ffea55310607ba62146218e616a83...</td>\n",
       "      <td>0.0</td>\n",
       "      <td>0.0</td>\n",
       "      <td>0.0</td>\n",
       "      <td>0.0</td>\n",
       "      <td>0.0</td>\n",
       "      <td>0.0</td>\n",
       "      <td>0.0</td>\n",
       "      <td>0.0</td>\n",
       "      <td>0.0</td>\n",
       "      <td>...</td>\n",
       "      <td>0.0</td>\n",
       "      <td>0.0</td>\n",
       "      <td>0.0</td>\n",
       "      <td>0.0</td>\n",
       "      <td>0.0</td>\n",
       "      <td>0.0</td>\n",
       "      <td>0.0</td>\n",
       "      <td>0.0</td>\n",
       "      <td>0.0</td>\n",
       "      <td>0.0</td>\n",
       "    </tr>\n",
       "    <tr>\n",
       "      <th>39997</th>\n",
       "      <td>972114a3bb57c377d162fb66b9198a2eec40de9576af51...</td>\n",
       "      <td>2.0</td>\n",
       "      <td>7.0</td>\n",
       "      <td>8.0</td>\n",
       "      <td>1.0</td>\n",
       "      <td>4.0</td>\n",
       "      <td>7.0</td>\n",
       "      <td>2.0</td>\n",
       "      <td>7.0</td>\n",
       "      <td>8.0</td>\n",
       "      <td>...</td>\n",
       "      <td>7.0</td>\n",
       "      <td>320.0</td>\n",
       "      <td>0.0</td>\n",
       "      <td>0.0</td>\n",
       "      <td>0.0</td>\n",
       "      <td>0.0</td>\n",
       "      <td>0.0</td>\n",
       "      <td>90.0</td>\n",
       "      <td>132.0</td>\n",
       "      <td>98.0</td>\n",
       "    </tr>\n",
       "    <tr>\n",
       "      <th>39998</th>\n",
       "      <td>3d10d680df3d5fa2e370997c18274bad7355e3d0ff9fb0...</td>\n",
       "      <td>1.0</td>\n",
       "      <td>1.0</td>\n",
       "      <td>8.0</td>\n",
       "      <td>1.0</td>\n",
       "      <td>2.0</td>\n",
       "      <td>7.0</td>\n",
       "      <td>1.0</td>\n",
       "      <td>1.0</td>\n",
       "      <td>8.0</td>\n",
       "      <td>...</td>\n",
       "      <td>7.0</td>\n",
       "      <td>52.0</td>\n",
       "      <td>8.0</td>\n",
       "      <td>7.0</td>\n",
       "      <td>4.0</td>\n",
       "      <td>8.0</td>\n",
       "      <td>1.0</td>\n",
       "      <td>7.0</td>\n",
       "      <td>8.0</td>\n",
       "      <td>9.0</td>\n",
       "    </tr>\n",
       "    <tr>\n",
       "      <th>39999</th>\n",
       "      <td>813ad8039e2692aecc1b7875f3a9b1e951477937ec30bd...</td>\n",
       "      <td>1.0</td>\n",
       "      <td>3.0</td>\n",
       "      <td>8.0</td>\n",
       "      <td>1.0</td>\n",
       "      <td>2.0</td>\n",
       "      <td>7.0</td>\n",
       "      <td>1.0</td>\n",
       "      <td>3.0</td>\n",
       "      <td>8.0</td>\n",
       "      <td>...</td>\n",
       "      <td>7.0</td>\n",
       "      <td>131.0</td>\n",
       "      <td>12.0</td>\n",
       "      <td>18.0</td>\n",
       "      <td>23.0</td>\n",
       "      <td>19.0</td>\n",
       "      <td>15.0</td>\n",
       "      <td>11.0</td>\n",
       "      <td>20.0</td>\n",
       "      <td>13.0</td>\n",
       "    </tr>\n",
       "  </tbody>\n",
       "</table>\n",
       "<p>5 rows × 22 columns</p>\n",
       "</div>"
      ],
      "text/plain": [
       "                                                  acc_id  \\\n",
       "39995  d048b24f5205a50916339d24fc9f7b1c69352d2ee10f1c...   \n",
       "39996  ad5b3ef19e64aceb9ffea55310607ba62146218e616a83...   \n",
       "39997  972114a3bb57c377d162fb66b9198a2eec40de9576af51...   \n",
       "39998  3d10d680df3d5fa2e370997c18274bad7355e3d0ff9fb0...   \n",
       "39999  813ad8039e2692aecc1b7875f3a9b1e951477937ec30bd...   \n",
       "\n",
       "       first_party_start_week  mode_party_start_week  last_party_start_week  \\\n",
       "39995                     8.0                    8.0                    8.0   \n",
       "39996                     0.0                    0.0                    0.0   \n",
       "39997                     2.0                    7.0                    8.0   \n",
       "39998                     1.0                    1.0                    8.0   \n",
       "39999                     1.0                    3.0                    8.0   \n",
       "\n",
       "       first_party_start_day  mode_party_start_day  last_party_start_day  \\\n",
       "39995                    5.0                   6.0                   7.0   \n",
       "39996                    0.0                   0.0                   0.0   \n",
       "39997                    1.0                   4.0                   7.0   \n",
       "39998                    1.0                   2.0                   7.0   \n",
       "39999                    1.0                   2.0                   7.0   \n",
       "\n",
       "       first_party_end_week  mode_party_end_week  last_party_end_week  \\\n",
       "39995                   8.0                  8.0                  8.0   \n",
       "39996                   0.0                  0.0                  0.0   \n",
       "39997                   2.0                  7.0                  8.0   \n",
       "39998                   1.0                  1.0                  8.0   \n",
       "39999                   1.0                  3.0                  8.0   \n",
       "\n",
       "           ...       last_party_end_day  party_cnt  party_cnt_w1  \\\n",
       "39995      ...                      7.0        9.0           0.0   \n",
       "39996      ...                      0.0        0.0           0.0   \n",
       "39997      ...                      7.0      320.0           0.0   \n",
       "39998      ...                      7.0       52.0           8.0   \n",
       "39999      ...                      7.0      131.0          12.0   \n",
       "\n",
       "       party_cnt_w2  party_cnt_w3  party_cnt_w4  party_cnt_w5  party_cnt_w6  \\\n",
       "39995           0.0           0.0           0.0           0.0           0.0   \n",
       "39996           0.0           0.0           0.0           0.0           0.0   \n",
       "39997           0.0           0.0           0.0           0.0          90.0   \n",
       "39998           7.0           4.0           8.0           1.0           7.0   \n",
       "39999          18.0          23.0          19.0          15.0          11.0   \n",
       "\n",
       "       party_cnt_w7  party_cnt_w8  \n",
       "39995           0.0           9.0  \n",
       "39996           0.0           0.0  \n",
       "39997         132.0          98.0  \n",
       "39998           8.0           9.0  \n",
       "39999          20.0          13.0  \n",
       "\n",
       "[5 rows x 22 columns]"
      ]
     },
     "execution_count": 185,
     "metadata": {},
     "output_type": "execute_result"
    }
   ],
   "source": [
    "party_1.tail()"
   ]
  },
  {
   "cell_type": "markdown",
   "metadata": {},
   "source": [
    "## 5. party count 7-8주와 6-8주의 전체 중 비중 변수 생성"
   ]
  },
  {
   "cell_type": "code",
   "execution_count": 186,
   "metadata": {},
   "outputs": [
    {
     "data": {
      "text/html": [
       "<div>\n",
       "<style scoped>\n",
       "    .dataframe tbody tr th:only-of-type {\n",
       "        vertical-align: middle;\n",
       "    }\n",
       "\n",
       "    .dataframe tbody tr th {\n",
       "        vertical-align: top;\n",
       "    }\n",
       "\n",
       "    .dataframe thead th {\n",
       "        text-align: right;\n",
       "    }\n",
       "</style>\n",
       "<table border=\"1\" class=\"dataframe\">\n",
       "  <thead>\n",
       "    <tr style=\"text-align: right;\">\n",
       "      <th></th>\n",
       "      <th>acc_id</th>\n",
       "      <th>first_party_start_week</th>\n",
       "      <th>mode_party_start_week</th>\n",
       "      <th>last_party_start_week</th>\n",
       "      <th>first_party_start_day</th>\n",
       "      <th>mode_party_start_day</th>\n",
       "      <th>last_party_start_day</th>\n",
       "      <th>first_party_end_week</th>\n",
       "      <th>mode_party_end_week</th>\n",
       "      <th>last_party_end_week</th>\n",
       "      <th>...</th>\n",
       "      <th>party_cnt</th>\n",
       "      <th>party_cnt_w1</th>\n",
       "      <th>party_cnt_w2</th>\n",
       "      <th>party_cnt_w3</th>\n",
       "      <th>party_cnt_w4</th>\n",
       "      <th>party_cnt_w5</th>\n",
       "      <th>party_cnt_w6</th>\n",
       "      <th>party_cnt_w7</th>\n",
       "      <th>party_cnt_w8</th>\n",
       "      <th>party_78_ratio</th>\n",
       "    </tr>\n",
       "  </thead>\n",
       "  <tbody>\n",
       "    <tr>\n",
       "      <th>39995</th>\n",
       "      <td>d048b24f5205a50916339d24fc9f7b1c69352d2ee10f1c...</td>\n",
       "      <td>8.0</td>\n",
       "      <td>8.0</td>\n",
       "      <td>8.0</td>\n",
       "      <td>5.0</td>\n",
       "      <td>6.0</td>\n",
       "      <td>7.0</td>\n",
       "      <td>8.0</td>\n",
       "      <td>8.0</td>\n",
       "      <td>8.0</td>\n",
       "      <td>...</td>\n",
       "      <td>9.0</td>\n",
       "      <td>0.0</td>\n",
       "      <td>0.0</td>\n",
       "      <td>0.0</td>\n",
       "      <td>0.0</td>\n",
       "      <td>0.0</td>\n",
       "      <td>0.0</td>\n",
       "      <td>0.0</td>\n",
       "      <td>9.0</td>\n",
       "      <td>1.000000</td>\n",
       "    </tr>\n",
       "    <tr>\n",
       "      <th>39996</th>\n",
       "      <td>ad5b3ef19e64aceb9ffea55310607ba62146218e616a83...</td>\n",
       "      <td>0.0</td>\n",
       "      <td>0.0</td>\n",
       "      <td>0.0</td>\n",
       "      <td>0.0</td>\n",
       "      <td>0.0</td>\n",
       "      <td>0.0</td>\n",
       "      <td>0.0</td>\n",
       "      <td>0.0</td>\n",
       "      <td>0.0</td>\n",
       "      <td>...</td>\n",
       "      <td>0.0</td>\n",
       "      <td>0.0</td>\n",
       "      <td>0.0</td>\n",
       "      <td>0.0</td>\n",
       "      <td>0.0</td>\n",
       "      <td>0.0</td>\n",
       "      <td>0.0</td>\n",
       "      <td>0.0</td>\n",
       "      <td>0.0</td>\n",
       "      <td>0.000000</td>\n",
       "    </tr>\n",
       "    <tr>\n",
       "      <th>39997</th>\n",
       "      <td>972114a3bb57c377d162fb66b9198a2eec40de9576af51...</td>\n",
       "      <td>2.0</td>\n",
       "      <td>7.0</td>\n",
       "      <td>8.0</td>\n",
       "      <td>1.0</td>\n",
       "      <td>4.0</td>\n",
       "      <td>7.0</td>\n",
       "      <td>2.0</td>\n",
       "      <td>7.0</td>\n",
       "      <td>8.0</td>\n",
       "      <td>...</td>\n",
       "      <td>320.0</td>\n",
       "      <td>0.0</td>\n",
       "      <td>0.0</td>\n",
       "      <td>0.0</td>\n",
       "      <td>0.0</td>\n",
       "      <td>0.0</td>\n",
       "      <td>90.0</td>\n",
       "      <td>132.0</td>\n",
       "      <td>98.0</td>\n",
       "      <td>0.718750</td>\n",
       "    </tr>\n",
       "    <tr>\n",
       "      <th>39998</th>\n",
       "      <td>3d10d680df3d5fa2e370997c18274bad7355e3d0ff9fb0...</td>\n",
       "      <td>1.0</td>\n",
       "      <td>1.0</td>\n",
       "      <td>8.0</td>\n",
       "      <td>1.0</td>\n",
       "      <td>2.0</td>\n",
       "      <td>7.0</td>\n",
       "      <td>1.0</td>\n",
       "      <td>1.0</td>\n",
       "      <td>8.0</td>\n",
       "      <td>...</td>\n",
       "      <td>52.0</td>\n",
       "      <td>8.0</td>\n",
       "      <td>7.0</td>\n",
       "      <td>4.0</td>\n",
       "      <td>8.0</td>\n",
       "      <td>1.0</td>\n",
       "      <td>7.0</td>\n",
       "      <td>8.0</td>\n",
       "      <td>9.0</td>\n",
       "      <td>0.326923</td>\n",
       "    </tr>\n",
       "    <tr>\n",
       "      <th>39999</th>\n",
       "      <td>813ad8039e2692aecc1b7875f3a9b1e951477937ec30bd...</td>\n",
       "      <td>1.0</td>\n",
       "      <td>3.0</td>\n",
       "      <td>8.0</td>\n",
       "      <td>1.0</td>\n",
       "      <td>2.0</td>\n",
       "      <td>7.0</td>\n",
       "      <td>1.0</td>\n",
       "      <td>3.0</td>\n",
       "      <td>8.0</td>\n",
       "      <td>...</td>\n",
       "      <td>131.0</td>\n",
       "      <td>12.0</td>\n",
       "      <td>18.0</td>\n",
       "      <td>23.0</td>\n",
       "      <td>19.0</td>\n",
       "      <td>15.0</td>\n",
       "      <td>11.0</td>\n",
       "      <td>20.0</td>\n",
       "      <td>13.0</td>\n",
       "      <td>0.251908</td>\n",
       "    </tr>\n",
       "  </tbody>\n",
       "</table>\n",
       "<p>5 rows × 23 columns</p>\n",
       "</div>"
      ],
      "text/plain": [
       "                                                  acc_id  \\\n",
       "39995  d048b24f5205a50916339d24fc9f7b1c69352d2ee10f1c...   \n",
       "39996  ad5b3ef19e64aceb9ffea55310607ba62146218e616a83...   \n",
       "39997  972114a3bb57c377d162fb66b9198a2eec40de9576af51...   \n",
       "39998  3d10d680df3d5fa2e370997c18274bad7355e3d0ff9fb0...   \n",
       "39999  813ad8039e2692aecc1b7875f3a9b1e951477937ec30bd...   \n",
       "\n",
       "       first_party_start_week  mode_party_start_week  last_party_start_week  \\\n",
       "39995                     8.0                    8.0                    8.0   \n",
       "39996                     0.0                    0.0                    0.0   \n",
       "39997                     2.0                    7.0                    8.0   \n",
       "39998                     1.0                    1.0                    8.0   \n",
       "39999                     1.0                    3.0                    8.0   \n",
       "\n",
       "       first_party_start_day  mode_party_start_day  last_party_start_day  \\\n",
       "39995                    5.0                   6.0                   7.0   \n",
       "39996                    0.0                   0.0                   0.0   \n",
       "39997                    1.0                   4.0                   7.0   \n",
       "39998                    1.0                   2.0                   7.0   \n",
       "39999                    1.0                   2.0                   7.0   \n",
       "\n",
       "       first_party_end_week  mode_party_end_week  last_party_end_week  \\\n",
       "39995                   8.0                  8.0                  8.0   \n",
       "39996                   0.0                  0.0                  0.0   \n",
       "39997                   2.0                  7.0                  8.0   \n",
       "39998                   1.0                  1.0                  8.0   \n",
       "39999                   1.0                  3.0                  8.0   \n",
       "\n",
       "            ...        party_cnt  party_cnt_w1  party_cnt_w2  party_cnt_w3  \\\n",
       "39995       ...              9.0           0.0           0.0           0.0   \n",
       "39996       ...              0.0           0.0           0.0           0.0   \n",
       "39997       ...            320.0           0.0           0.0           0.0   \n",
       "39998       ...             52.0           8.0           7.0           4.0   \n",
       "39999       ...            131.0          12.0          18.0          23.0   \n",
       "\n",
       "       party_cnt_w4  party_cnt_w5  party_cnt_w6  party_cnt_w7  party_cnt_w8  \\\n",
       "39995           0.0           0.0           0.0           0.0           9.0   \n",
       "39996           0.0           0.0           0.0           0.0           0.0   \n",
       "39997           0.0           0.0          90.0         132.0          98.0   \n",
       "39998           8.0           1.0           7.0           8.0           9.0   \n",
       "39999          19.0          15.0          11.0          20.0          13.0   \n",
       "\n",
       "       party_78_ratio  \n",
       "39995        1.000000  \n",
       "39996        0.000000  \n",
       "39997        0.718750  \n",
       "39998        0.326923  \n",
       "39999        0.251908  \n",
       "\n",
       "[5 rows x 23 columns]"
      ]
     },
     "execution_count": 186,
     "metadata": {},
     "output_type": "execute_result"
    }
   ],
   "source": [
    "party_1[\"party_78_ratio\"] = party_1.loc[:,\"party_cnt_w7\":\"party_cnt_w8\"].sum(axis=1) / party_1[\"party_cnt\"]\n",
    "party_1.fillna(0, inplace=True)\n",
    "party_1.tail()"
   ]
  },
  {
   "cell_type": "code",
   "execution_count": 187,
   "metadata": {},
   "outputs": [
    {
     "data": {
      "text/html": [
       "<div>\n",
       "<style scoped>\n",
       "    .dataframe tbody tr th:only-of-type {\n",
       "        vertical-align: middle;\n",
       "    }\n",
       "\n",
       "    .dataframe tbody tr th {\n",
       "        vertical-align: top;\n",
       "    }\n",
       "\n",
       "    .dataframe thead th {\n",
       "        text-align: right;\n",
       "    }\n",
       "</style>\n",
       "<table border=\"1\" class=\"dataframe\">\n",
       "  <thead>\n",
       "    <tr style=\"text-align: right;\">\n",
       "      <th></th>\n",
       "      <th>acc_id</th>\n",
       "      <th>first_party_start_week</th>\n",
       "      <th>mode_party_start_week</th>\n",
       "      <th>last_party_start_week</th>\n",
       "      <th>first_party_start_day</th>\n",
       "      <th>mode_party_start_day</th>\n",
       "      <th>last_party_start_day</th>\n",
       "      <th>first_party_end_week</th>\n",
       "      <th>mode_party_end_week</th>\n",
       "      <th>last_party_end_week</th>\n",
       "      <th>...</th>\n",
       "      <th>party_cnt_w1</th>\n",
       "      <th>party_cnt_w2</th>\n",
       "      <th>party_cnt_w3</th>\n",
       "      <th>party_cnt_w4</th>\n",
       "      <th>party_cnt_w5</th>\n",
       "      <th>party_cnt_w6</th>\n",
       "      <th>party_cnt_w7</th>\n",
       "      <th>party_cnt_w8</th>\n",
       "      <th>party_78_ratio</th>\n",
       "      <th>party_678_ratio</th>\n",
       "    </tr>\n",
       "  </thead>\n",
       "  <tbody>\n",
       "    <tr>\n",
       "      <th>39995</th>\n",
       "      <td>d048b24f5205a50916339d24fc9f7b1c69352d2ee10f1c...</td>\n",
       "      <td>8.0</td>\n",
       "      <td>8.0</td>\n",
       "      <td>8.0</td>\n",
       "      <td>5.0</td>\n",
       "      <td>6.0</td>\n",
       "      <td>7.0</td>\n",
       "      <td>8.0</td>\n",
       "      <td>8.0</td>\n",
       "      <td>8.0</td>\n",
       "      <td>...</td>\n",
       "      <td>0.0</td>\n",
       "      <td>0.0</td>\n",
       "      <td>0.0</td>\n",
       "      <td>0.0</td>\n",
       "      <td>0.0</td>\n",
       "      <td>0.0</td>\n",
       "      <td>0.0</td>\n",
       "      <td>9.0</td>\n",
       "      <td>1.000000</td>\n",
       "      <td>1.000000</td>\n",
       "    </tr>\n",
       "    <tr>\n",
       "      <th>39996</th>\n",
       "      <td>ad5b3ef19e64aceb9ffea55310607ba62146218e616a83...</td>\n",
       "      <td>0.0</td>\n",
       "      <td>0.0</td>\n",
       "      <td>0.0</td>\n",
       "      <td>0.0</td>\n",
       "      <td>0.0</td>\n",
       "      <td>0.0</td>\n",
       "      <td>0.0</td>\n",
       "      <td>0.0</td>\n",
       "      <td>0.0</td>\n",
       "      <td>...</td>\n",
       "      <td>0.0</td>\n",
       "      <td>0.0</td>\n",
       "      <td>0.0</td>\n",
       "      <td>0.0</td>\n",
       "      <td>0.0</td>\n",
       "      <td>0.0</td>\n",
       "      <td>0.0</td>\n",
       "      <td>0.0</td>\n",
       "      <td>0.000000</td>\n",
       "      <td>0.000000</td>\n",
       "    </tr>\n",
       "    <tr>\n",
       "      <th>39997</th>\n",
       "      <td>972114a3bb57c377d162fb66b9198a2eec40de9576af51...</td>\n",
       "      <td>2.0</td>\n",
       "      <td>7.0</td>\n",
       "      <td>8.0</td>\n",
       "      <td>1.0</td>\n",
       "      <td>4.0</td>\n",
       "      <td>7.0</td>\n",
       "      <td>2.0</td>\n",
       "      <td>7.0</td>\n",
       "      <td>8.0</td>\n",
       "      <td>...</td>\n",
       "      <td>0.0</td>\n",
       "      <td>0.0</td>\n",
       "      <td>0.0</td>\n",
       "      <td>0.0</td>\n",
       "      <td>0.0</td>\n",
       "      <td>90.0</td>\n",
       "      <td>132.0</td>\n",
       "      <td>98.0</td>\n",
       "      <td>0.718750</td>\n",
       "      <td>1.000000</td>\n",
       "    </tr>\n",
       "    <tr>\n",
       "      <th>39998</th>\n",
       "      <td>3d10d680df3d5fa2e370997c18274bad7355e3d0ff9fb0...</td>\n",
       "      <td>1.0</td>\n",
       "      <td>1.0</td>\n",
       "      <td>8.0</td>\n",
       "      <td>1.0</td>\n",
       "      <td>2.0</td>\n",
       "      <td>7.0</td>\n",
       "      <td>1.0</td>\n",
       "      <td>1.0</td>\n",
       "      <td>8.0</td>\n",
       "      <td>...</td>\n",
       "      <td>8.0</td>\n",
       "      <td>7.0</td>\n",
       "      <td>4.0</td>\n",
       "      <td>8.0</td>\n",
       "      <td>1.0</td>\n",
       "      <td>7.0</td>\n",
       "      <td>8.0</td>\n",
       "      <td>9.0</td>\n",
       "      <td>0.326923</td>\n",
       "      <td>0.461538</td>\n",
       "    </tr>\n",
       "    <tr>\n",
       "      <th>39999</th>\n",
       "      <td>813ad8039e2692aecc1b7875f3a9b1e951477937ec30bd...</td>\n",
       "      <td>1.0</td>\n",
       "      <td>3.0</td>\n",
       "      <td>8.0</td>\n",
       "      <td>1.0</td>\n",
       "      <td>2.0</td>\n",
       "      <td>7.0</td>\n",
       "      <td>1.0</td>\n",
       "      <td>3.0</td>\n",
       "      <td>8.0</td>\n",
       "      <td>...</td>\n",
       "      <td>12.0</td>\n",
       "      <td>18.0</td>\n",
       "      <td>23.0</td>\n",
       "      <td>19.0</td>\n",
       "      <td>15.0</td>\n",
       "      <td>11.0</td>\n",
       "      <td>20.0</td>\n",
       "      <td>13.0</td>\n",
       "      <td>0.251908</td>\n",
       "      <td>0.335878</td>\n",
       "    </tr>\n",
       "  </tbody>\n",
       "</table>\n",
       "<p>5 rows × 24 columns</p>\n",
       "</div>"
      ],
      "text/plain": [
       "                                                  acc_id  \\\n",
       "39995  d048b24f5205a50916339d24fc9f7b1c69352d2ee10f1c...   \n",
       "39996  ad5b3ef19e64aceb9ffea55310607ba62146218e616a83...   \n",
       "39997  972114a3bb57c377d162fb66b9198a2eec40de9576af51...   \n",
       "39998  3d10d680df3d5fa2e370997c18274bad7355e3d0ff9fb0...   \n",
       "39999  813ad8039e2692aecc1b7875f3a9b1e951477937ec30bd...   \n",
       "\n",
       "       first_party_start_week  mode_party_start_week  last_party_start_week  \\\n",
       "39995                     8.0                    8.0                    8.0   \n",
       "39996                     0.0                    0.0                    0.0   \n",
       "39997                     2.0                    7.0                    8.0   \n",
       "39998                     1.0                    1.0                    8.0   \n",
       "39999                     1.0                    3.0                    8.0   \n",
       "\n",
       "       first_party_start_day  mode_party_start_day  last_party_start_day  \\\n",
       "39995                    5.0                   6.0                   7.0   \n",
       "39996                    0.0                   0.0                   0.0   \n",
       "39997                    1.0                   4.0                   7.0   \n",
       "39998                    1.0                   2.0                   7.0   \n",
       "39999                    1.0                   2.0                   7.0   \n",
       "\n",
       "       first_party_end_week  mode_party_end_week  last_party_end_week  \\\n",
       "39995                   8.0                  8.0                  8.0   \n",
       "39996                   0.0                  0.0                  0.0   \n",
       "39997                   2.0                  7.0                  8.0   \n",
       "39998                   1.0                  1.0                  8.0   \n",
       "39999                   1.0                  3.0                  8.0   \n",
       "\n",
       "            ...         party_cnt_w1  party_cnt_w2  party_cnt_w3  \\\n",
       "39995       ...                  0.0           0.0           0.0   \n",
       "39996       ...                  0.0           0.0           0.0   \n",
       "39997       ...                  0.0           0.0           0.0   \n",
       "39998       ...                  8.0           7.0           4.0   \n",
       "39999       ...                 12.0          18.0          23.0   \n",
       "\n",
       "       party_cnt_w4  party_cnt_w5  party_cnt_w6  party_cnt_w7  party_cnt_w8  \\\n",
       "39995           0.0           0.0           0.0           0.0           9.0   \n",
       "39996           0.0           0.0           0.0           0.0           0.0   \n",
       "39997           0.0           0.0          90.0         132.0          98.0   \n",
       "39998           8.0           1.0           7.0           8.0           9.0   \n",
       "39999          19.0          15.0          11.0          20.0          13.0   \n",
       "\n",
       "       party_78_ratio  party_678_ratio  \n",
       "39995        1.000000         1.000000  \n",
       "39996        0.000000         0.000000  \n",
       "39997        0.718750         1.000000  \n",
       "39998        0.326923         0.461538  \n",
       "39999        0.251908         0.335878  \n",
       "\n",
       "[5 rows x 24 columns]"
      ]
     },
     "execution_count": 187,
     "metadata": {},
     "output_type": "execute_result"
    }
   ],
   "source": [
    "party_1[\"party_678_ratio\"] = party_1.loc[:,\"party_cnt_w6\":\"party_cnt_w8\"].sum(axis=1) / party_1[\"party_cnt\"]\n",
    "party_1.fillna(0, inplace=True)\n",
    "party_1.tail()"
   ]
  },
  {
   "cell_type": "markdown",
   "metadata": {},
   "source": [
    "## 6. week별 party count의 표준편차"
   ]
  },
  {
   "cell_type": "code",
   "execution_count": 188,
   "metadata": {
    "scrolled": true
   },
   "outputs": [
    {
     "data": {
      "text/html": [
       "<div>\n",
       "<style scoped>\n",
       "    .dataframe tbody tr th:only-of-type {\n",
       "        vertical-align: middle;\n",
       "    }\n",
       "\n",
       "    .dataframe tbody tr th {\n",
       "        vertical-align: top;\n",
       "    }\n",
       "\n",
       "    .dataframe thead th {\n",
       "        text-align: right;\n",
       "    }\n",
       "</style>\n",
       "<table border=\"1\" class=\"dataframe\">\n",
       "  <thead>\n",
       "    <tr style=\"text-align: right;\">\n",
       "      <th></th>\n",
       "      <th>acc_id</th>\n",
       "      <th>first_party_start_week</th>\n",
       "      <th>mode_party_start_week</th>\n",
       "      <th>last_party_start_week</th>\n",
       "      <th>first_party_start_day</th>\n",
       "      <th>mode_party_start_day</th>\n",
       "      <th>last_party_start_day</th>\n",
       "      <th>first_party_end_week</th>\n",
       "      <th>mode_party_end_week</th>\n",
       "      <th>last_party_end_week</th>\n",
       "      <th>...</th>\n",
       "      <th>party_cnt_w2</th>\n",
       "      <th>party_cnt_w3</th>\n",
       "      <th>party_cnt_w4</th>\n",
       "      <th>party_cnt_w5</th>\n",
       "      <th>party_cnt_w6</th>\n",
       "      <th>party_cnt_w7</th>\n",
       "      <th>party_cnt_w8</th>\n",
       "      <th>party_78_ratio</th>\n",
       "      <th>party_678_ratio</th>\n",
       "      <th>party_cnt_std</th>\n",
       "    </tr>\n",
       "  </thead>\n",
       "  <tbody>\n",
       "    <tr>\n",
       "      <th>39995</th>\n",
       "      <td>d048b24f5205a50916339d24fc9f7b1c69352d2ee10f1c...</td>\n",
       "      <td>8.0</td>\n",
       "      <td>8.0</td>\n",
       "      <td>8.0</td>\n",
       "      <td>5.0</td>\n",
       "      <td>6.0</td>\n",
       "      <td>7.0</td>\n",
       "      <td>8.0</td>\n",
       "      <td>8.0</td>\n",
       "      <td>8.0</td>\n",
       "      <td>...</td>\n",
       "      <td>0.0</td>\n",
       "      <td>0.0</td>\n",
       "      <td>0.0</td>\n",
       "      <td>0.0</td>\n",
       "      <td>0.0</td>\n",
       "      <td>0.0</td>\n",
       "      <td>9.0</td>\n",
       "      <td>1.000000</td>\n",
       "      <td>1.000000</td>\n",
       "      <td>3.181981</td>\n",
       "    </tr>\n",
       "    <tr>\n",
       "      <th>39996</th>\n",
       "      <td>ad5b3ef19e64aceb9ffea55310607ba62146218e616a83...</td>\n",
       "      <td>0.0</td>\n",
       "      <td>0.0</td>\n",
       "      <td>0.0</td>\n",
       "      <td>0.0</td>\n",
       "      <td>0.0</td>\n",
       "      <td>0.0</td>\n",
       "      <td>0.0</td>\n",
       "      <td>0.0</td>\n",
       "      <td>0.0</td>\n",
       "      <td>...</td>\n",
       "      <td>0.0</td>\n",
       "      <td>0.0</td>\n",
       "      <td>0.0</td>\n",
       "      <td>0.0</td>\n",
       "      <td>0.0</td>\n",
       "      <td>0.0</td>\n",
       "      <td>0.0</td>\n",
       "      <td>0.000000</td>\n",
       "      <td>0.000000</td>\n",
       "      <td>0.000000</td>\n",
       "    </tr>\n",
       "    <tr>\n",
       "      <th>39997</th>\n",
       "      <td>972114a3bb57c377d162fb66b9198a2eec40de9576af51...</td>\n",
       "      <td>2.0</td>\n",
       "      <td>7.0</td>\n",
       "      <td>8.0</td>\n",
       "      <td>1.0</td>\n",
       "      <td>4.0</td>\n",
       "      <td>7.0</td>\n",
       "      <td>2.0</td>\n",
       "      <td>7.0</td>\n",
       "      <td>8.0</td>\n",
       "      <td>...</td>\n",
       "      <td>0.0</td>\n",
       "      <td>0.0</td>\n",
       "      <td>0.0</td>\n",
       "      <td>0.0</td>\n",
       "      <td>90.0</td>\n",
       "      <td>132.0</td>\n",
       "      <td>98.0</td>\n",
       "      <td>0.718750</td>\n",
       "      <td>1.000000</td>\n",
       "      <td>56.477556</td>\n",
       "    </tr>\n",
       "    <tr>\n",
       "      <th>39998</th>\n",
       "      <td>3d10d680df3d5fa2e370997c18274bad7355e3d0ff9fb0...</td>\n",
       "      <td>1.0</td>\n",
       "      <td>1.0</td>\n",
       "      <td>8.0</td>\n",
       "      <td>1.0</td>\n",
       "      <td>2.0</td>\n",
       "      <td>7.0</td>\n",
       "      <td>1.0</td>\n",
       "      <td>1.0</td>\n",
       "      <td>8.0</td>\n",
       "      <td>...</td>\n",
       "      <td>7.0</td>\n",
       "      <td>4.0</td>\n",
       "      <td>8.0</td>\n",
       "      <td>1.0</td>\n",
       "      <td>7.0</td>\n",
       "      <td>8.0</td>\n",
       "      <td>9.0</td>\n",
       "      <td>0.326923</td>\n",
       "      <td>0.461538</td>\n",
       "      <td>2.672612</td>\n",
       "    </tr>\n",
       "    <tr>\n",
       "      <th>39999</th>\n",
       "      <td>813ad8039e2692aecc1b7875f3a9b1e951477937ec30bd...</td>\n",
       "      <td>1.0</td>\n",
       "      <td>3.0</td>\n",
       "      <td>8.0</td>\n",
       "      <td>1.0</td>\n",
       "      <td>2.0</td>\n",
       "      <td>7.0</td>\n",
       "      <td>1.0</td>\n",
       "      <td>3.0</td>\n",
       "      <td>8.0</td>\n",
       "      <td>...</td>\n",
       "      <td>18.0</td>\n",
       "      <td>23.0</td>\n",
       "      <td>19.0</td>\n",
       "      <td>15.0</td>\n",
       "      <td>11.0</td>\n",
       "      <td>20.0</td>\n",
       "      <td>13.0</td>\n",
       "      <td>0.251908</td>\n",
       "      <td>0.335878</td>\n",
       "      <td>4.274091</td>\n",
       "    </tr>\n",
       "  </tbody>\n",
       "</table>\n",
       "<p>5 rows × 25 columns</p>\n",
       "</div>"
      ],
      "text/plain": [
       "                                                  acc_id  \\\n",
       "39995  d048b24f5205a50916339d24fc9f7b1c69352d2ee10f1c...   \n",
       "39996  ad5b3ef19e64aceb9ffea55310607ba62146218e616a83...   \n",
       "39997  972114a3bb57c377d162fb66b9198a2eec40de9576af51...   \n",
       "39998  3d10d680df3d5fa2e370997c18274bad7355e3d0ff9fb0...   \n",
       "39999  813ad8039e2692aecc1b7875f3a9b1e951477937ec30bd...   \n",
       "\n",
       "       first_party_start_week  mode_party_start_week  last_party_start_week  \\\n",
       "39995                     8.0                    8.0                    8.0   \n",
       "39996                     0.0                    0.0                    0.0   \n",
       "39997                     2.0                    7.0                    8.0   \n",
       "39998                     1.0                    1.0                    8.0   \n",
       "39999                     1.0                    3.0                    8.0   \n",
       "\n",
       "       first_party_start_day  mode_party_start_day  last_party_start_day  \\\n",
       "39995                    5.0                   6.0                   7.0   \n",
       "39996                    0.0                   0.0                   0.0   \n",
       "39997                    1.0                   4.0                   7.0   \n",
       "39998                    1.0                   2.0                   7.0   \n",
       "39999                    1.0                   2.0                   7.0   \n",
       "\n",
       "       first_party_end_week  mode_party_end_week  last_party_end_week  \\\n",
       "39995                   8.0                  8.0                  8.0   \n",
       "39996                   0.0                  0.0                  0.0   \n",
       "39997                   2.0                  7.0                  8.0   \n",
       "39998                   1.0                  1.0                  8.0   \n",
       "39999                   1.0                  3.0                  8.0   \n",
       "\n",
       "           ...        party_cnt_w2  party_cnt_w3  party_cnt_w4  party_cnt_w5  \\\n",
       "39995      ...                 0.0           0.0           0.0           0.0   \n",
       "39996      ...                 0.0           0.0           0.0           0.0   \n",
       "39997      ...                 0.0           0.0           0.0           0.0   \n",
       "39998      ...                 7.0           4.0           8.0           1.0   \n",
       "39999      ...                18.0          23.0          19.0          15.0   \n",
       "\n",
       "       party_cnt_w6  party_cnt_w7  party_cnt_w8  party_78_ratio  \\\n",
       "39995           0.0           0.0           9.0        1.000000   \n",
       "39996           0.0           0.0           0.0        0.000000   \n",
       "39997          90.0         132.0          98.0        0.718750   \n",
       "39998           7.0           8.0           9.0        0.326923   \n",
       "39999          11.0          20.0          13.0        0.251908   \n",
       "\n",
       "       party_678_ratio  party_cnt_std  \n",
       "39995         1.000000       3.181981  \n",
       "39996         0.000000       0.000000  \n",
       "39997         1.000000      56.477556  \n",
       "39998         0.461538       2.672612  \n",
       "39999         0.335878       4.274091  \n",
       "\n",
       "[5 rows x 25 columns]"
      ]
     },
     "execution_count": 188,
     "metadata": {},
     "output_type": "execute_result"
    }
   ],
   "source": [
    "party_1[\"party_cnt_std\"] = party_1.loc[:,\"party_cnt_w1\":\"party_cnt_w8\"].std(axis=1)\n",
    "party_1.fillna(0, inplace=True)\n",
    "party_1.tail()"
   ]
  },
  {
   "cell_type": "markdown",
   "metadata": {},
   "source": [
    "## 7. 전체 파티 참여횟수 중 10분 이내 짧은 파티 참여의 비율 변수 생성"
   ]
  },
  {
   "cell_type": "code",
   "execution_count": 52,
   "metadata": {},
   "outputs": [],
   "source": [
    "party_1 = pd.merge(party_1, get_ratio(party, party_1[['acc_id']]), how='left')"
   ]
  },
  {
   "cell_type": "markdown",
   "metadata": {},
   "source": [
    "## 8. party network에서의 degree centrality"
   ]
  },
  {
   "cell_type": "code",
   "execution_count": 5,
   "metadata": {},
   "outputs": [],
   "source": [
    "# G = nx.read_gpickle(\"data/test_party_network.gpickle\")"
   ]
  },
  {
   "cell_type": "markdown",
   "metadata": {},
   "source": [
    "node의 수가 2명 이상짜리 파티에 참여한 unique id 수와 동일함"
   ]
  },
  {
   "cell_type": "code",
   "execution_count": 6,
   "metadata": {},
   "outputs": [
    {
     "data": {
      "text/plain": [
       "192120"
      ]
     },
     "execution_count": 6,
     "metadata": {},
     "output_type": "execute_result"
    }
   ],
   "source": [
    "# len(G.nodes())"
   ]
  },
  {
   "cell_type": "markdown",
   "metadata": {},
   "source": [
    "### 중심성 계산하기"
   ]
  },
  {
   "cell_type": "code",
   "execution_count": 7,
   "metadata": {},
   "outputs": [
    {
     "data": {
      "text/plain": [
       "dict"
      ]
     },
     "execution_count": 7,
     "metadata": {},
     "output_type": "execute_result"
    }
   ],
   "source": [
    "# degree_centrality = nx.degree_centrality(G)\n",
    "# type(degree_centrality)"
   ]
  },
  {
   "cell_type": "code",
   "execution_count": 8,
   "metadata": {},
   "outputs": [],
   "source": [
    "# centrality = pd.DataFrame(columns=[\"acc_id\",\"degree_cent\"])"
   ]
  },
  {
   "cell_type": "code",
   "execution_count": 9,
   "metadata": {},
   "outputs": [],
   "source": [
    "# centrality[\"acc_id\"] = degree_centrality.keys()"
   ]
  },
  {
   "cell_type": "code",
   "execution_count": 10,
   "metadata": {},
   "outputs": [],
   "source": [
    "# centrality[\"degree_cent\"] = degree_centrality.values()"
   ]
  },
  {
   "cell_type": "markdown",
   "metadata": {},
   "source": [
    "변수의 단위가 너무 작아 100배씩 scaling함"
   ]
  },
  {
   "cell_type": "code",
   "execution_count": 36,
   "metadata": {},
   "outputs": [],
   "source": [
    "# centrality[\"degree_cent\"] = centrality[\"degree_cent\"]*100"
   ]
  },
  {
   "cell_type": "code",
   "execution_count": 38,
   "metadata": {},
   "outputs": [],
   "source": [
    "# party_1 = pd.merge(party_1, centrality, how='left').fillna(0, inplace = True)"
   ]
  },
  {
   "cell_type": "markdown",
   "metadata": {},
   "source": [
    "## 9. 고정파티 최대 횟수 변수 생성"
   ]
  },
  {
   "cell_type": "code",
   "execution_count": 57,
   "metadata": {},
   "outputs": [
    {
     "data": {
      "text/plain": [
       "2192953"
      ]
     },
     "execution_count": 57,
     "metadata": {},
     "output_type": "execute_result"
    }
   ],
   "source": [
    "len(filtered_party)"
   ]
  },
  {
   "cell_type": "markdown",
   "metadata": {
    "colab_type": "text",
    "id": "pI7fbnTOBdRw"
   },
   "source": [
    "### 9.1 10분 이상 지속한 party에 참여한 acc_id 구하기"
   ]
  },
  {
   "cell_type": "markdown",
   "metadata": {},
   "source": [
    "#### (1) party members acc id 전체를 리스트로 만들기"
   ]
  },
  {
   "cell_type": "code",
   "execution_count": 64,
   "metadata": {},
   "outputs": [
    {
     "name": "stdout",
     "output_type": "stream",
     "text": [
      "CPU times: user 9.31 s, sys: 11.4 s, total: 20.7 s\n",
      "Wall time: 28 s\n"
     ]
    }
   ],
   "source": [
    "%%time\n",
    "party_ids = get_party_ids(party_filtered)\n",
    "len(party_ids)"
   ]
  },
  {
   "cell_type": "markdown",
   "metadata": {},
   "source": [
    "#### (2) party에 참여한 id 수"
   ]
  },
  {
   "cell_type": "code",
   "execution_count": 65,
   "metadata": {},
   "outputs": [],
   "source": [
    "party_unique_ids = list(set(party_ids))"
   ]
  },
  {
   "cell_type": "code",
   "execution_count": 66,
   "metadata": {},
   "outputs": [
    {
     "name": "stdout",
     "output_type": "stream",
     "text": [
      "party에 참여한 id 수(중복카운트): 13896820\n",
      "192124\n",
      "party에 참여한 id 수(중복 없음): 192124\n"
     ]
    }
   ],
   "source": [
    "print(\"party에 참여한 id 수(중복카운트):\", len(party_ids))\n",
    "print(len(list(set(party_ids))))\n",
    "print(\"party에 참여한 id 수(중복 없음):\", len(party_unique_ids))"
   ]
  },
  {
   "cell_type": "code",
   "execution_count": 67,
   "metadata": {},
   "outputs": [
    {
     "data": {
      "text/plain": [
       "40000"
      ]
     },
     "execution_count": 67,
     "metadata": {},
     "output_type": "execute_result"
    }
   ],
   "source": [
    "label_id = label[\"acc_id\"].tolist()\n",
    "len(label_id)"
   ]
  },
  {
   "cell_type": "markdown",
   "metadata": {},
   "source": [
    "#### (3) test data 유저 중 filtered party에 참여한 사람 수"
   ]
  },
  {
   "cell_type": "code",
   "execution_count": 68,
   "metadata": {},
   "outputs": [
    {
     "data": {
      "text/plain": [
       "20828"
      ]
     },
     "execution_count": 68,
     "metadata": {},
     "output_type": "execute_result"
    }
   ],
   "source": [
    "label_party_id = list(set(label_id) & set(party_unique_ids))\n",
    "len(label_party_id)"
   ]
  },
  {
   "cell_type": "markdown",
   "metadata": {},
   "source": [
    "### 9.2 고정파티 최대 횟수 구하기"
   ]
  },
  {
   "cell_type": "markdown",
   "metadata": {},
   "source": [
    "#### (1) get_fix_party(): 한 유저가 특정 유저와 반복해서 party에 참여한 최대 횟수"
   ]
  },
  {
   "cell_type": "code",
   "execution_count": 69,
   "metadata": {},
   "outputs": [],
   "source": [
    "# party member 전체 리스트 미리 받기\n",
    "party_id = party_filtered[\"party_members_acc_id\"].tolist()\n",
    "party_id = [x.split(',') for x in party_id]"
   ]
  },
  {
   "cell_type": "code",
   "execution_count": 70,
   "metadata": {},
   "outputs": [
    {
     "data": {
      "text/plain": [
       "{'acc_id': '7d77e300a46b2ab78ec82e6f1f2a41ed95eedb452f2691dad03512a121c958ab',\n",
       " 'fix_party_max': 3}"
      ]
     },
     "execution_count": 70,
     "metadata": {},
     "output_type": "execute_result"
    }
   ],
   "source": [
    "# 함수 체크\n",
    "get_fix_party(label_party_id[0])"
   ]
  },
  {
   "cell_type": "markdown",
   "metadata": {},
   "source": [
    "#### (2) label_party_id에 대하여 고정파티 최대 횟수 구하기"
   ]
  },
  {
   "cell_type": "code",
   "execution_count": 71,
   "metadata": {},
   "outputs": [],
   "source": [
    "fix_party = pd.DataFrame(columns=[\"acc_id\", \"fix_party_max\"])"
   ]
  },
  {
   "cell_type": "code",
   "execution_count": 72,
   "metadata": {},
   "outputs": [
    {
     "name": "stderr",
     "output_type": "stream",
     "text": [
      "100%|██████████| 20828/20828 [3:14:57<00:00,  1.78it/s]\n"
     ]
    }
   ],
   "source": [
    "for i in tqdm(range(len(label_party_id))):\n",
    "    fix_party.loc[len(fix_party)] = get_fix_party(label_party_id[i])"
   ]
  },
  {
   "cell_type": "code",
   "execution_count": null,
   "metadata": {},
   "outputs": [],
   "source": [
    "# test label과 merge하기\n",
    "party_1 = party_1.merge(fix_party, how = \"left\").fillna(0)"
   ]
  },
  {
   "cell_type": "markdown",
   "metadata": {},
   "source": [
    "## 10. 최종 party 변수 저장하기"
   ]
  },
  {
   "cell_type": "code",
   "execution_count": 55,
   "metadata": {},
   "outputs": [],
   "source": [
    "pickle.dump(party_1, open('../data/merged_test_party.pkl','wb'))"
   ]
  }
 ],
 "metadata": {
  "kernelspec": {
   "display_name": "Python 3",
   "language": "python",
   "name": "python3"
  },
  "language_info": {
   "codemirror_mode": {
    "name": "ipython",
    "version": 3
   },
   "file_extension": ".py",
   "mimetype": "text/x-python",
   "name": "python",
   "nbconvert_exporter": "python",
   "pygments_lexer": "ipython3",
   "version": "3.6.4"
  }
 },
 "nbformat": 4,
 "nbformat_minor": 2
}
