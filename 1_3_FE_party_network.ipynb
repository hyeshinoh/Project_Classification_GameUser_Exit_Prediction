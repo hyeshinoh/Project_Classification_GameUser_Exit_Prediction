{
 "cells": [
  {
   "cell_type": "markdown",
   "metadata": {},
   "source": [
    "# Party Feature engineering - network 만들기"
   ]
  },
  {
   "cell_type": "code",
   "execution_count": 2,
   "metadata": {},
   "outputs": [],
   "source": [
    "from tqdm import tqdm\n",
    "from tqdm import tqdm_notebook\n",
    "\n",
    "import warnings\n",
    "warnings.simplefilter('ignore')\n",
    "\n",
    "import pickle\n",
    "from scipy import sparse"
   ]
  },
  {
   "cell_type": "code",
   "execution_count": 3,
   "metadata": {},
   "outputs": [],
   "source": [
    "import networkx as nx\n",
    "import matplotlib.pyplot as plt\n",
    "%matplotlib inline"
   ]
  },
  {
   "cell_type": "markdown",
   "metadata": {},
   "source": [
    "# Train"
   ]
  },
  {
   "cell_type": "markdown",
   "metadata": {},
   "source": [
    "## 1. 데이터 불러오기"
   ]
  },
  {
   "cell_type": "code",
   "execution_count": 3,
   "metadata": {},
   "outputs": [],
   "source": [
    "label = pd.read_csv(\"~/documents/chaser_data/train_label.csv\")"
   ]
  },
  {
   "cell_type": "code",
   "execution_count": 4,
   "metadata": {},
   "outputs": [
    {
     "name": "stdout",
     "output_type": "stream",
     "text": [
      "CPU times: user 17.6 s, sys: 2.83 s, total: 20.4 s\n",
      "Wall time: 26.6 s\n"
     ]
    }
   ],
   "source": [
    "%%time\n",
    "party_filtered = pd.read_csv(\"~/documents/chaser_data/train_party_filtered.csv\", memory_map=True)"
   ]
  },
  {
   "cell_type": "code",
   "execution_count": 5,
   "metadata": {},
   "outputs": [
    {
     "data": {
      "text/plain": [
       "3355480"
      ]
     },
     "execution_count": 5,
     "metadata": {},
     "output_type": "execute_result"
    }
   ],
   "source": [
    "len(party_filtered)"
   ]
  },
  {
   "cell_type": "markdown",
   "metadata": {
    "colab_type": "text",
    "id": "pI7fbnTOBdRw"
   },
   "source": [
    "## 2. party에 참여한 acc_id 구하기"
   ]
  },
  {
   "cell_type": "markdown",
   "metadata": {},
   "source": [
    "### 2.1 party members acc id 전체를 리스트로 만들기"
   ]
  },
  {
   "cell_type": "markdown",
   "metadata": {},
   "source": [
    "#### (1) get_party_ids 함수\n",
    "- party members acc id 전체가 들어간 리스트를 뽑아내는 함수"
   ]
  },
  {
   "cell_type": "code",
   "execution_count": 7,
   "metadata": {},
   "outputs": [],
   "source": [
    "def get_party_ids(df):\n",
    "    party_id = df[\"party_members_acc_id\"].tolist()\n",
    "    party_id = [x.split(',') for x in party_id]\n",
    "    party_id = [item for sublist in party_id for item in sublist]\n",
    "    return party_id"
   ]
  },
  {
   "cell_type": "code",
   "execution_count": 8,
   "metadata": {},
   "outputs": [
    {
     "name": "stdout",
     "output_type": "stream",
     "text": [
      "CPU times: user 9.95 s, sys: 954 ms, total: 10.9 s\n",
      "Wall time: 10.9 s\n"
     ]
    }
   ],
   "source": [
    "%%time\n",
    "party_ids = get_party_ids(party_filtered)"
   ]
  },
  {
   "cell_type": "markdown",
   "metadata": {},
   "source": [
    "#### (2) party에 참여한 id 수"
   ]
  },
  {
   "cell_type": "code",
   "execution_count": 9,
   "metadata": {},
   "outputs": [],
   "source": [
    "party_unique_ids = list(set(party_ids))\n",
    "pickle.dump(party_unique_ids, open(\"party_unique_ids.pkl\", \"wb\"))"
   ]
  },
  {
   "cell_type": "code",
   "execution_count": 10,
   "metadata": {},
   "outputs": [
    {
     "name": "stdout",
     "output_type": "stream",
     "text": [
      "party에 참여한 id 수(중복카운트): 20781407\n",
      "223621\n",
      "party에 참여한 id 수(중복 없음): 223621\n"
     ]
    }
   ],
   "source": [
    "party_unique_ids = pickle.load(open(\"data/party_unique_ids.pkl\", \"rb\"))\n",
    "print(\"party에 참여한 id 수(중복카운트):\", len(party_ids))\n",
    "print(len(list(set(party_ids))))\n",
    "print(\"party에 참여한 id 수(중복 없음):\", len(party_unique_ids))"
   ]
  },
  {
   "cell_type": "markdown",
   "metadata": {},
   "source": [
    "## 3. acc_id가 다른 id와 함께 파티한 횟수 구하기"
   ]
  },
  {
   "cell_type": "markdown",
   "metadata": {},
   "source": [
    "### 3.1 함수 만들기"
   ]
  },
  {
   "cell_type": "markdown",
   "metadata": {},
   "source": [
    "#### (1) get_party_relation(): 한 id의 party 관계 리스트로 구하기\n",
    "- 한 유저(a)가 다른 유저(b)와 파티를 몇 회(n) 함께 했는지 (a, b, n)의 리스트를 받는 함수 작성"
   ]
  },
  {
   "cell_type": "code",
   "execution_count": 2,
   "metadata": {},
   "outputs": [],
   "source": [
    "def get_party_relation(base_id):\n",
    "    '''\n",
    "    input: base_id (network를 구하고 싶은 기준 아이디)\n",
    "    output: relations list((기준id, 함께한id, 함께한 횟수)의 리스트 형태)\n",
    "    '''\n",
    "    # 기준 id가 참여한 party member 리스트 뽑기 (party_id는 이중리스트 형태)\n",
    "    with_members = list(filter(lambda a: base_id in a, party_id))\n",
    "    \n",
    "    # 이중 리스트인 with_members를 flat list로 풀어주기\n",
    "    with_members = [item for sublist in with_members for item in sublist]\n",
    "    \n",
    "    # 기준id 리스트에서 빼기\n",
    "    with_members = list(filter(lambda a: a != base_id, with_members))\n",
    "    \n",
    "    # 함께한 횟수 df로 구하기\n",
    "    df_party_id = pd.DataFrame(with_members, columns=[\"acc_id\"])\n",
    "    df_party_id = df_party_id.groupby('acc_id').size().reset_index(name='party_cnt')\n",
    "    \n",
    "    # relation a, b, w로 받기\n",
    "    a = [base_id] * len(df_party_id)\n",
    "    b = df_party_id[\"acc_id\"].tolist()\n",
    "    w = df_party_id[\"party_cnt\"].tolist()\n",
    "    \n",
    "    # a, b, w의 list 받기\n",
    "    relations = list(zip(a, b, w))\n",
    "    return relations"
   ]
  },
  {
   "cell_type": "markdown",
   "metadata": {},
   "source": [
    "#### (2) 1만개씩 relation 리스트 만들어 저장하기"
   ]
  },
  {
   "cell_type": "markdown",
   "metadata": {},
   "source": [
    "- 컴퓨터 리소스를 고려, network relation 리스트를 1만개씩 받도록 함"
   ]
  },
  {
   "cell_type": "code",
   "execution_count": 13,
   "metadata": {},
   "outputs": [],
   "source": [
    "def relation(num):\n",
    "    relations = []\n",
    "    \n",
    "    for i in tqdm(range(10000*num, 10000*(num+1))):\n",
    "        relations.append(get_party_relation(party_unique_ids[i]))\n",
    "        \n",
    "    pickle.dump(relations, open(\"data/party_relations_{}.pkl\".format(num), \"wb\"))"
   ]
  },
  {
   "cell_type": "markdown",
   "metadata": {},
   "source": [
    "#### (3) get_network(): relations로 네트워크 만들기\n",
    "- networkx 패키지 이용해서 relation으로부터 네트워크 그래프 만들기"
   ]
  },
  {
   "cell_type": "code",
   "execution_count": 10,
   "metadata": {},
   "outputs": [],
   "source": [
    "def get_network(ls):\n",
    "    for i in range(len(ls)):\n",
    "        G.add_edge(ls[i][0], ls[i][1], weight = ls[i][2])"
   ]
  },
  {
   "cell_type": "markdown",
   "metadata": {},
   "source": [
    "### 3.2 네트워크 그래프 만들기"
   ]
  },
  {
   "cell_type": "markdown",
   "metadata": {},
   "source": [
    "#### (1) relation list 만들어서 저장하기"
   ]
  },
  {
   "cell_type": "code",
   "execution_count": 14,
   "metadata": {},
   "outputs": [],
   "source": [
    "# party member 전체 리스트 미리 받기\n",
    "party_id = party_filtered[\"party_members_acc_id\"].tolist()\n",
    "party_id = [x.split(',') for x in party_id]"
   ]
  },
  {
   "cell_type": "code",
   "execution_count": 14,
   "metadata": {},
   "outputs": [
    {
     "name": "stderr",
     "output_type": "stream",
     "text": [
      "100%|██████████| 10000/10000 [3:20:40<00:00,  1.20s/it]\n",
      "100%|██████████| 10000/10000 [2:09:02<00:00,  1.29it/s]\n",
      "100%|██████████| 10000/10000 [3:08:01<00:00,  1.13s/it]\n",
      "100%|██████████| 10000/10000 [2:01:35<00:00,  1.37it/s]\n",
      "100%|██████████| 10000/10000 [2:00:49<00:00,  1.38it/s]\n"
     ]
    }
   ],
   "source": [
    "for idx in range(5):\n",
    "    relation(idx)"
   ]
  },
  {
   "cell_type": "code",
   "execution_count": 14,
   "metadata": {},
   "outputs": [
    {
     "name": "stderr",
     "output_type": "stream",
     "text": [
      "100%|██████████| 10000/10000 [3:20:40<00:00,  1.20s/it]\n",
      "100%|██████████| 10000/10000 [2:09:02<00:00,  1.29it/s]\n",
      "100%|██████████| 10000/10000 [3:08:01<00:00,  1.13s/it]\n",
      "100%|██████████| 10000/10000 [2:01:35<00:00,  1.37it/s]\n",
      "100%|██████████| 10000/10000 [2:00:49<00:00,  1.38it/s]\n"
     ]
    }
   ],
   "source": [
    "for idx in range(5,10):\n",
    "    relation(idx)"
   ]
  },
  {
   "cell_type": "code",
   "execution_count": 16,
   "metadata": {},
   "outputs": [
    {
     "name": "stderr",
     "output_type": "stream",
     "text": [
      "100%|██████████| 10000/10000 [4:00:15<00:00,  1.44s/it]\n",
      "100%|██████████| 10000/10000 [9:16:37<00:00,  3.34s/it]\n",
      "100%|██████████| 10000/10000 [4:06:22<00:00,  1.48s/it]\n",
      "100%|██████████| 10000/10000 [4:00:59<00:00,  1.45s/it]\n",
      "100%|██████████| 10000/10000 [3:12:46<00:00,  1.16s/it]\n"
     ]
    }
   ],
   "source": [
    "for idx in range(10,15):\n",
    "    relation(idx)"
   ]
  },
  {
   "cell_type": "code",
   "execution_count": 14,
   "metadata": {},
   "outputs": [
    {
     "name": "stderr",
     "output_type": "stream",
     "text": [
      "100%|██████████| 10000/10000 [3:20:40<00:00,  1.20s/it]\n",
      "100%|██████████| 10000/10000 [2:09:02<00:00,  1.29it/s]\n",
      "100%|██████████| 10000/10000 [3:08:01<00:00,  1.13s/it]\n",
      "100%|██████████| 10000/10000 [2:01:35<00:00,  1.37it/s]\n",
      "100%|██████████| 10000/10000 [2:00:49<00:00,  1.38it/s]\n"
     ]
    }
   ],
   "source": [
    "for idx in range(15,20):\n",
    "    relation(idx)"
   ]
  },
  {
   "cell_type": "code",
   "execution_count": 15,
   "metadata": {},
   "outputs": [
    {
     "name": "stderr",
     "output_type": "stream",
     "text": [
      "100%|██████████| 10000/10000 [2:17:32<00:00,  1.21it/s]\n"
     ]
    }
   ],
   "source": [
    "relation(20)"
   ]
  },
  {
   "cell_type": "code",
   "execution_count": 15,
   "metadata": {},
   "outputs": [
    {
     "name": "stderr",
     "output_type": "stream",
     "text": [
      "100%|██████████| 10000/10000 [2:20:23<00:00,  1.19it/s]\n"
     ]
    }
   ],
   "source": [
    "relation(21)"
   ]
  },
  {
   "cell_type": "code",
   "execution_count": 16,
   "metadata": {},
   "outputs": [
    {
     "name": "stderr",
     "output_type": "stream",
     "text": [
      "100%|██████████| 3621/3621 [1:29:02<00:00,  1.48s/it]\n"
     ]
    }
   ],
   "source": [
    "relations = []\n",
    "\n",
    "for i in tqdm(range(220000, len(party_unique_ids))):\n",
    "    relations.append(get_party_relation(party_unique_ids[i]))\n",
    "\n",
    "pickle.dump(relations, open(\"party_relations_22.pkl\", \"wb\"))"
   ]
  },
  {
   "cell_type": "markdown",
   "metadata": {},
   "source": [
    "#### (2) relation list 불러와서 network graph 만들기"
   ]
  },
  {
   "cell_type": "code",
   "execution_count": 19,
   "metadata": {},
   "outputs": [],
   "source": [
    "def network(num):\n",
    "    party_relations = pickle.load(open(\"data/party_relations_{}.pkl\".format(num), \"rb\"))\n",
    "    print(\"length of party_relations_{}:\".format(num), len(party_relations))\n",
    "    for relation in tqdm(party_relations):\n",
    "        get_network(relation)"
   ]
  },
  {
   "cell_type": "code",
   "execution_count": 5,
   "metadata": {},
   "outputs": [],
   "source": [
    "G = nx.Graph()"
   ]
  },
  {
   "cell_type": "code",
   "execution_count": 6,
   "metadata": {},
   "outputs": [
    {
     "name": "stderr",
     "output_type": "stream",
     "text": [
      "  3%|▎         | 297/10000 [00:00<00:03, 2884.00it/s]"
     ]
    },
    {
     "name": "stdout",
     "output_type": "stream",
     "text": [
      "length of party_relations_0: 10000\n"
     ]
    },
    {
     "name": "stderr",
     "output_type": "stream",
     "text": [
      "100%|██████████| 10000/10000 [00:05<00:00, 1960.13it/s]\n",
      "  2%|▏         | 187/10000 [00:00<00:05, 1852.99it/s]"
     ]
    },
    {
     "name": "stdout",
     "output_type": "stream",
     "text": [
      "length of party_relations_1: 10000\n"
     ]
    },
    {
     "name": "stderr",
     "output_type": "stream",
     "text": [
      "100%|██████████| 10000/10000 [00:05<00:00, 1899.05it/s]\n",
      "  2%|▏         | 212/10000 [00:00<00:04, 2062.84it/s]"
     ]
    },
    {
     "name": "stdout",
     "output_type": "stream",
     "text": [
      "length of party_relations_2: 10000\n"
     ]
    },
    {
     "name": "stderr",
     "output_type": "stream",
     "text": [
      "100%|██████████| 10000/10000 [00:05<00:00, 1899.85it/s]\n",
      "  5%|▍         | 465/10000 [00:00<00:04, 2318.13it/s]"
     ]
    },
    {
     "name": "stdout",
     "output_type": "stream",
     "text": [
      "length of party_relations_3: 10000\n"
     ]
    },
    {
     "name": "stderr",
     "output_type": "stream",
     "text": [
      "100%|██████████| 10000/10000 [00:05<00:00, 1981.69it/s]\n",
      "  2%|▏         | 180/10000 [00:00<00:05, 1757.64it/s]"
     ]
    },
    {
     "name": "stdout",
     "output_type": "stream",
     "text": [
      "length of party_relations_4: 10000\n"
     ]
    },
    {
     "name": "stderr",
     "output_type": "stream",
     "text": [
      "100%|██████████| 10000/10000 [00:05<00:00, 1969.59it/s]\n"
     ]
    }
   ],
   "source": [
    "for num in range(5):\n",
    "    network(num)"
   ]
  },
  {
   "cell_type": "code",
   "execution_count": 7,
   "metadata": {},
   "outputs": [
    {
     "name": "stderr",
     "output_type": "stream",
     "text": [
      "  2%|▏         | 170/10000 [00:00<00:06, 1612.83it/s]"
     ]
    },
    {
     "name": "stdout",
     "output_type": "stream",
     "text": [
      "length of party_relations_5: 10000\n"
     ]
    },
    {
     "name": "stderr",
     "output_type": "stream",
     "text": [
      "100%|██████████| 10000/10000 [00:05<00:00, 1863.16it/s]\n",
      "  1%|          | 123/10000 [00:00<00:09, 1095.13it/s]"
     ]
    },
    {
     "name": "stdout",
     "output_type": "stream",
     "text": [
      "length of party_relations_6: 10000\n"
     ]
    },
    {
     "name": "stderr",
     "output_type": "stream",
     "text": [
      "100%|██████████| 10000/10000 [00:06<00:00, 1527.70it/s]\n",
      "  1%|▏         | 149/10000 [00:00<00:06, 1473.44it/s]"
     ]
    },
    {
     "name": "stdout",
     "output_type": "stream",
     "text": [
      "length of party_relations_7: 10000\n"
     ]
    },
    {
     "name": "stderr",
     "output_type": "stream",
     "text": [
      "100%|██████████| 10000/10000 [00:05<00:00, 1807.12it/s]\n",
      "  2%|▏         | 150/10000 [00:00<00:06, 1467.62it/s]"
     ]
    },
    {
     "name": "stdout",
     "output_type": "stream",
     "text": [
      "length of party_relations_8: 10000\n"
     ]
    },
    {
     "name": "stderr",
     "output_type": "stream",
     "text": [
      "100%|██████████| 10000/10000 [00:05<00:00, 1769.65it/s]\n",
      "  2%|▏         | 169/10000 [00:00<00:06, 1631.06it/s]"
     ]
    },
    {
     "name": "stdout",
     "output_type": "stream",
     "text": [
      "length of party_relations_9: 10000\n"
     ]
    },
    {
     "name": "stderr",
     "output_type": "stream",
     "text": [
      "100%|██████████| 10000/10000 [00:05<00:00, 1751.24it/s]\n"
     ]
    }
   ],
   "source": [
    "for num in range(5,10):\n",
    "    network(num)"
   ]
  },
  {
   "cell_type": "code",
   "execution_count": 8,
   "metadata": {},
   "outputs": [
    {
     "name": "stderr",
     "output_type": "stream",
     "text": [
      "  1%|▏         | 149/10000 [00:00<00:06, 1430.88it/s]"
     ]
    },
    {
     "name": "stdout",
     "output_type": "stream",
     "text": [
      "length of party_relations_10: 10000\n"
     ]
    },
    {
     "name": "stderr",
     "output_type": "stream",
     "text": [
      "100%|██████████| 10000/10000 [00:05<00:00, 1757.18it/s]\n",
      "  4%|▎         | 367/10000 [00:00<00:05, 1834.51it/s]"
     ]
    },
    {
     "name": "stdout",
     "output_type": "stream",
     "text": [
      "length of party_relations_11: 10000\n"
     ]
    },
    {
     "name": "stderr",
     "output_type": "stream",
     "text": [
      "100%|██████████| 10000/10000 [00:05<00:00, 1698.50it/s]\n",
      "  4%|▎         | 361/10000 [00:00<00:05, 1799.38it/s]"
     ]
    },
    {
     "name": "stdout",
     "output_type": "stream",
     "text": [
      "length of party_relations_12: 10000\n"
     ]
    },
    {
     "name": "stderr",
     "output_type": "stream",
     "text": [
      "100%|██████████| 10000/10000 [00:05<00:00, 1701.80it/s]\n",
      "  3%|▎         | 309/10000 [00:00<00:06, 1533.15it/s]"
     ]
    },
    {
     "name": "stdout",
     "output_type": "stream",
     "text": [
      "length of party_relations_13: 10000\n"
     ]
    },
    {
     "name": "stderr",
     "output_type": "stream",
     "text": [
      "100%|██████████| 10000/10000 [00:06<00:00, 1606.14it/s]\n",
      "  2%|▏         | 169/10000 [00:00<00:06, 1621.43it/s]"
     ]
    },
    {
     "name": "stdout",
     "output_type": "stream",
     "text": [
      "length of party_relations_14: 10000\n"
     ]
    },
    {
     "name": "stderr",
     "output_type": "stream",
     "text": [
      "100%|██████████| 10000/10000 [00:06<00:00, 1624.07it/s]\n"
     ]
    }
   ],
   "source": [
    "for num in range(10,15):\n",
    "    network(num)"
   ]
  },
  {
   "cell_type": "code",
   "execution_count": 9,
   "metadata": {},
   "outputs": [
    {
     "name": "stderr",
     "output_type": "stream",
     "text": [
      "  3%|▎         | 298/10000 [00:00<00:06, 1477.26it/s]"
     ]
    },
    {
     "name": "stdout",
     "output_type": "stream",
     "text": [
      "length of party_relations_15: 10000\n"
     ]
    },
    {
     "name": "stderr",
     "output_type": "stream",
     "text": [
      "100%|██████████| 10000/10000 [00:06<00:00, 1594.68it/s]\n",
      "  1%|          | 118/10000 [00:00<00:08, 1136.62it/s]"
     ]
    },
    {
     "name": "stdout",
     "output_type": "stream",
     "text": [
      "length of party_relations_16: 10000\n"
     ]
    },
    {
     "name": "stderr",
     "output_type": "stream",
     "text": [
      "100%|██████████| 10000/10000 [00:06<00:00, 1562.89it/s]\n",
      "  3%|▎         | 252/10000 [00:00<00:07, 1257.97it/s]"
     ]
    },
    {
     "name": "stdout",
     "output_type": "stream",
     "text": [
      "length of party_relations_17: 10000\n"
     ]
    },
    {
     "name": "stderr",
     "output_type": "stream",
     "text": [
      "100%|██████████| 10000/10000 [00:06<00:00, 1445.63it/s]\n",
      "  1%|          | 93/10000 [00:00<00:10, 909.32it/s]"
     ]
    },
    {
     "name": "stdout",
     "output_type": "stream",
     "text": [
      "length of party_relations_18: 10000\n"
     ]
    },
    {
     "name": "stderr",
     "output_type": "stream",
     "text": [
      "100%|██████████| 10000/10000 [00:06<00:00, 1452.65it/s]\n",
      "  1%|▏         | 138/10000 [00:00<00:07, 1334.20it/s]"
     ]
    },
    {
     "name": "stdout",
     "output_type": "stream",
     "text": [
      "length of party_relations_19: 10000\n"
     ]
    },
    {
     "name": "stderr",
     "output_type": "stream",
     "text": [
      "100%|██████████| 10000/10000 [00:06<00:00, 1521.39it/s]\n"
     ]
    }
   ],
   "source": [
    "for num in range(15,20):\n",
    "    network(num)"
   ]
  },
  {
   "cell_type": "code",
   "execution_count": 10,
   "metadata": {},
   "outputs": [
    {
     "name": "stderr",
     "output_type": "stream",
     "text": [
      "  1%|          | 90/10000 [00:00<00:11, 845.70it/s]"
     ]
    },
    {
     "name": "stdout",
     "output_type": "stream",
     "text": [
      "length of party_relations_20: 10000\n"
     ]
    },
    {
     "name": "stderr",
     "output_type": "stream",
     "text": [
      "100%|██████████| 10000/10000 [00:06<00:00, 1473.86it/s]\n",
      "  3%|▎         | 326/10000 [00:00<00:05, 1627.61it/s]"
     ]
    },
    {
     "name": "stdout",
     "output_type": "stream",
     "text": [
      "length of party_relations_21: 10000\n"
     ]
    },
    {
     "name": "stderr",
     "output_type": "stream",
     "text": [
      "100%|██████████| 10000/10000 [00:06<00:00, 1474.10it/s]\n",
      "  8%|▊         | 280/3621 [00:00<00:02, 1393.59it/s]"
     ]
    },
    {
     "name": "stdout",
     "output_type": "stream",
     "text": [
      "length of party_relations_22: 3621\n"
     ]
    },
    {
     "name": "stderr",
     "output_type": "stream",
     "text": [
      "100%|██████████| 3621/3621 [00:02<00:00, 1439.14it/s]\n"
     ]
    }
   ],
   "source": [
    "for num in range(20,23):\n",
    "    network(num)"
   ]
  },
  {
   "cell_type": "markdown",
   "metadata": {},
   "source": [
    "- 네트워크 구성 결과 node의 수가 2명 이상짜리 파티에 참여한 unique id 수와 동일함"
   ]
  },
  {
   "cell_type": "code",
   "execution_count": 11,
   "metadata": {},
   "outputs": [
    {
     "data": {
      "text/plain": [
       "223613"
      ]
     },
     "execution_count": 11,
     "metadata": {},
     "output_type": "execute_result"
    }
   ],
   "source": [
    "len(G.nodes())"
   ]
  },
  {
   "cell_type": "code",
   "execution_count": 15,
   "metadata": {},
   "outputs": [],
   "source": [
    "# network pickle 파일로 저장하기\n",
    "nx.write_gpickle(G, \"data/train_party_network.gpickle\")\n",
    "G = nx.read_gpickle(\"data/train_party_network.gpickle\")"
   ]
  },
  {
   "cell_type": "code",
   "execution_count": 12,
   "metadata": {},
   "outputs": [],
   "source": [
    "# network를 sparse matrix로 저장하고 file로 export\n",
    "S = nx.to_scipy_sparse_matrix(G, nodelist=G.nodes())\n",
    "sparse.save_npz(\"data/party_network_train.npz\", S)"
   ]
  },
  {
   "cell_type": "code",
   "execution_count": 14,
   "metadata": {},
   "outputs": [
    {
     "data": {
      "text/plain": [
       "<223613x223613 sparse matrix of type '<class 'numpy.int64'>'\n",
       "\twith 38735942 stored elements in Compressed Sparse Row format>"
      ]
     },
     "execution_count": 14,
     "metadata": {},
     "output_type": "execute_result"
    }
   ],
   "source": [
    "# sparse matrix 불러오기\n",
    "sparse.load_npz(\"data/party_network_train.npz\")"
   ]
  },
  {
   "cell_type": "markdown",
   "metadata": {},
   "source": [
    "----"
   ]
  },
  {
   "cell_type": "markdown",
   "metadata": {},
   "source": [
    "# Test"
   ]
  },
  {
   "cell_type": "markdown",
   "metadata": {},
   "source": [
    "## 1. 데이터 불러오기\n",
    "- 메모리 관계상 party_id와 party_unique_ids 리스트를 train과 같은 방법으로 따로 만들어 pickle 파일로 불러옴"
   ]
  },
  {
   "cell_type": "markdown",
   "metadata": {
    "colab_type": "text",
    "id": "pI7fbnTOBdRw"
   },
   "source": [
    "## 2. party에 참여한 acc_id 불러오기"
   ]
  },
  {
   "cell_type": "code",
   "execution_count": 4,
   "metadata": {},
   "outputs": [],
   "source": [
    "party_id = pickle.load(open(\"data/party_id_test.pkl\", \"rb\"))"
   ]
  },
  {
   "cell_type": "code",
   "execution_count": 5,
   "metadata": {},
   "outputs": [
    {
     "name": "stdout",
     "output_type": "stream",
     "text": [
      "party에 참여한 id 수(중복카운트): 2192953\n",
      "party에 참여한 id 수(중복 없음): 192124\n"
     ]
    }
   ],
   "source": [
    "party_unique_ids = pickle.load(open(\"data/party_unique_ids_test.pkl\", \"rb\"))\n",
    "print(\"party에 참여한 id 수(중복카운트):\", len(party_id))\n",
    "print(\"party에 참여한 id 수(중복 없음):\", len(party_unique_ids))"
   ]
  },
  {
   "cell_type": "markdown",
   "metadata": {},
   "source": [
    "## 3. acc_id가 다른 id와 함께 파티한 횟수 구하기"
   ]
  },
  {
   "cell_type": "markdown",
   "metadata": {},
   "source": [
    "### 3.1 함수 만들기"
   ]
  },
  {
   "cell_type": "markdown",
   "metadata": {},
   "source": [
    "#### (1) 10000개씩 리스트 만들어 저장하는 함수 수정"
   ]
  },
  {
   "cell_type": "code",
   "execution_count": 6,
   "metadata": {},
   "outputs": [],
   "source": [
    "def relation(num):\n",
    "    relations = []\n",
    "    \n",
    "    for i in tqdm(range(10000*num, 10000*(num+1))):\n",
    "        relations.append(get_party_relation(party_unique_ids[i]))\n",
    "        \n",
    "    pickle.dump(relations, open(\"data/party_relations_test_{}.pkl\".format(num), \"wb\"))"
   ]
  },
  {
   "cell_type": "markdown",
   "metadata": {},
   "source": [
    "### 3.2 네트워크 그래프 만들기"
   ]
  },
  {
   "cell_type": "markdown",
   "metadata": {},
   "source": [
    "#### (1) relation list 만들어서 저장하기"
   ]
  },
  {
   "cell_type": "code",
   "execution_count": 14,
   "metadata": {},
   "outputs": [
    {
     "name": "stderr",
     "output_type": "stream",
     "text": [
      "100%|██████████| 10000/10000 [3:20:40<00:00,  1.20s/it]\n",
      "100%|██████████| 10000/10000 [2:09:02<00:00,  1.29it/s]\n",
      "100%|██████████| 10000/10000 [3:08:01<00:00,  1.13s/it]\n",
      "100%|██████████| 10000/10000 [2:01:35<00:00,  1.37it/s]\n",
      "100%|██████████| 10000/10000 [2:00:49<00:00,  1.38it/s]\n"
     ]
    }
   ],
   "source": [
    "for idx in range(5):\n",
    "    relation(idx)"
   ]
  },
  {
   "cell_type": "code",
   "execution_count": 14,
   "metadata": {},
   "outputs": [
    {
     "name": "stderr",
     "output_type": "stream",
     "text": [
      "100%|██████████| 10000/10000 [3:20:40<00:00,  1.20s/it]\n",
      "100%|██████████| 10000/10000 [2:09:02<00:00,  1.29it/s]\n",
      "100%|██████████| 10000/10000 [3:08:01<00:00,  1.13s/it]\n",
      "100%|██████████| 10000/10000 [2:01:35<00:00,  1.37it/s]\n",
      "100%|██████████| 10000/10000 [2:00:49<00:00,  1.38it/s]\n"
     ]
    }
   ],
   "source": [
    "for idx in range(5,10):\n",
    "    relation(idx)"
   ]
  },
  {
   "cell_type": "code",
   "execution_count": 16,
   "metadata": {},
   "outputs": [
    {
     "name": "stderr",
     "output_type": "stream",
     "text": [
      "100%|██████████| 10000/10000 [4:00:15<00:00,  1.44s/it]\n",
      "100%|██████████| 10000/10000 [9:16:37<00:00,  3.34s/it]\n",
      "100%|██████████| 10000/10000 [4:06:22<00:00,  1.48s/it]\n",
      "100%|██████████| 10000/10000 [4:00:59<00:00,  1.45s/it]\n",
      "100%|██████████| 10000/10000 [3:12:46<00:00,  1.16s/it]\n"
     ]
    }
   ],
   "source": [
    "for idx in range(10,15):\n",
    "    relation(idx)"
   ]
  },
  {
   "cell_type": "code",
   "execution_count": 6,
   "metadata": {},
   "outputs": [
    {
     "name": "stderr",
     "output_type": "stream",
     "text": [
      "100%|██████████| 10000/10000 [1:29:39<00:00,  1.86it/s]\n"
     ]
    }
   ],
   "source": [
    "relation(15)"
   ]
  },
  {
   "cell_type": "code",
   "execution_count": 6,
   "metadata": {},
   "outputs": [
    {
     "name": "stderr",
     "output_type": "stream",
     "text": [
      "100%|██████████| 10000/10000 [1:29:39<00:00,  1.86it/s]\n"
     ]
    }
   ],
   "source": [
    "relation(16)"
   ]
  },
  {
   "cell_type": "code",
   "execution_count": 6,
   "metadata": {},
   "outputs": [
    {
     "name": "stderr",
     "output_type": "stream",
     "text": [
      "100%|██████████| 10000/10000 [1:29:39<00:00,  1.86it/s]\n"
     ]
    }
   ],
   "source": [
    "relation(17)"
   ]
  },
  {
   "cell_type": "code",
   "execution_count": 6,
   "metadata": {},
   "outputs": [
    {
     "name": "stderr",
     "output_type": "stream",
     "text": [
      "100%|██████████| 10000/10000 [1:29:39<00:00,  1.86it/s]\n"
     ]
    }
   ],
   "source": [
    "relation(18)"
   ]
  },
  {
   "cell_type": "code",
   "execution_count": 15,
   "metadata": {},
   "outputs": [
    {
     "name": "stderr",
     "output_type": "stream",
     "text": [
      "100%|██████████| 2124/2124 [28:30<00:00,  1.24it/s]\n"
     ]
    }
   ],
   "source": [
    "relations = []\n",
    "\n",
    "for i in tqdm(range(190000, len(party_unique_ids))):\n",
    "    relations.append(get_party_relation(party_unique_ids[i]))\n",
    "\n",
    "pickle.dump(relations, open(\"party_relations_test_19.pkl\", \"wb\"))"
   ]
  },
  {
   "cell_type": "markdown",
   "metadata": {},
   "source": [
    "#### (2) relation list 불러와서 network graph 만들기"
   ]
  },
  {
   "cell_type": "code",
   "execution_count": 7,
   "metadata": {},
   "outputs": [],
   "source": [
    "def network(num):\n",
    "    party_relations = pickle.load(open(\"data/party_relations_test_{}.pkl\".format(num), \"rb\"))\n",
    "    print(\"length of party_relations_{}:\".format(num), len(party_relations))\n",
    "    for relation in tqdm(party_relations):\n",
    "        get_network(relation)"
   ]
  },
  {
   "cell_type": "code",
   "execution_count": 8,
   "metadata": {},
   "outputs": [],
   "source": [
    "G = nx.Graph()"
   ]
  },
  {
   "cell_type": "code",
   "execution_count": 11,
   "metadata": {},
   "outputs": [
    {
     "name": "stderr",
     "output_type": "stream",
     "text": [
      "  2%|▏         | 246/10000 [00:00<00:03, 2457.96it/s]"
     ]
    },
    {
     "name": "stdout",
     "output_type": "stream",
     "text": [
      "length of party_relations_0: 10000\n"
     ]
    },
    {
     "name": "stderr",
     "output_type": "stream",
     "text": [
      "100%|██████████| 10000/10000 [00:04<00:00, 2306.56it/s]\n",
      "  4%|▍         | 435/10000 [00:00<00:04, 2166.21it/s]"
     ]
    },
    {
     "name": "stdout",
     "output_type": "stream",
     "text": [
      "length of party_relations_1: 10000\n"
     ]
    },
    {
     "name": "stderr",
     "output_type": "stream",
     "text": [
      "100%|██████████| 10000/10000 [00:04<00:00, 2240.39it/s]\n",
      "  2%|▏         | 232/10000 [00:00<00:04, 2319.53it/s]"
     ]
    },
    {
     "name": "stdout",
     "output_type": "stream",
     "text": [
      "length of party_relations_2: 10000\n"
     ]
    },
    {
     "name": "stderr",
     "output_type": "stream",
     "text": [
      "100%|██████████| 10000/10000 [00:04<00:00, 2116.17it/s]\n",
      "  5%|▍         | 456/10000 [00:00<00:04, 2274.48it/s]"
     ]
    },
    {
     "name": "stdout",
     "output_type": "stream",
     "text": [
      "length of party_relations_3: 10000\n"
     ]
    },
    {
     "name": "stderr",
     "output_type": "stream",
     "text": [
      "100%|██████████| 10000/10000 [00:04<00:00, 2255.39it/s]\n",
      "  5%|▌         | 522/10000 [00:00<00:03, 2605.13it/s]"
     ]
    },
    {
     "name": "stdout",
     "output_type": "stream",
     "text": [
      "length of party_relations_4: 10000\n"
     ]
    },
    {
     "name": "stderr",
     "output_type": "stream",
     "text": [
      "100%|██████████| 10000/10000 [00:04<00:00, 2048.99it/s]\n"
     ]
    }
   ],
   "source": [
    "for num in range(5):\n",
    "    network(num)"
   ]
  },
  {
   "cell_type": "code",
   "execution_count": 12,
   "metadata": {},
   "outputs": [
    {
     "name": "stderr",
     "output_type": "stream",
     "text": [
      "  4%|▍         | 381/10000 [00:00<00:05, 1886.36it/s]"
     ]
    },
    {
     "name": "stdout",
     "output_type": "stream",
     "text": [
      "length of party_relations_5: 10000\n"
     ]
    },
    {
     "name": "stderr",
     "output_type": "stream",
     "text": [
      "100%|██████████| 10000/10000 [00:05<00:00, 1968.07it/s]\n",
      "  5%|▍         | 457/10000 [00:00<00:04, 2252.22it/s]"
     ]
    },
    {
     "name": "stdout",
     "output_type": "stream",
     "text": [
      "length of party_relations_6: 10000\n"
     ]
    },
    {
     "name": "stderr",
     "output_type": "stream",
     "text": [
      "100%|██████████| 10000/10000 [00:05<00:00, 1908.47it/s]\n",
      "  5%|▍         | 481/10000 [00:00<00:03, 2398.32it/s]"
     ]
    },
    {
     "name": "stdout",
     "output_type": "stream",
     "text": [
      "length of party_relations_7: 10000\n"
     ]
    },
    {
     "name": "stderr",
     "output_type": "stream",
     "text": [
      "100%|██████████| 10000/10000 [00:05<00:00, 1903.02it/s]\n",
      "  2%|▏         | 235/10000 [00:00<00:04, 2259.11it/s]"
     ]
    },
    {
     "name": "stdout",
     "output_type": "stream",
     "text": [
      "length of party_relations_8: 10000\n"
     ]
    },
    {
     "name": "stderr",
     "output_type": "stream",
     "text": [
      "100%|██████████| 10000/10000 [00:05<00:00, 1904.52it/s]\n",
      "  2%|▏         | 168/10000 [00:00<00:05, 1668.75it/s]"
     ]
    },
    {
     "name": "stdout",
     "output_type": "stream",
     "text": [
      "length of party_relations_9: 10000\n"
     ]
    },
    {
     "name": "stderr",
     "output_type": "stream",
     "text": [
      "100%|██████████| 10000/10000 [00:05<00:00, 1947.01it/s]\n"
     ]
    }
   ],
   "source": [
    "for num in range(5,10):\n",
    "    network(num)"
   ]
  },
  {
   "cell_type": "code",
   "execution_count": 13,
   "metadata": {},
   "outputs": [
    {
     "name": "stderr",
     "output_type": "stream",
     "text": [
      "  2%|▏         | 233/10000 [00:00<00:04, 2325.10it/s]"
     ]
    },
    {
     "name": "stdout",
     "output_type": "stream",
     "text": [
      "length of party_relations_10: 10000\n"
     ]
    },
    {
     "name": "stderr",
     "output_type": "stream",
     "text": [
      "100%|██████████| 10000/10000 [00:05<00:00, 1929.49it/s]\n",
      "  2%|▏         | 181/10000 [00:00<00:05, 1794.60it/s]"
     ]
    },
    {
     "name": "stdout",
     "output_type": "stream",
     "text": [
      "length of party_relations_11: 10000\n"
     ]
    },
    {
     "name": "stderr",
     "output_type": "stream",
     "text": [
      "100%|██████████| 10000/10000 [00:05<00:00, 1795.75it/s]\n",
      "  2%|▏         | 175/10000 [00:00<00:05, 1743.55it/s]"
     ]
    },
    {
     "name": "stdout",
     "output_type": "stream",
     "text": [
      "length of party_relations_12: 10000\n"
     ]
    },
    {
     "name": "stderr",
     "output_type": "stream",
     "text": [
      "100%|██████████| 10000/10000 [00:05<00:00, 1883.51it/s]\n",
      "  2%|▏         | 222/10000 [00:00<00:04, 2217.98it/s]"
     ]
    },
    {
     "name": "stdout",
     "output_type": "stream",
     "text": [
      "length of party_relations_13: 10000\n"
     ]
    },
    {
     "name": "stderr",
     "output_type": "stream",
     "text": [
      "100%|██████████| 10000/10000 [00:05<00:00, 1737.81it/s]\n",
      "  3%|▎         | 325/10000 [00:00<00:06, 1607.76it/s]"
     ]
    },
    {
     "name": "stdout",
     "output_type": "stream",
     "text": [
      "length of party_relations_14: 10000\n"
     ]
    },
    {
     "name": "stderr",
     "output_type": "stream",
     "text": [
      "100%|██████████| 10000/10000 [00:05<00:00, 1730.92it/s]\n"
     ]
    }
   ],
   "source": [
    "for num in range(10,15):\n",
    "    network(num)"
   ]
  },
  {
   "cell_type": "code",
   "execution_count": 14,
   "metadata": {},
   "outputs": [
    {
     "name": "stderr",
     "output_type": "stream",
     "text": [
      "  2%|▏         | 216/10000 [00:00<00:04, 2157.33it/s]"
     ]
    },
    {
     "name": "stdout",
     "output_type": "stream",
     "text": [
      "length of party_relations_15: 10000\n"
     ]
    },
    {
     "name": "stderr",
     "output_type": "stream",
     "text": [
      "100%|██████████| 10000/10000 [00:05<00:00, 1734.83it/s]\n",
      "  2%|▏         | 209/10000 [00:00<00:04, 2087.83it/s]"
     ]
    },
    {
     "name": "stdout",
     "output_type": "stream",
     "text": [
      "length of party_relations_16: 10000\n"
     ]
    },
    {
     "name": "stderr",
     "output_type": "stream",
     "text": [
      "100%|██████████| 10000/10000 [00:05<00:00, 1783.25it/s]\n",
      "  2%|▏         | 200/10000 [00:00<00:04, 1961.25it/s]"
     ]
    },
    {
     "name": "stdout",
     "output_type": "stream",
     "text": [
      "length of party_relations_17: 10000\n"
     ]
    },
    {
     "name": "stderr",
     "output_type": "stream",
     "text": [
      "100%|██████████| 10000/10000 [00:05<00:00, 1784.45it/s]\n",
      "  3%|▎         | 251/10000 [00:00<00:04, 2382.26it/s]"
     ]
    },
    {
     "name": "stdout",
     "output_type": "stream",
     "text": [
      "length of party_relations_18: 10000\n"
     ]
    },
    {
     "name": "stderr",
     "output_type": "stream",
     "text": [
      "100%|██████████| 10000/10000 [00:05<00:00, 1712.90it/s]\n",
      "  9%|▊         | 184/2124 [00:00<00:01, 1828.43it/s]"
     ]
    },
    {
     "name": "stdout",
     "output_type": "stream",
     "text": [
      "length of party_relations_19: 2124\n"
     ]
    },
    {
     "name": "stderr",
     "output_type": "stream",
     "text": [
      "100%|██████████| 2124/2124 [00:01<00:00, 1781.88it/s]\n"
     ]
    }
   ],
   "source": [
    "for num in range(15,20):\n",
    "    network(num)"
   ]
  },
  {
   "cell_type": "markdown",
   "metadata": {},
   "source": [
    "- 네트워크 구성 결과 node의 수가 2명 이상짜리 파티에 참여한 unique id 수와 동일함"
   ]
  },
  {
   "cell_type": "code",
   "execution_count": 15,
   "metadata": {},
   "outputs": [
    {
     "data": {
      "text/plain": [
       "192120"
      ]
     },
     "execution_count": 15,
     "metadata": {},
     "output_type": "execute_result"
    }
   ],
   "source": [
    "len(G.nodes())"
   ]
  },
  {
   "cell_type": "code",
   "execution_count": 16,
   "metadata": {},
   "outputs": [],
   "source": [
    "# network pickle 파일로 저장하기\n",
    "nx.write_gpickle(G, \"data/test_party_network.gpickle\")\n",
    "# G = nx.read_gpickle(\"data/train_party_network.gpickle\")"
   ]
  },
  {
   "cell_type": "code",
   "execution_count": 21,
   "metadata": {},
   "outputs": [],
   "source": [
    "# network를 sparse matrix로 저장하고 file로 export\n",
    "S = nx.to_scipy_sparse_matrix(G, nodelist=G.nodes())"
   ]
  },
  {
   "cell_type": "code",
   "execution_count": 24,
   "metadata": {},
   "outputs": [],
   "source": [
    "sparse.save_npz(\"data/party_network_test.npz\", S)"
   ]
  },
  {
   "cell_type": "code",
   "execution_count": 25,
   "metadata": {},
   "outputs": [
    {
     "data": {
      "text/plain": [
       "<192120x192120 sparse matrix of type '<class 'numpy.int64'>'\n",
       "\twith 30121996 stored elements in Compressed Sparse Row format>"
      ]
     },
     "execution_count": 25,
     "metadata": {},
     "output_type": "execute_result"
    }
   ],
   "source": [
    "# sparse matrix 불러오기\n",
    "sparse.load_npz(\"data/party_network_test.npz\")"
   ]
  }
 ],
 "metadata": {
  "kernelspec": {
   "display_name": "Python 3",
   "language": "python",
   "name": "python3"
  },
  "language_info": {
   "codemirror_mode": {
    "name": "ipython",
    "version": 3
   },
   "file_extension": ".py",
   "mimetype": "text/x-python",
   "name": "python",
   "nbconvert_exporter": "python",
   "pygments_lexer": "ipython3",
   "version": "3.6.5"
  }
 },
 "nbformat": 4,
 "nbformat_minor": 2
}
